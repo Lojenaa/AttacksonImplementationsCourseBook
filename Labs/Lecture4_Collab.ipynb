{
 "cells": [
  {
   "cell_type": "markdown",
   "metadata": {
    "id": "YeEDddsjJtOu"
   },
   "source": [
    "#Connect to Local Runtime\n",
    "Until google collab will update python version, we need to connect to a local runtime in order to run the notebook on google collab. \n",
    "\n",
    "Follow these steps:\n",
    "\n",
    "https://research.google.com/colaboratory/local-runtimes.html\n",
    "1. install jupyter on your local machine - pip install notebook\n",
    "2. pip install jupyter_http_over_ws\n",
    "3. jupyter serverextension enable --py jupyter_http_over_ws\n",
    "4. jupyter notebook --NotebookApp.allow_origin='https://colab.research.google.com' --port=8889 --NotebookApp.port_retries=0\n",
    "5. In Colaboratory, click the \"Connect\" button and select \"Connect to local runtime...\". Enter the URL from the previous step in the dialog that appears and click the \"Connect\" button. After this, you should now be connected to your local runtime."
   ]
  },
  {
   "cell_type": "code",
   "execution_count": null,
   "metadata": {
    "colab": {
     "base_uri": "https://localhost:8080/"
    },
    "id": "YkMYxSFTHCUm",
    "outputId": "86ed3090-47fa-4178-f5e3-42b8206ba6bb"
   },
   "outputs": [
    {
     "name": "stdout",
     "output_type": "stream",
     "text": [
      "Collecting schemdraw\n",
      "\u001b[?25l  Downloading https://files.pythonhosted.org/packages/38/2e/25c7bb7b9138932158a78bd2d99dab46291917da5ef0ae862d3357224d42/schemdraw-0.10-py3-none-any.whl (82kB)\n",
      "\r",
      "\u001b[K     |████                            | 10kB 17.5MB/s eta 0:00:01\r",
      "\u001b[K     |████████                        | 20kB 19.6MB/s eta 0:00:01\r",
      "\u001b[K     |███████████▉                    | 30kB 16.0MB/s eta 0:00:01\r",
      "\u001b[K     |███████████████▉                | 40kB 14.0MB/s eta 0:00:01\r",
      "\u001b[K     |███████████████████▊            | 51kB 8.1MB/s eta 0:00:01\r",
      "\u001b[K     |███████████████████████▊        | 61kB 8.0MB/s eta 0:00:01\r",
      "\u001b[K     |███████████████████████████▊    | 71kB 8.8MB/s eta 0:00:01\r",
      "\u001b[K     |███████████████████████████████▋| 81kB 9.2MB/s eta 0:00:01\r",
      "\u001b[K     |████████████████████████████████| 92kB 6.1MB/s \n",
      "\u001b[?25hInstalling collected packages: schemdraw\n",
      "Successfully installed schemdraw-0.10\n",
      "Requirement already satisfied: ipywidgets in /usr/local/lib/python3.7/dist-packages (7.6.3)\n",
      "Requirement already satisfied: traitlets>=4.3.1 in /usr/local/lib/python3.7/dist-packages (from ipywidgets) (5.0.5)\n",
      "Requirement already satisfied: jupyterlab-widgets>=1.0.0; python_version >= \"3.6\" in /usr/local/lib/python3.7/dist-packages (from ipywidgets) (1.0.0)\n",
      "Requirement already satisfied: widgetsnbextension~=3.5.0 in /usr/local/lib/python3.7/dist-packages (from ipywidgets) (3.5.1)\n",
      "Requirement already satisfied: ipython>=4.0.0; python_version >= \"3.3\" in /usr/local/lib/python3.7/dist-packages (from ipywidgets) (5.5.0)\n",
      "Requirement already satisfied: nbformat>=4.2.0 in /usr/local/lib/python3.7/dist-packages (from ipywidgets) (5.1.3)\n",
      "Requirement already satisfied: ipykernel>=4.5.1 in /usr/local/lib/python3.7/dist-packages (from ipywidgets) (4.10.1)\n",
      "Requirement already satisfied: ipython-genutils in /usr/local/lib/python3.7/dist-packages (from traitlets>=4.3.1->ipywidgets) (0.2.0)\n",
      "Requirement already satisfied: notebook>=4.4.1 in /usr/local/lib/python3.7/dist-packages (from widgetsnbextension~=3.5.0->ipywidgets) (5.3.1)\n",
      "Requirement already satisfied: simplegeneric>0.8 in /usr/local/lib/python3.7/dist-packages (from ipython>=4.0.0; python_version >= \"3.3\"->ipywidgets) (0.8.1)\n",
      "Requirement already satisfied: pexpect; sys_platform != \"win32\" in /usr/local/lib/python3.7/dist-packages (from ipython>=4.0.0; python_version >= \"3.3\"->ipywidgets) (4.8.0)\n",
      "Requirement already satisfied: prompt-toolkit<2.0.0,>=1.0.4 in /usr/local/lib/python3.7/dist-packages (from ipython>=4.0.0; python_version >= \"3.3\"->ipywidgets) (1.0.18)\n",
      "Requirement already satisfied: pickleshare in /usr/local/lib/python3.7/dist-packages (from ipython>=4.0.0; python_version >= \"3.3\"->ipywidgets) (0.7.5)\n",
      "Requirement already satisfied: pygments in /usr/local/lib/python3.7/dist-packages (from ipython>=4.0.0; python_version >= \"3.3\"->ipywidgets) (2.6.1)\n",
      "Requirement already satisfied: decorator in /usr/local/lib/python3.7/dist-packages (from ipython>=4.0.0; python_version >= \"3.3\"->ipywidgets) (4.4.2)\n",
      "Requirement already satisfied: setuptools>=18.5 in /usr/local/lib/python3.7/dist-packages (from ipython>=4.0.0; python_version >= \"3.3\"->ipywidgets) (57.0.0)\n",
      "Requirement already satisfied: jsonschema!=2.5.0,>=2.4 in /usr/local/lib/python3.7/dist-packages (from nbformat>=4.2.0->ipywidgets) (2.6.0)\n",
      "Requirement already satisfied: jupyter-core in /usr/local/lib/python3.7/dist-packages (from nbformat>=4.2.0->ipywidgets) (4.7.1)\n",
      "Requirement already satisfied: jupyter-client in /usr/local/lib/python3.7/dist-packages (from ipykernel>=4.5.1->ipywidgets) (5.3.5)\n",
      "Requirement already satisfied: tornado>=4.0 in /usr/local/lib/python3.7/dist-packages (from ipykernel>=4.5.1->ipywidgets) (5.1.1)\n",
      "Requirement already satisfied: Send2Trash in /usr/local/lib/python3.7/dist-packages (from notebook>=4.4.1->widgetsnbextension~=3.5.0->ipywidgets) (1.5.0)\n",
      "Requirement already satisfied: terminado>=0.8.1 in /usr/local/lib/python3.7/dist-packages (from notebook>=4.4.1->widgetsnbextension~=3.5.0->ipywidgets) (0.10.1)\n",
      "Requirement already satisfied: jinja2 in /usr/local/lib/python3.7/dist-packages (from notebook>=4.4.1->widgetsnbextension~=3.5.0->ipywidgets) (2.11.3)\n",
      "Requirement already satisfied: nbconvert in /usr/local/lib/python3.7/dist-packages (from notebook>=4.4.1->widgetsnbextension~=3.5.0->ipywidgets) (5.6.1)\n",
      "Requirement already satisfied: ptyprocess>=0.5 in /usr/local/lib/python3.7/dist-packages (from pexpect; sys_platform != \"win32\"->ipython>=4.0.0; python_version >= \"3.3\"->ipywidgets) (0.7.0)\n",
      "Requirement already satisfied: wcwidth in /usr/local/lib/python3.7/dist-packages (from prompt-toolkit<2.0.0,>=1.0.4->ipython>=4.0.0; python_version >= \"3.3\"->ipywidgets) (0.2.5)\n",
      "Requirement already satisfied: six>=1.9.0 in /usr/local/lib/python3.7/dist-packages (from prompt-toolkit<2.0.0,>=1.0.4->ipython>=4.0.0; python_version >= \"3.3\"->ipywidgets) (1.15.0)\n",
      "Requirement already satisfied: pyzmq>=13 in /usr/local/lib/python3.7/dist-packages (from jupyter-client->ipykernel>=4.5.1->ipywidgets) (22.1.0)\n",
      "Requirement already satisfied: python-dateutil>=2.1 in /usr/local/lib/python3.7/dist-packages (from jupyter-client->ipykernel>=4.5.1->ipywidgets) (2.8.1)\n",
      "Requirement already satisfied: MarkupSafe>=0.23 in /usr/local/lib/python3.7/dist-packages (from jinja2->notebook>=4.4.1->widgetsnbextension~=3.5.0->ipywidgets) (2.0.1)\n",
      "Requirement already satisfied: defusedxml in /usr/local/lib/python3.7/dist-packages (from nbconvert->notebook>=4.4.1->widgetsnbextension~=3.5.0->ipywidgets) (0.7.1)\n",
      "Requirement already satisfied: testpath in /usr/local/lib/python3.7/dist-packages (from nbconvert->notebook>=4.4.1->widgetsnbextension~=3.5.0->ipywidgets) (0.5.0)\n",
      "Requirement already satisfied: entrypoints>=0.2.2 in /usr/local/lib/python3.7/dist-packages (from nbconvert->notebook>=4.4.1->widgetsnbextension~=3.5.0->ipywidgets) (0.3)\n",
      "Requirement already satisfied: mistune<2,>=0.8.1 in /usr/local/lib/python3.7/dist-packages (from nbconvert->notebook>=4.4.1->widgetsnbextension~=3.5.0->ipywidgets) (0.8.4)\n",
      "Requirement already satisfied: bleach in /usr/local/lib/python3.7/dist-packages (from nbconvert->notebook>=4.4.1->widgetsnbextension~=3.5.0->ipywidgets) (3.3.0)\n",
      "Requirement already satisfied: pandocfilters>=1.4.1 in /usr/local/lib/python3.7/dist-packages (from nbconvert->notebook>=4.4.1->widgetsnbextension~=3.5.0->ipywidgets) (1.4.3)\n",
      "Requirement already satisfied: webencodings in /usr/local/lib/python3.7/dist-packages (from bleach->nbconvert->notebook>=4.4.1->widgetsnbextension~=3.5.0->ipywidgets) (0.5.1)\n",
      "Requirement already satisfied: packaging in /usr/local/lib/python3.7/dist-packages (from bleach->nbconvert->notebook>=4.4.1->widgetsnbextension~=3.5.0->ipywidgets) (20.9)\n",
      "Requirement already satisfied: pyparsing>=2.0.2 in /usr/local/lib/python3.7/dist-packages (from packaging->bleach->nbconvert->notebook>=4.4.1->widgetsnbextension~=3.5.0->ipywidgets) (2.4.7)\n",
      "Enabling notebook extension jupyter-js-widgets/extension...\n",
      "      - Validating: \u001b[32mOK\u001b[0m\n",
      "Requirement already satisfied: matplotlib in /usr/local/lib/python3.7/dist-packages (3.2.2)\n",
      "Requirement already satisfied: numpy>=1.11 in /usr/local/lib/python3.7/dist-packages (from matplotlib) (1.19.5)\n",
      "Requirement already satisfied: kiwisolver>=1.0.1 in /usr/local/lib/python3.7/dist-packages (from matplotlib) (1.3.1)\n",
      "Requirement already satisfied: python-dateutil>=2.1 in /usr/local/lib/python3.7/dist-packages (from matplotlib) (2.8.1)\n",
      "Requirement already satisfied: cycler>=0.10 in /usr/local/lib/python3.7/dist-packages (from matplotlib) (0.10.0)\n",
      "Requirement already satisfied: pyparsing!=2.0.4,!=2.1.2,!=2.1.6,>=2.0.1 in /usr/local/lib/python3.7/dist-packages (from matplotlib) (2.4.7)\n",
      "Requirement already satisfied: six>=1.5 in /usr/local/lib/python3.7/dist-packages (from python-dateutil>=2.1->matplotlib) (1.15.0)\n"
     ]
    }
   ],
   "source": [
    "!pip install schemdraw\n",
    "!pip install ipywidgets\n",
    "!jupyter nbextension enable --py widgetsnbextension\n",
    "!pip install matplotlib"
   ]
  },
  {
   "cell_type": "code",
   "execution_count": null,
   "metadata": {
    "id": "IvW_S7AyHF0I"
   },
   "outputs": [],
   "source": [
    "import schemdraw\n",
    "import schemdraw.elements as elm\n",
    "import matplotlib.pyplot as plt\n",
    "from ipywidgets import widgets, HBox, interact, Layout\n",
    "from IPython.display import display, clear_output\n",
    "from schemdraw import logic"
   ]
  },
  {
   "cell_type": "markdown",
   "metadata": {
    "id": "ImqkD7rJHQPc"
   },
   "source": [
    "## Ohm's Law\n",
    "Ohm's law defines the relationship between the Voltage, Current and Resistance in a circuit: The voltage is equal to the current multiplied by the resistance of the load.\n",
    "\n",
    "$$\\large V = I \\cdot R $$"
   ]
  },
  {
   "cell_type": "code",
   "execution_count": null,
   "metadata": {
    "colab": {
     "base_uri": "https://localhost:8080/",
     "height": 286,
     "referenced_widgets": [
      "519dd7a23df8420391dd6eebb627292c",
      "8950745c9f504d27b4ef3813b82d81e6",
      "d96585996e5145f6a2f59eda4c16f1c0",
      "ab16061f1a58458e9eb79628525c24bd",
      "4732cbbbf0bc45dbab790d035a8e91b4",
      "60fca2a7ab1f40729b7f789c7dad0802",
      "db7effa389014cc181c96acc26a6eb97",
      "d72a39d5623b45169a449e9d267d6cc8",
      "3a03c3e494774c04b1c0b31ac3dfe56e",
      "2475df5d5db6444a8894107386e526e0"
     ]
    },
    "id": "j3HaOTjE_S1Q",
    "outputId": "36ac2dc1-b904-4cf9-bae4-dfd510a4a0a6"
   },
   "outputs": [
    {
     "data": {
      "application/vnd.jupyter.widget-view+json": {
       "model_id": "519dd7a23df8420391dd6eebb627292c",
       "version_major": 2,
       "version_minor": 0
      },
      "text/plain": [
       "interactive(children=(IntSlider(value=1, description='R', max=25, min=1), IntSlider(value=100, description='V'…"
      ]
     },
     "metadata": {
      "tags": []
     },
     "output_type": "display_data"
    }
   ],
   "source": [
    "resistor = widgets.IntSlider(min=1, max=25)\n",
    "voltage = widgets.IntSlider(min=100, max=400)\n",
    "Rs = []\n",
    "Is = []\n",
    "Vs = []\n",
    "\n",
    "def ohms_law(R=1, V=100, plot=True):\n",
    "    d = schemdraw.Drawing()\n",
    "    d.add(elm.Resistor().right().label(f'{R}Ω'))\n",
    "    d.add(elm.Capacitor().down().label(f'{V}V'))\n",
    "    d.add(elm.Line().left())\n",
    "    d.add(elm.Line().up())\n",
    "    if plot:\n",
    "        display(d.draw())\n",
    "    return V/R\n",
    "    \n",
    "@interact(R=resistor, V=voltage)\n",
    "def f(R, V):\n",
    "    I = V/R\n",
    "#     Rs.append(R)\n",
    "#     Is.append(I)\n",
    "#     Vs.append(V)\n",
    "    ohms_law(R, V)\n",
    "    print(f'I (current) is {I:.2f}')\n",
    "#     plt.plot(Rs, Is)"
   ]
  },
  {
   "cell_type": "markdown",
   "metadata": {
    "id": "PfP8lQnk_m-x"
   },
   "source": [
    "## Power\n",
    "Power is the rate at which work is done by the circuit and is measured in Watts. Electricity bills are measured in units of Kilo-Watt x hour, i.e. 1 KWH is 1,000 watts used for an hour, and this is the energy that we used and we need to pay for. \n",
    "\n",
    "$$ \\large Power = \\dfrac {Work} {Time} $$\n",
    "### Measuring Power Consumption\n",
    "### Ampermeter\n",
    "An Amperemeter is a device capable of measuring the amount of electric current going through it. It has a very low resis- tance, so it doesn't affect the circuit it connects to - since it is basically equivalent to an extra piece of conducting wire.\n"
   ]
  },
  {
   "cell_type": "code",
   "execution_count": null,
   "metadata": {
    "colab": {
     "base_uri": "https://localhost:8080/",
     "height": 330,
     "referenced_widgets": [
      "91a72cf3406f4cf5871e579e3b2f1c10",
      "f116ca965222424abc18987a0451e243",
      "aad2eb6119e44fc096e853b82786fcbf",
      "d907227f6b1440589a0a72a5368e4f74",
      "3d1372fb176847f3b12a6c4e37fbaabb",
      "f72c73f5da194fc297b14dd9964bbd06",
      "fd9a56ba273341d09e29d1eff80493b9"
     ]
    },
    "id": "ZW6KFnJ-Hiz2",
    "outputId": "a729521a-537e-4a69-bcd7-d4df2beb0666"
   },
   "outputs": [
    {
     "data": {
      "application/vnd.jupyter.widget-view+json": {
       "model_id": "91a72cf3406f4cf5871e579e3b2f1c10",
       "version_major": 2,
       "version_minor": 0
      },
      "text/plain": [
       "interactive(children=(IntSlider(value=10, description='R', max=200, min=10), Output()), _dom_classes=('widget-…"
      ]
     },
     "metadata": {
      "tags": []
     },
     "output_type": "display_data"
    }
   ],
   "source": [
    "resistor = widgets.IntSlider(min=10, max=200)\n",
    "\n",
    "def Amptermeter(R, V):\n",
    "    I = ohms_law(R, V, plot=False)\n",
    "    d = schemdraw.Drawing()\n",
    "    d.add(elm.sources.MeterA().up().label(f'{I:.2f}'))\n",
    "    d.add(elm.Resistor().left().label(f'{R}Ω'))\n",
    "    d.add(elm.lines.Arrow().up().label('VDD\\n220V'))\n",
    "    display(d.draw())\n",
    "\n",
    "@interact(R=resistor)\n",
    "def f(R):\n",
    "    V = 220 # Volts\n",
    "    Amptermeter(R, V)"
   ]
  },
  {
   "cell_type": "markdown",
   "metadata": {
    "id": "A_igwOBiHuXr"
   },
   "source": [
    "### Voltmeter\n",
    "The Voltmeter's resistance is very very high so the current will not go through it. The Voltmeter is measuring the volt- age drop between one side of the load and the other side of it. To measure the current using a Voltmeter we take a load\n",
    "with a very small resistance and connect it as follows:"
   ]
  },
  {
   "cell_type": "code",
   "execution_count": null,
   "metadata": {
    "colab": {
     "base_uri": "https://localhost:8080/",
     "height": 330,
     "referenced_widgets": [
      "27d8433dfaf04ef58c8518944f7cd64d",
      "4c9e35ef572843e782fd7eab01930bb5",
      "42c8bdeb9dcb4ef08f9bef9dd2a80875",
      "5a0efdda87754f84ad8ea1208b4a038a",
      "26780c601e504fd6a1d5b88b3f91a377",
      "5862536bc84841619e5520d8d3b6d460",
      "33c3d2e4c768447e8dafcd927316ed9b"
     ]
    },
    "id": "YegdyPxWHmBx",
    "outputId": "1bd48cef-28cd-4135-9d2e-602e97eaead3"
   },
   "outputs": [
    {
     "data": {
      "application/vnd.jupyter.widget-view+json": {
       "model_id": "27d8433dfaf04ef58c8518944f7cd64d",
       "version_major": 2,
       "version_minor": 0
      },
      "text/plain": [
       "interactive(children=(IntSlider(value=10, description='R', max=200, min=10), Output()), _dom_classes=('widget-…"
      ]
     },
     "metadata": {
      "tags": []
     },
     "output_type": "display_data"
    }
   ],
   "source": [
    "resistor = widgets.IntSlider(min=10, max=200)\n",
    "\n",
    "def Voltmeter(R, V):\n",
    "    I = ohms_law(R, V, plot=False)\n",
    "    d = schemdraw.Drawing()\n",
    "    d.add(elm.sources.MeterV().up().label(f'{I:.2f}'))\n",
    "    d.add(elm.Resistor().left().label(f'{R}Ω'))\n",
    "    d.add(elm.lines.Arrow().up().label('VDD\\n220V'))\n",
    "    display(d.draw())\n",
    "\n",
    "@interact(R=resistor)\n",
    "def f(R):\n",
    "    V = 220 # Volts\n",
    "    Voltmeter(R, V)"
   ]
  },
  {
   "cell_type": "markdown",
   "metadata": {
    "id": "3iZnOXocKFas"
   },
   "source": [
    "# CMOS - Complementary Metal Oxide Semiconductor\n",
    "Complementary Metal Oxide Semiconductor (CMOS) is a method for creating logical gates. Its core concept is based on using a \"pull up network\" (Vdd) denoting a logical 1 and a \"pull down network\" (Vss) denoting a logical 0. Then, a set of connections and transistors create a closed circuit of either the pull up or the pull down network with the output\n",
    "terminal \"Q\", depending on the value of the input termi-\n",
    "nal(s)."
   ]
  },
  {
   "cell_type": "markdown",
   "metadata": {
    "id": "aI6ddwyDKJmI"
   },
   "source": [
    "###  NOT Gate CMOS\n",
    "When the voltage of input A is low (A=0), the upper transis- tor's channel is closed (since this is a PMOS transistor that closes the circuit when it gets a 0 input signal) and we have a connection between Vdd(1) and Q, so Q = 1. When the voltage of input A is high (A=1), the lower transistor's cir- cuit is closed (since it is an NMOS transistor) and we have a connection between Vss(0) and Q, so Q = 0. It is trivial to see that we've implemented a logical NOT operation with A being the input and Q being the output."
   ]
  },
  {
   "cell_type": "code",
   "execution_count": null,
   "metadata": {
    "colab": {
     "base_uri": "https://localhost:8080/",
     "height": 190,
     "referenced_widgets": [
      "7764929bdf9f4401bfefe48e0def4a01",
      "de581af6d79d4f208501cc741c9f8eea",
      "a91ef68f0ba843af96e75d5e11c2aaae",
      "f1d03ecb95d74aa6b9dc32d869ab0784",
      "04df2379e4624042b86fbe4f2c82cc4c",
      "7b8af83102844908a512231f475ae898",
      "d557032c2d2c4b44966c06910b705116",
      "e5a20b323ed94fdbb7ee762858094755",
      "470537f50a194b38856f02f5d1b61e63"
     ]
    },
    "id": "yUBMpP6lJ80A",
    "outputId": "852b2691-8e89-4d7d-8887-69a4c4d436da"
   },
   "outputs": [
    {
     "data": {
      "application/vnd.jupyter.widget-view+json": {
       "model_id": "7764929bdf9f4401bfefe48e0def4a01",
       "version_major": 2,
       "version_minor": 0
      },
      "text/plain": [
       "interactive(children=(Dropdown(description='A', options=(0, 1), value=0), Output()), _dom_classes=('widget-int…"
      ]
     },
     "metadata": {
      "tags": []
     },
     "output_type": "display_data"
    }
   ],
   "source": [
    "@interact(A=[0,1])\n",
    "def logical_not_gate(A):\n",
    "    display(HBox(layout=Layout(padding='35px')))\n",
    "    display(logic.Not().label(f'A={A}', loc='left').label('$\\overline{A}$='+f'{1-A}', loc='right'))"
   ]
  },
  {
   "cell_type": "code",
   "execution_count": null,
   "metadata": {
    "colab": {
     "base_uri": "https://localhost:8080/",
     "height": 297,
     "referenced_widgets": [
      "a3d8a28e952b4394ac24859d5d1452dd",
      "e35cde914dd548d38e990dc8b7a9cdf7",
      "cb2db6463acd46a58e74aae1367da430",
      "412945a183a94bcca91db64d09e361c4",
      "a64bcd44c96244b3990ea1cdbf873f28",
      "7680144146db4b29b7f6242cb0eed805",
      "c9cc6cba68ce4835b40dafcd69145142",
      "d55e9c5475774f1eba0c07f8eb62678a",
      "eb5f7b5242f44d4686285dfbf23cdbc9"
     ]
    },
    "id": "tSxpf1FJJ9Uo",
    "outputId": "4b37e1b9-8fdc-4646-8e5b-67f08fdacaf1"
   },
   "outputs": [
    {
     "data": {
      "application/vnd.jupyter.widget-view+json": {
       "model_id": "a3d8a28e952b4394ac24859d5d1452dd",
       "version_major": 2,
       "version_minor": 0
      },
      "text/plain": [
       "interactive(children=(Dropdown(description='A', options=(0, 1), value=0), Output()), _dom_classes=('widget-int…"
      ]
     },
     "metadata": {
      "tags": []
     },
     "output_type": "display_data"
    }
   ],
   "source": [
    "@interact(A=[0,1])\n",
    "def cmos_not_gate(A):\n",
    "    display(HBox(layout=Layout(padding='35px')))\n",
    "    d = schemdraw.Drawing()\n",
    "    if A==0:\n",
    "        nfet = elm.NFet().left().label('open', color='red', loc='right')\n",
    "        pfet = elm.PFet().label('closed', color='green', loc='right')\n",
    "    else:\n",
    "        nfet = elm.NFet().left().label('closed', color='green', loc='right')\n",
    "        pfet = elm.PFet().label('open', color='red', loc='right')\n",
    "    d.add(nfet)\n",
    "    d.push()\n",
    "    d.add(elm.Line().left().at(nfet.drain).label('VSS:0', loc='left'))  #VSS\n",
    "    d.add(elm.Line().right().at(nfet.drain))\n",
    "    d.pop()\n",
    "    d.add(pfet)\n",
    "    d.add(elm.Line().left().at(pfet.drain).label('VDD:1', loc='left'))#VDD\n",
    "    d.add(elm.Line().right().at(pfet.drain)) \n",
    "    d.add(elm.Line().length(2).right().at(nfet.source).label(f'Q={1-A}', loc='right')) #Q\n",
    "    d.add(elm.Line().length(0.75).down().at(pfet.gate))\n",
    "    d.push()\n",
    "    d.add(elm.Line().length(1).left().label(f'A={A}', loc='left')) #A\n",
    "    d.pop()\n",
    "    d.add(elm.Line().length(0.75).down())\n",
    "    display(d.draw())"
   ]
  },
  {
   "cell_type": "markdown",
   "metadata": {
    "id": "q8qgNo3hKQHt"
   },
   "source": [
    "### NAND Gate CMOS\n"
   ]
  },
  {
   "cell_type": "code",
   "execution_count": null,
   "metadata": {
    "colab": {
     "base_uri": "https://localhost:8080/",
     "height": 228,
     "referenced_widgets": [
      "6b5379d53758418587906e9de3020e0f",
      "2f9de9bf6ffa450492af3137240cf2e9",
      "727ef498c2b74996891f80163c5533ab",
      "beef65bd6d994cbb83a481dd8be48df8",
      "3a5f40da49c145389548d3ccaf35f310",
      "b49c47dc66f145629042aec4be91d763",
      "47b09e184bb5415483f57648a6b5eaeb",
      "520289191d5040d2a3b27cef4571d04b",
      "644160ff8d1b4343ad22e3850295f73a",
      "b61691bb7cbd44d29b326a9d868f9572",
      "05c6a3d601ae4ce496d77248325efe9a",
      "418c923dfa9a449e80c1590fa300cd8f"
     ]
    },
    "id": "Z7gjwdurJ96V",
    "outputId": "efeb30b0-7d46-472e-fee9-82dbb77aa5f4"
   },
   "outputs": [
    {
     "data": {
      "application/vnd.jupyter.widget-view+json": {
       "model_id": "6b5379d53758418587906e9de3020e0f",
       "version_major": 2,
       "version_minor": 0
      },
      "text/plain": [
       "interactive(children=(Dropdown(description='a', options=(0, 1), value=0), Dropdown(description='b', options=(0…"
      ]
     },
     "metadata": {
      "tags": []
     },
     "output_type": "display_data"
    }
   ],
   "source": [
    "@interact(a=[0,1], b=[0,1])\n",
    "def logical_nand_gate(a, b):\n",
    "    display(HBox(layout=Layout(\n",
    "                    padding='35px')))\n",
    "\n",
    "    display(logic.Nand().label(f'A={a}', loc='in1').label(f'B={b}', loc='in2').label(f'A&B = {1-a*b}', loc='right'))"
   ]
  },
  {
   "cell_type": "code",
   "execution_count": null,
   "metadata": {
    "colab": {
     "base_uri": "https://localhost:8080/",
     "height": 432,
     "referenced_widgets": [
      "e2740323616d49eaaacb80d47129a2b9",
      "ef840e8d38644e5c8f74a7b5f0c96f31",
      "3bab7cd32b634ebcbc93b7c5c8c0a09a",
      "80012e6f51bc40cb9257c7791445bf5f",
      "bdbedf3fcac14103b1cf3340c19b37cd",
      "e23c658f505641c89323085399c550e7",
      "d2ff0ce72aab4efa8c3e813de849899d",
      "7ee64c17e51f4609a92b60ad7f92e5ba",
      "f5daa2af70694634a850337504688ec8",
      "8983df30cd84497b95b6bcc59236f5fc",
      "79d5439de1b749bd956d0adb0e2a053b",
      "44b1eeac4aad4c2baef5cbd844e62cec"
     ]
    },
    "id": "9IJVkCMVKTya",
    "outputId": "602cf935-0879-47c8-e074-9ee75191227d"
   },
   "outputs": [
    {
     "data": {
      "application/vnd.jupyter.widget-view+json": {
       "model_id": "e2740323616d49eaaacb80d47129a2b9",
       "version_major": 2,
       "version_minor": 0
      },
      "text/plain": [
       "interactive(children=(Dropdown(description='A', options=(0, 1), value=0), Dropdown(description='B', options=(0…"
      ]
     },
     "metadata": {
      "tags": []
     },
     "output_type": "display_data"
    }
   ],
   "source": [
    "@interact(A=[0,1], B=[0,1])\n",
    "def cmos_not_gate(A,B):\n",
    "    display(HBox(layout=Layout(padding='35px')))\n",
    "    d = schemdraw.Drawing()\n",
    "    if A==0:\n",
    "        nfet_a = elm.NFet().left().label('open', color='red', loc='right')\n",
    "        pfet_a = elm.PFet().label('closed', color='green', loc='right')\n",
    "    else:\n",
    "        nfet_a = elm.NFet().left().label('closed', color='green', loc='right')\n",
    "        pfet_a = elm.PFet().left().label('open', color='red', loc='right')\n",
    "    if B==0:\n",
    "        nfet_b = elm.NFet().left().label('open', color='red', loc='right')\n",
    "        pfet_b = elm.PFet().label('closed', color='green', loc='right')\n",
    "    else:\n",
    "        nfet_b = elm.NFet().left().label('closed', color='green', loc='right')\n",
    "        pfet_b = elm.PFet().label('open', color='red', loc='right')\n",
    "\n",
    "    d.add(nfet_b)\n",
    "    \n",
    "    d.push()\n",
    "    \n",
    "    line_b_left = d.add(elm.Line().length(0.5).left().at(nfet_b.gate))\n",
    "    d.add(elm.Line().length(0.5).label(f'B={B}', loc='left')) #B\n",
    "    line_b_down = d.add(elm.Line().down().length(1).at(line_b_left.end))    \n",
    "    d.add(elm.Line().down().length(1).at(nfet_b.drain))\n",
    "    d.push()\n",
    "    d.add(elm.Line().left().label('VSS:0', loc='left'))  #VSS\n",
    "    d.pop()\n",
    "    d.add(elm.Line().length(7).right())\n",
    "    \n",
    "    d.pop()\n",
    "    \n",
    "    d.add(nfet_a)\n",
    "    d.add(pfet_a)\n",
    "    \n",
    "    d.add(elm.Line().length(0.75).down().at(pfet_a.gate))\n",
    "    d.push()\n",
    "    d.add(elm.Line().length(1).left().label(f'A={A}', loc='left')) #A\n",
    "    d.pop()\n",
    "    d.add(elm.Line().length(0.75).down())\n",
    "    \n",
    "    d.add(elm.Line().left().at(pfet_a.drain).label('VDD:1', loc='left'))#VDD\n",
    "    vdd_line = d.add(elm.Line().right().at(pfet_a.drain)) \n",
    "    \n",
    "    d.add(pfet_b.right().reverse())\n",
    "    d.add(elm.Line().right().at(vdd_line.start).to(pfet_b.source))\n",
    "    d.add(elm.Line())\n",
    "    d.add(elm.Line().length(1).left().at(pfet_b.gate))\n",
    "    d.add(elm.Line().length(0.75).down())\n",
    "    open_dot = d.add(elm.Dot(open=True))\n",
    "    d.add(elm.Line().length(3.25).down())\n",
    "    d.add(elm.Line().left().to(nfet_b.drain))\n",
    "    d.add(elm.Dot(open=True))\n",
    "    d.add(elm.Line().left().to(line_b_down.end))\n",
    "\n",
    "\n",
    "    \n",
    "    d.add(elm.Line().length(2).right().at(nfet_a.source).to(pfet_b.drain)) #Q    \n",
    "    d.add(elm.Dot())\n",
    "    d.add(elm.Line().right().label(f'Q={1-A*B}', loc='right'))\n",
    "    display(d.draw())"
   ]
  },
  {
   "cell_type": "markdown",
   "metadata": {
    "id": "wmWnHw-wKduw"
   },
   "source": [
    "# FlipFlop\n",
    "A flip-flop is a circuit, comprised of two latches that has two stable states and can be used to store a single bit of data. The circuit can be made to change state by signals applied to one or more control inputs and will have one or two outputs. It is the basic storage element in sequential logic.\n",
    "\n",
    "ref: https://schemdraw.readthedocs.io/en/latest/gallery/logicgate.html#s-r-latch-gates"
   ]
  },
  {
   "cell_type": "code",
   "execution_count": null,
   "metadata": {
    "colab": {
     "base_uri": "https://localhost:8080/",
     "height": 346,
     "referenced_widgets": [
      "30c797773342472495739be92846e999",
      "c302cfcf6c124560bbbc83c6e7f838d8",
      "4683ec86b1d94c6ea9e7199d5c513692",
      "302ab33e40144932bfc4539f668e45fa",
      "a7081c36311c4748b9857f01629e182e",
      "21e8a64ae33b4c419dbe76f4300b59ca",
      "662280ef74d940698257997d8b3f7f7b",
      "b21121f5f5c642a193166883f27f31cd",
      "706a79b8bbd84034ba0bdb54c64b185f",
      "6376f606dacb463caf62b350c37f4f7a",
      "124a077d4bfd46f4aacee890efafa35f",
      "a0420abf762640ed8825560402b5aadb"
     ]
    },
    "id": "SiBM6h6UKgbi",
    "outputId": "2e139a84-b9cc-4ce7-a5bd-a7c0f63aae31"
   },
   "outputs": [
    {
     "name": "stdout",
     "output_type": "stream",
     "text": [
      "initial state Q = 0\n"
     ]
    },
    {
     "data": {
      "application/vnd.jupyter.widget-view+json": {
       "model_id": "30c797773342472495739be92846e999",
       "version_major": 2,
       "version_minor": 0
      },
      "text/plain": [
       "interactive(children=(Dropdown(description='R', options=(0, 1), value=0), Dropdown(description='S', options=(0…"
      ]
     },
     "metadata": {
      "tags": []
     },
     "output_type": "display_data"
    }
   ],
   "source": [
    "q = 0\n",
    "qb = 1\n",
    "print('initial state Q = 0')\n",
    "@interact(R=[0,1], S=[0,1])\n",
    "def flipflop(R,S):\n",
    "    global q, qb \n",
    "    display(HBox(layout=Layout(padding='35px')))\n",
    "\n",
    "    if S == 1 and R == 0:\n",
    "        q = 1\n",
    "        qb = 0\n",
    "    elif S == 0 and R == 1:\n",
    "        q = 0\n",
    "        qb = 1\n",
    "    elif S == 1 and R == 1:\n",
    "        q = '???'\n",
    "        qb = '???'\n",
    "    \n",
    "    d = schemdraw.Drawing()\n",
    "    \n",
    "    d += logic.Line().length(d.unit/4).label('R', 'left').color('red' if R == 1 else 'black')\n",
    "    d += (G1 := logic.Nor().anchor('in1'))\n",
    "    d += logic.Line().length(d.unit/4).color('red' if R == 1 else 'black')\n",
    "    d += (Q := logic.Dot().color('red' if R == 1 else 'black'))\n",
    "    d += logic.Line().length(d.unit/4).label('Q='+str(q), 'right').color('red' if R == 1 else 'black')\n",
    "    d += (G2 := logic.Nor().at((G1.in1[0],G1.in1[1]-2.5)).anchor('in1'))\n",
    "    d += logic.Line().length(d.unit/4).color('red' if S == 1 else 'black')\n",
    "    d += (Qb := logic.Dot().color('red' if S == 1 else 'black'))\n",
    "    d += logic.Line().length(d.unit/4).label('$\\overline{Q}=$'+str(qb), 'right').color('red' if S == 1 else 'black')\n",
    "    d += (S1 := logic.Line().up().at(G2.in1).length(d.unit/6)).color('red' if R == 1 else 'black')\n",
    "    d += logic.Line().down().at(Q.start).length(d.unit/6).color('red' if R == 1 else 'black')\n",
    "    d += logic.Line().to(S1.end).color('red' if R == 1 else 'black')\n",
    "    d += (R1 := logic.Line().down().at(G1.in2).length(d.unit/6).color('red' if S == 1 else 'black'))\n",
    "    d += logic.Line().up().at(Qb.start).length(d.unit/6).color('red' if S == 1 else 'black')\n",
    "    d += logic.Line().to(R1.end).color('red' if S == 1 else 'black')\n",
    "    d += logic.Line().left().at(G2.in2).length(d.unit/4).label('S', 'left').color('red' if S == 1 else 'black')\n",
    "    \n",
    "    display(d)"
   ]
  },
  {
   "cell_type": "code",
   "execution_count": null,
   "metadata": {
    "colab": {
     "base_uri": "https://localhost:8080/",
     "height": 246,
     "referenced_widgets": [
      "a0a9d304c76942028a745a2010fadb16",
      "aff5914f32484ea8a6ef33f3c1106d62",
      "a8b844e576a34d1ea37cca1bcdfe4e69",
      "488c685cebd449e89f4179ac65900a45",
      "8cef3829553e408f8fe842e50f1939c8",
      "2e3df78008ca4776b4a5a0acc5976e7c",
      "a9ebe90b6c6b436c9f34a68874549852",
      "dafff450446142edbb5842064c32f657",
      "d2b0105752034c82b3456c7d1a1aed21",
      "75f89b25b49546d4b50642104bf0825e",
      "849fab9bfa5541b5bdbe8bca2ec300fb",
      "4bdac03986dc40daafae91ff49ca264d",
      "c151f9bc12114f50bc8974bd257c4822"
     ]
    },
    "id": "zPzGLZhWKkgx",
    "outputId": "1053fba2-4dc8-4366-d34c-5dc9badebb27"
   },
   "outputs": [
    {
     "data": {
      "application/vnd.jupyter.widget-view+json": {
       "model_id": "a0a9d304c76942028a745a2010fadb16",
       "version_major": 2,
       "version_minor": 0
      },
      "text/plain": [
       "interactive(children=(Dropdown(description='prevq', options=(0, 1), value=0), Dropdown(description='d', option…"
      ]
     },
     "metadata": {
      "tags": []
     },
     "output_type": "display_data"
    }
   ],
   "source": [
    "@interact(prevq=[0,1], d=[0,1], c=[0,1])\n",
    "def flipflop(prevq, d, c):\n",
    "    ff1 = elm.Ic(pins=[elm.IcPin(name='>', pin=f'c={c}', side='left'),\n",
    "                  elm.IcPin(pin=f'D={d}', side='left'),\n",
    "#                   elm.IcPin(pin=f'R={r}', side='bottom'),\n",
    "#                   elm.IcPin(pin=f'S={s}', side='top'),\n",
    "                  elm.IcPin(pin='$\\overline{Q}$'f'={abs(1-d) if c else abs(1-prevq)}', side='right', anchorname='QBAR'),\n",
    "                  elm.IcPin(pin=f'Q={d if c else prevq}', side='right')],                      \n",
    "#             edgepadW = .5,  # Make it a bit wider\n",
    "            pinspacing=1)\n",
    "    display(ff1)"
   ]
  }
 ],
 "metadata": {
  "colab": {
   "name": "Chapter4_Collab.ipynb",
   "provenance": []
  },
  "kernelspec": {
   "display_name": "Python 3",
   "language": "python",
   "name": "python3"
  },
  "language_info": {
   "codemirror_mode": {
    "name": "ipython",
    "version": 3
   },
   "file_extension": ".py",
   "mimetype": "text/x-python",
   "name": "python",
   "nbconvert_exporter": "python",
   "pygments_lexer": "ipython3",
   "version": "3.9.0"
  },
  "widgets": {
   "application/vnd.jupyter.widget-state+json": {
    "04df2379e4624042b86fbe4f2c82cc4c": {
     "model_module": "@jupyter-widgets/base",
     "model_name": "LayoutModel",
     "state": {
      "_model_module": "@jupyter-widgets/base",
      "_model_module_version": "1.2.0",
      "_model_name": "LayoutModel",
      "_view_count": null,
      "_view_module": "@jupyter-widgets/base",
      "_view_module_version": "1.2.0",
      "_view_name": "LayoutView",
      "align_content": null,
      "align_items": null,
      "align_self": null,
      "border": null,
      "bottom": null,
      "display": null,
      "flex": null,
      "flex_flow": null,
      "grid_area": null,
      "grid_auto_columns": null,
      "grid_auto_flow": null,
      "grid_auto_rows": null,
      "grid_column": null,
      "grid_gap": null,
      "grid_row": null,
      "grid_template_areas": null,
      "grid_template_columns": null,
      "grid_template_rows": null,
      "height": null,
      "justify_content": null,
      "justify_items": null,
      "left": null,
      "margin": null,
      "max_height": null,
      "max_width": null,
      "min_height": null,
      "min_width": null,
      "object_fit": null,
      "object_position": null,
      "order": null,
      "overflow": null,
      "overflow_x": null,
      "overflow_y": null,
      "padding": null,
      "right": null,
      "top": null,
      "visibility": null,
      "width": null
     }
    },
    "05c6a3d601ae4ce496d77248325efe9a": {
     "model_module": "@jupyter-widgets/base",
     "model_name": "LayoutModel",
     "state": {
      "_model_module": "@jupyter-widgets/base",
      "_model_module_version": "1.2.0",
      "_model_name": "LayoutModel",
      "_view_count": null,
      "_view_module": "@jupyter-widgets/base",
      "_view_module_version": "1.2.0",
      "_view_name": "LayoutView",
      "align_content": null,
      "align_items": null,
      "align_self": null,
      "border": null,
      "bottom": null,
      "display": null,
      "flex": null,
      "flex_flow": null,
      "grid_area": null,
      "grid_auto_columns": null,
      "grid_auto_flow": null,
      "grid_auto_rows": null,
      "grid_column": null,
      "grid_gap": null,
      "grid_row": null,
      "grid_template_areas": null,
      "grid_template_columns": null,
      "grid_template_rows": null,
      "height": null,
      "justify_content": null,
      "justify_items": null,
      "left": null,
      "margin": null,
      "max_height": null,
      "max_width": null,
      "min_height": null,
      "min_width": null,
      "object_fit": null,
      "object_position": null,
      "order": null,
      "overflow": null,
      "overflow_x": null,
      "overflow_y": null,
      "padding": null,
      "right": null,
      "top": null,
      "visibility": null,
      "width": null
     }
    },
    "124a077d4bfd46f4aacee890efafa35f": {
     "model_module": "@jupyter-widgets/base",
     "model_name": "LayoutModel",
     "state": {
      "_model_module": "@jupyter-widgets/base",
      "_model_module_version": "1.2.0",
      "_model_name": "LayoutModel",
      "_view_count": null,
      "_view_module": "@jupyter-widgets/base",
      "_view_module_version": "1.2.0",
      "_view_name": "LayoutView",
      "align_content": null,
      "align_items": null,
      "align_self": null,
      "border": null,
      "bottom": null,
      "display": null,
      "flex": null,
      "flex_flow": null,
      "grid_area": null,
      "grid_auto_columns": null,
      "grid_auto_flow": null,
      "grid_auto_rows": null,
      "grid_column": null,
      "grid_gap": null,
      "grid_row": null,
      "grid_template_areas": null,
      "grid_template_columns": null,
      "grid_template_rows": null,
      "height": null,
      "justify_content": null,
      "justify_items": null,
      "left": null,
      "margin": null,
      "max_height": null,
      "max_width": null,
      "min_height": null,
      "min_width": null,
      "object_fit": null,
      "object_position": null,
      "order": null,
      "overflow": null,
      "overflow_x": null,
      "overflow_y": null,
      "padding": null,
      "right": null,
      "top": null,
      "visibility": null,
      "width": null
     }
    },
    "21e8a64ae33b4c419dbe76f4300b59ca": {
     "model_module": "@jupyter-widgets/base",
     "model_name": "LayoutModel",
     "state": {
      "_model_module": "@jupyter-widgets/base",
      "_model_module_version": "1.2.0",
      "_model_name": "LayoutModel",
      "_view_count": null,
      "_view_module": "@jupyter-widgets/base",
      "_view_module_version": "1.2.0",
      "_view_name": "LayoutView",
      "align_content": null,
      "align_items": null,
      "align_self": null,
      "border": null,
      "bottom": null,
      "display": null,
      "flex": null,
      "flex_flow": null,
      "grid_area": null,
      "grid_auto_columns": null,
      "grid_auto_flow": null,
      "grid_auto_rows": null,
      "grid_column": null,
      "grid_gap": null,
      "grid_row": null,
      "grid_template_areas": null,
      "grid_template_columns": null,
      "grid_template_rows": null,
      "height": null,
      "justify_content": null,
      "justify_items": null,
      "left": null,
      "margin": null,
      "max_height": null,
      "max_width": null,
      "min_height": null,
      "min_width": null,
      "object_fit": null,
      "object_position": null,
      "order": null,
      "overflow": null,
      "overflow_x": null,
      "overflow_y": null,
      "padding": null,
      "right": null,
      "top": null,
      "visibility": null,
      "width": null
     }
    },
    "2475df5d5db6444a8894107386e526e0": {
     "model_module": "@jupyter-widgets/base",
     "model_name": "LayoutModel",
     "state": {
      "_model_module": "@jupyter-widgets/base",
      "_model_module_version": "1.2.0",
      "_model_name": "LayoutModel",
      "_view_count": null,
      "_view_module": "@jupyter-widgets/base",
      "_view_module_version": "1.2.0",
      "_view_name": "LayoutView",
      "align_content": null,
      "align_items": null,
      "align_self": null,
      "border": null,
      "bottom": null,
      "display": null,
      "flex": null,
      "flex_flow": null,
      "grid_area": null,
      "grid_auto_columns": null,
      "grid_auto_flow": null,
      "grid_auto_rows": null,
      "grid_column": null,
      "grid_gap": null,
      "grid_row": null,
      "grid_template_areas": null,
      "grid_template_columns": null,
      "grid_template_rows": null,
      "height": null,
      "justify_content": null,
      "justify_items": null,
      "left": null,
      "margin": null,
      "max_height": null,
      "max_width": null,
      "min_height": null,
      "min_width": null,
      "object_fit": null,
      "object_position": null,
      "order": null,
      "overflow": null,
      "overflow_x": null,
      "overflow_y": null,
      "padding": null,
      "right": null,
      "top": null,
      "visibility": null,
      "width": null
     }
    },
    "26780c601e504fd6a1d5b88b3f91a377": {
     "model_module": "@jupyter-widgets/base",
     "model_name": "LayoutModel",
     "state": {
      "_model_module": "@jupyter-widgets/base",
      "_model_module_version": "1.2.0",
      "_model_name": "LayoutModel",
      "_view_count": null,
      "_view_module": "@jupyter-widgets/base",
      "_view_module_version": "1.2.0",
      "_view_name": "LayoutView",
      "align_content": null,
      "align_items": null,
      "align_self": null,
      "border": null,
      "bottom": null,
      "display": null,
      "flex": null,
      "flex_flow": null,
      "grid_area": null,
      "grid_auto_columns": null,
      "grid_auto_flow": null,
      "grid_auto_rows": null,
      "grid_column": null,
      "grid_gap": null,
      "grid_row": null,
      "grid_template_areas": null,
      "grid_template_columns": null,
      "grid_template_rows": null,
      "height": null,
      "justify_content": null,
      "justify_items": null,
      "left": null,
      "margin": null,
      "max_height": null,
      "max_width": null,
      "min_height": null,
      "min_width": null,
      "object_fit": null,
      "object_position": null,
      "order": null,
      "overflow": null,
      "overflow_x": null,
      "overflow_y": null,
      "padding": null,
      "right": null,
      "top": null,
      "visibility": null,
      "width": null
     }
    },
    "27d8433dfaf04ef58c8518944f7cd64d": {
     "model_module": "@jupyter-widgets/controls",
     "model_name": "VBoxModel",
     "state": {
      "_dom_classes": [
       "widget-interact"
      ],
      "_model_module": "@jupyter-widgets/controls",
      "_model_module_version": "1.5.0",
      "_model_name": "VBoxModel",
      "_view_count": null,
      "_view_module": "@jupyter-widgets/controls",
      "_view_module_version": "1.5.0",
      "_view_name": "VBoxView",
      "box_style": "",
      "children": [
       "IPY_MODEL_4c9e35ef572843e782fd7eab01930bb5",
       "IPY_MODEL_42c8bdeb9dcb4ef08f9bef9dd2a80875"
      ],
      "layout": "IPY_MODEL_5a0efdda87754f84ad8ea1208b4a038a"
     }
    },
    "2e3df78008ca4776b4a5a0acc5976e7c": {
     "model_module": "@jupyter-widgets/base",
     "model_name": "LayoutModel",
     "state": {
      "_model_module": "@jupyter-widgets/base",
      "_model_module_version": "1.2.0",
      "_model_name": "LayoutModel",
      "_view_count": null,
      "_view_module": "@jupyter-widgets/base",
      "_view_module_version": "1.2.0",
      "_view_name": "LayoutView",
      "align_content": null,
      "align_items": null,
      "align_self": null,
      "border": null,
      "bottom": null,
      "display": null,
      "flex": null,
      "flex_flow": null,
      "grid_area": null,
      "grid_auto_columns": null,
      "grid_auto_flow": null,
      "grid_auto_rows": null,
      "grid_column": null,
      "grid_gap": null,
      "grid_row": null,
      "grid_template_areas": null,
      "grid_template_columns": null,
      "grid_template_rows": null,
      "height": null,
      "justify_content": null,
      "justify_items": null,
      "left": null,
      "margin": null,
      "max_height": null,
      "max_width": null,
      "min_height": null,
      "min_width": null,
      "object_fit": null,
      "object_position": null,
      "order": null,
      "overflow": null,
      "overflow_x": null,
      "overflow_y": null,
      "padding": null,
      "right": null,
      "top": null,
      "visibility": null,
      "width": null
     }
    },
    "2f9de9bf6ffa450492af3137240cf2e9": {
     "model_module": "@jupyter-widgets/controls",
     "model_name": "DropdownModel",
     "state": {
      "_dom_classes": [],
      "_model_module": "@jupyter-widgets/controls",
      "_model_module_version": "1.5.0",
      "_model_name": "DropdownModel",
      "_options_labels": [
       "0",
       "1"
      ],
      "_view_count": null,
      "_view_module": "@jupyter-widgets/controls",
      "_view_module_version": "1.5.0",
      "_view_name": "DropdownView",
      "description": "a",
      "description_tooltip": null,
      "disabled": false,
      "index": 0,
      "layout": "IPY_MODEL_b49c47dc66f145629042aec4be91d763",
      "style": "IPY_MODEL_47b09e184bb5415483f57648a6b5eaeb"
     }
    },
    "302ab33e40144932bfc4539f668e45fa": {
     "model_module": "@jupyter-widgets/output",
     "model_name": "OutputModel",
     "state": {
      "_dom_classes": [],
      "_model_module": "@jupyter-widgets/output",
      "_model_module_version": "1.0.0",
      "_model_name": "OutputModel",
      "_view_count": null,
      "_view_module": "@jupyter-widgets/output",
      "_view_module_version": "1.0.0",
      "_view_name": "OutputView",
      "layout": "IPY_MODEL_124a077d4bfd46f4aacee890efafa35f",
      "msg_id": "",
      "outputs": [
       {
        "application/vnd.jupyter.widget-view+json": {
         "model_id": "6376f606dacb463caf62b350c37f4f7a",
         "version_major": 2,
         "version_minor": 0
        },
        "metadata": {
         "tags": []
        },
        "output_type": "display_data",
        "text/plain": "HBox(layout=Layout(padding='35px'))"
       },
       {
        "image/png": "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\n",
        "image/svg+xml": "<?xml version=\"1.0\" encoding=\"utf-8\" standalone=\"no\"?>\r\n<!DOCTYPE svg PUBLIC \"-//W3C//DTD SVG 1.1//EN\"\r\n  \"http://www.w3.org/Graphics/SVG/1.1/DTD/svg11.dtd\">\r\n<svg height=\"131.02pt\" version=\"1.1\" viewBox=\"0 0 198.8668 131.02\" width=\"198.8668pt\" xmlns=\"http://www.w3.org/2000/svg\" xmlns:xlink=\"http://www.w3.org/1999/xlink\">\r\n <metadata>\r\n  <rdf:RDF xmlns:cc=\"http://creativecommons.org/ns#\" xmlns:dc=\"http://purl.org/dc/elements/1.1/\" xmlns:rdf=\"http://www.w3.org/1999/02/22-rdf-syntax-ns#\">\r\n   <cc:Work>\r\n    <dc:type rdf:resource=\"http://purl.org/dc/dcmitype/StillImage\"/>\r\n    <dc:date>2021-05-25T18:34:54.935036</dc:date>\r\n    <dc:format>image/svg+xml</dc:format>\r\n    <dc:creator>\r\n     <cc:Agent>\r\n      <dc:title>Matplotlib v3.4.2, https://matplotlib.org/</dc:title>\r\n     </cc:Agent>\r\n    </dc:creator>\r\n   </cc:Work>\r\n  </rdf:RDF>\r\n </metadata>\r\n <defs>\r\n  <style type=\"text/css\">*{stroke-linecap:butt;stroke-linejoin:round;}</style>\r\n </defs>\r\n <g id=\"figure_1\">\r\n  <g id=\"patch_1\">\r\n   <path d=\"M 0 131.02 \r\nL 198.8668 131.02 \r\nL 198.8668 0 \r\nL 0 0 \r\nz\r\n\" style=\"fill:none;\"/>\r\n  </g>\r\n  <g id=\"axes_1\">\r\n   <g id=\"patch_2\">\r\n    <path clip-path=\"url(#pf69b6d8fd8)\" d=\"M 98.4288 32.462 \r\nC 99.402626 32.462 100.336697 32.075095 101.025296 31.386496 \r\nC 101.713895 30.697897 102.1008 29.763826 102.1008 28.79 \r\nC 102.1008 27.816174 101.713895 26.882103 101.025296 26.193504 \r\nC 100.336697 25.504905 99.402626 25.118 98.4288 25.118 \r\nC 97.454974 25.118 96.520903 25.504905 95.832304 26.193504 \r\nC 95.143705 26.882103 94.7568 27.816174 94.7568 28.79 \r\nC 94.7568 29.763826 95.143705 30.697897 95.832304 31.386496 \r\nC 96.520903 32.075095 97.454974 32.462 98.4288 32.462 \r\nz\r\n\" style=\"fill:none;stroke:#000000;stroke-linejoin:miter;stroke-width:2;\"/>\r\n   </g>\r\n   <g id=\"patch_3\">\r\n    <path clip-path=\"url(#pf69b6d8fd8)\" d=\"M 98.4288 108.962 \r\nC 99.402626 108.962 100.336697 108.575095 101.025296 107.886496 \r\nC 101.713895 107.197897 102.1008 106.263826 102.1008 105.29 \r\nC 102.1008 104.316174 101.713895 103.382103 101.025296 102.693504 \r\nC 100.336697 102.004905 99.402626 101.618 98.4288 101.618 \r\nC 97.454974 101.618 96.520903 102.004905 95.832304 102.693504 \r\nC 95.143705 103.382103 94.7568 104.316174 94.7568 105.29 \r\nC 94.7568 106.263826 95.143705 107.197897 95.832304 107.886496 \r\nC 96.520903 108.575095 97.454974 108.962 98.4288 108.962 \r\nz\r\n\" style=\"fill:none;stroke:#000000;stroke-linejoin:miter;stroke-width:2;\"/>\r\n   </g>\r\n   <g id=\"line2d_1\">\r\n    <path clip-path=\"url(#pf69b6d8fd8)\" d=\"M 24.3768 21.14 \r\nL 35.8518 21.14 \r\nL 47.3268 21.14 \r\n\" style=\"fill:none;stroke:#000000;stroke-linecap:round;stroke-width:2;\"/>\r\n   </g>\r\n   <g id=\"line2d_2\">\r\n    <path clip-path=\"url(#pf69b6d8fd8)\" d=\"M 58.0368 43.784 \r\nL 75.085371 43.684082 \r\nL 76.833943 43.384327 \r\nL 78.582514 42.884735 \r\nL 80.331086 42.185306 \r\nL 82.079657 41.286041 \r\nL 84.265371 39.880939 \r\nL 86.451086 38.163592 \r\nL 88.6368 36.134 \r\nL 90.822514 33.792163 \r\nL 93.008229 31.138082 \r\nL 94.7568 28.79 \r\nL 94.7568 28.79 \r\nL 92.133943 25.342816 \r\nL 89.948229 22.813633 \r\nL 87.762514 20.596694 \r\nL 85.5768 18.692 \r\nL 83.391086 17.099551 \r\nL 81.205371 15.819347 \r\nL 79.4568 15.02 \r\nL 77.708229 14.42049 \r\nL 75.959657 14.020816 \r\nL 74.211086 13.82098 \r\nL 73.3368 13.796 \r\nL 58.0368 13.796 \r\nL 58.0368 13.796 \r\nL 60.24 16.244 \r\nL 61.63536 18.08 \r\nL 62.8104 19.916 \r\nL 63.76512 21.752 \r\nL 64.49952 23.588 \r\nL 65.0136 25.424 \r\nL 65.30736 27.26 \r\nL 65.3808 29.096 \r\nL 65.23392 30.932 \r\nL 64.86672 32.768 \r\nL 64.2792 34.604 \r\nL 63.47136 36.44 \r\nL 62.4432 38.276 \r\nL 61.19472 40.112 \r\nL 59.72592 41.948 \r\nL 58.0368 43.784 \r\nL 58.0368 43.784 \r\n\" style=\"fill:none;stroke:#000000;stroke-linecap:round;stroke-width:2;\"/>\r\n   </g>\r\n   <g id=\"line2d_3\">\r\n    <path clip-path=\"url(#pf69b6d8fd8)\" d=\"M 47.3268 36.44 \r\nL 63.47136 36.44 \r\n\" style=\"fill:none;stroke:#000000;stroke-linecap:round;stroke-width:2;\"/>\r\n   </g>\r\n   <g id=\"line2d_4\">\r\n    <path clip-path=\"url(#pf69b6d8fd8)\" d=\"M 47.3268 21.14 \r\nL 63.47136 21.14 \r\n\" style=\"fill:none;stroke:#000000;stroke-linecap:round;stroke-width:2;\"/>\r\n   </g>\r\n   <g id=\"line2d_5\">\r\n    <path clip-path=\"url(#pf69b6d8fd8)\" d=\"M 47.3268 28.79 \r\nM 102.1008 28.79 \r\nL 105.4668 28.79 \r\n\" style=\"fill:none;stroke:#000000;stroke-linecap:round;stroke-width:2;\"/>\r\n   </g>\r\n   <g id=\"line2d_6\">\r\n    <path clip-path=\"url(#pf69b6d8fd8)\" d=\"M 105.4668 28.79 \r\nL 116.9418 28.79 \r\nL 128.4168 28.79 \r\n\" style=\"fill:none;stroke:#000000;stroke-linecap:round;stroke-width:2;\"/>\r\n   </g>\r\n   <g id=\"line2d_7\">\r\n    <path clip-path=\"url(#pf69b6d8fd8)\" d=\"M 128.4168 28.79 \r\nL 139.8918 28.79 \r\nL 151.3668 28.79 \r\n\" style=\"fill:none;stroke:#000000;stroke-linecap:round;stroke-width:2;\"/>\r\n   </g>\r\n   <g id=\"line2d_8\">\r\n    <path clip-path=\"url(#pf69b6d8fd8)\" d=\"M 58.0368 120.284 \r\nL 75.085371 120.184082 \r\nL 76.833943 119.884327 \r\nL 78.582514 119.384735 \r\nL 80.331086 118.685306 \r\nL 82.079657 117.786041 \r\nL 84.265371 116.380939 \r\nL 86.451086 114.663592 \r\nL 88.6368 112.634 \r\nL 90.822514 110.292163 \r\nL 93.008229 107.638082 \r\nL 94.7568 105.29 \r\nL 94.7568 105.29 \r\nL 92.133943 101.842816 \r\nL 89.948229 99.313633 \r\nL 87.762514 97.096694 \r\nL 85.5768 95.192 \r\nL 83.391086 93.599551 \r\nL 81.205371 92.319347 \r\nL 79.4568 91.52 \r\nL 77.708229 90.92049 \r\nL 75.959657 90.520816 \r\nL 74.211086 90.32098 \r\nL 73.3368 90.296 \r\nL 58.0368 90.296 \r\nL 58.0368 90.296 \r\nL 60.24 92.744 \r\nL 61.63536 94.58 \r\nL 62.8104 96.416 \r\nL 63.76512 98.252 \r\nL 64.49952 100.088 \r\nL 65.0136 101.924 \r\nL 65.30736 103.76 \r\nL 65.3808 105.596 \r\nL 65.23392 107.432 \r\nL 64.86672 109.268 \r\nL 64.2792 111.104 \r\nL 63.47136 112.94 \r\nL 62.4432 114.776 \r\nL 61.19472 116.612 \r\nL 59.72592 118.448 \r\nL 58.0368 120.284 \r\nL 58.0368 120.284 \r\n\" style=\"fill:none;stroke:#000000;stroke-linecap:round;stroke-width:2;\"/>\r\n   </g>\r\n   <g id=\"line2d_9\">\r\n    <path clip-path=\"url(#pf69b6d8fd8)\" d=\"M 47.3268 112.94 \r\nL 63.47136 112.94 \r\n\" style=\"fill:none;stroke:#000000;stroke-linecap:round;stroke-width:2;\"/>\r\n   </g>\r\n   <g id=\"line2d_10\">\r\n    <path clip-path=\"url(#pf69b6d8fd8)\" d=\"M 47.3268 97.64 \r\nL 63.47136 97.64 \r\n\" style=\"fill:none;stroke:#000000;stroke-linecap:round;stroke-width:2;\"/>\r\n   </g>\r\n   <g id=\"line2d_11\">\r\n    <path clip-path=\"url(#pf69b6d8fd8)\" d=\"M 47.3268 105.29 \r\nM 102.1008 105.29 \r\nL 105.4668 105.29 \r\n\" style=\"fill:none;stroke:#000000;stroke-linecap:round;stroke-width:2;\"/>\r\n   </g>\r\n   <g id=\"line2d_12\">\r\n    <path clip-path=\"url(#pf69b6d8fd8)\" d=\"M 105.4668 105.29 \r\nL 116.9418 105.29 \r\nL 128.4168 105.29 \r\n\" style=\"fill:none;stroke:#000000;stroke-linecap:round;stroke-width:2;\"/>\r\n   </g>\r\n   <g id=\"line2d_13\">\r\n    <path clip-path=\"url(#pf69b6d8fd8)\" d=\"M 128.4168 105.29 \r\nL 139.8918 105.29 \r\nL 151.3668 105.29 \r\n\" style=\"fill:none;stroke:#000000;stroke-linecap:round;stroke-width:2;\"/>\r\n   </g>\r\n   <g id=\"line2d_14\">\r\n    <path clip-path=\"url(#pf69b6d8fd8)\" d=\"M 47.3268 97.64 \r\nL 47.3268 89.99 \r\nL 47.3268 82.34 \r\n\" style=\"fill:none;stroke:#000000;stroke-linecap:round;stroke-width:2;\"/>\r\n   </g>\r\n   <g id=\"line2d_15\">\r\n    <path clip-path=\"url(#pf69b6d8fd8)\" d=\"M 128.4168 28.79 \r\nL 128.4168 36.44 \r\nL 128.4168 44.09 \r\n\" style=\"fill:none;stroke:#000000;stroke-linecap:round;stroke-width:2;\"/>\r\n   </g>\r\n   <g id=\"line2d_16\">\r\n    <path clip-path=\"url(#pf69b6d8fd8)\" d=\"M 128.4168 44.09 \r\nL 87.8718 63.215 \r\nL 47.3268 82.34 \r\n\" style=\"fill:none;stroke:#000000;stroke-linecap:round;stroke-width:2;\"/>\r\n   </g>\r\n   <g id=\"line2d_17\">\r\n    <path clip-path=\"url(#pf69b6d8fd8)\" d=\"M 47.3268 36.44 \r\nL 47.3268 44.09 \r\nL 47.3268 51.74 \r\n\" style=\"fill:none;stroke:#000000;stroke-linecap:round;stroke-width:2;\"/>\r\n   </g>\r\n   <g id=\"line2d_18\">\r\n    <path clip-path=\"url(#pf69b6d8fd8)\" d=\"M 128.4168 105.29 \r\nL 128.4168 97.64 \r\nL 128.4168 89.99 \r\n\" style=\"fill:none;stroke:#000000;stroke-linecap:round;stroke-width:2;\"/>\r\n   </g>\r\n   <g id=\"line2d_19\">\r\n    <path clip-path=\"url(#pf69b6d8fd8)\" d=\"M 128.4168 89.99 \r\nL 87.8718 70.865 \r\nL 47.3268 51.74 \r\n\" style=\"fill:none;stroke:#000000;stroke-linecap:round;stroke-width:2;\"/>\r\n   </g>\r\n   <g id=\"line2d_20\">\r\n    <path clip-path=\"url(#pf69b6d8fd8)\" d=\"M 47.3268 112.94 \r\nL 35.8518 112.94 \r\nL 24.3768 112.94 \r\n\" style=\"fill:none;stroke:#000000;stroke-linecap:round;stroke-width:2;\"/>\r\n   </g>\r\n   <g id=\"text_1\">\r\n    <!-- R -->\r\n    <g transform=\"translate(11.588988 25.003125)scale(0.14 -0.14)\">\r\n     <defs>\r\n      <path d=\"M 2841 2188 \r\nQ 3044 2119 3236 1894 \r\nQ 3428 1669 3622 1275 \r\nL 4263 0 \r\nL 3584 0 \r\nL 2988 1197 \r\nQ 2756 1666 2539 1819 \r\nQ 2322 1972 1947 1972 \r\nL 1259 1972 \r\nL 1259 0 \r\nL 628 0 \r\nL 628 4666 \r\nL 2053 4666 \r\nQ 2853 4666 3247 4331 \r\nQ 3641 3997 3641 3322 \r\nQ 3641 2881 3436 2590 \r\nQ 3231 2300 2841 2188 \r\nz\r\nM 1259 4147 \r\nL 1259 2491 \r\nL 2053 2491 \r\nQ 2509 2491 2742 2702 \r\nQ 2975 2913 2975 3322 \r\nQ 2975 3731 2742 3939 \r\nQ 2509 4147 2053 4147 \r\nL 1259 4147 \r\nz\r\n\" id=\"DejaVuSans-52\" transform=\"scale(0.015625)\"/>\r\n     </defs>\r\n     <use xlink:href=\"#DejaVuSans-52\"/>\r\n    </g>\r\n   </g>\r\n   <g id=\"text_2\">\r\n    <!-- Q=0 -->\r\n    <g transform=\"translate(154.4268 32.653125)scale(0.14 -0.14)\">\r\n     <defs>\r\n      <path d=\"M 2522 4238 \r\nQ 1834 4238 1429 3725 \r\nQ 1025 3213 1025 2328 \r\nQ 1025 1447 1429 934 \r\nQ 1834 422 2522 422 \r\nQ 3209 422 3611 934 \r\nQ 4013 1447 4013 2328 \r\nQ 4013 3213 3611 3725 \r\nQ 3209 4238 2522 4238 \r\nz\r\nM 3406 84 \r\nL 4238 -825 \r\nL 3475 -825 \r\nL 2784 -78 \r\nQ 2681 -84 2626 -87 \r\nQ 2572 -91 2522 -91 \r\nQ 1538 -91 948 567 \r\nQ 359 1225 359 2328 \r\nQ 359 3434 948 4092 \r\nQ 1538 4750 2522 4750 \r\nQ 3503 4750 4090 4092 \r\nQ 4678 3434 4678 2328 \r\nQ 4678 1516 4351 937 \r\nQ 4025 359 3406 84 \r\nz\r\n\" id=\"DejaVuSans-51\" transform=\"scale(0.015625)\"/>\r\n      <path d=\"M 678 2906 \r\nL 4684 2906 \r\nL 4684 2381 \r\nL 678 2381 \r\nL 678 2906 \r\nz\r\nM 678 1631 \r\nL 4684 1631 \r\nL 4684 1100 \r\nL 678 1100 \r\nL 678 1631 \r\nz\r\n\" id=\"DejaVuSans-3d\" transform=\"scale(0.015625)\"/>\r\n      <path d=\"M 2034 4250 \r\nQ 1547 4250 1301 3770 \r\nQ 1056 3291 1056 2328 \r\nQ 1056 1369 1301 889 \r\nQ 1547 409 2034 409 \r\nQ 2525 409 2770 889 \r\nQ 3016 1369 3016 2328 \r\nQ 3016 3291 2770 3770 \r\nQ 2525 4250 2034 4250 \r\nz\r\nM 2034 4750 \r\nQ 2819 4750 3233 4129 \r\nQ 3647 3509 3647 2328 \r\nQ 3647 1150 3233 529 \r\nQ 2819 -91 2034 -91 \r\nQ 1250 -91 836 529 \r\nQ 422 1150 422 2328 \r\nQ 422 3509 836 4129 \r\nQ 1250 4750 2034 4750 \r\nz\r\n\" id=\"DejaVuSans-30\" transform=\"scale(0.015625)\"/>\r\n     </defs>\r\n     <use xlink:href=\"#DejaVuSans-51\"/>\r\n     <use x=\"78.710938\" xlink:href=\"#DejaVuSans-3d\"/>\r\n     <use x=\"162.5\" xlink:href=\"#DejaVuSans-30\"/>\r\n    </g>\r\n   </g>\r\n   <g id=\"text_3\">\r\n    <!-- $\\overline{Q}=$1 -->\r\n    <g transform=\"translate(154.4268 110.218438)scale(0.14 -0.14)\">\r\n     <defs>\r\n      <path d=\"M 2309 -84 \r\nQ 2275 -88 2237 -89 \r\nQ 2200 -91 2125 -91 \r\nQ 1250 -91 756 411 \r\nQ 263 913 263 1797 \r\nQ 263 2319 452 2844 \r\nQ 641 3369 978 3788 \r\nQ 1369 4269 1858 4509 \r\nQ 2347 4750 2938 4750 \r\nQ 3794 4750 4287 4245 \r\nQ 4781 3741 4781 2869 \r\nQ 4781 1928 4265 1147 \r\nQ 3750 366 2919 44 \r\nL 3553 -825 \r\nL 2847 -825 \r\nL 2309 -84 \r\nz\r\nM 2919 4238 \r\nQ 2400 4238 2003 3986 \r\nQ 1606 3734 1313 3219 \r\nQ 1125 2891 1026 2522 \r\nQ 928 2153 928 1778 \r\nQ 928 1128 1239 775 \r\nQ 1550 422 2119 422 \r\nQ 2631 422 3032 676 \r\nQ 3434 931 3719 1434 \r\nQ 3909 1772 4009 2142 \r\nQ 4109 2513 4109 2881 \r\nQ 4109 3528 3796 3883 \r\nQ 3484 4238 2919 4238 \r\nz\r\n\" id=\"DejaVuSans-Oblique-51\" transform=\"scale(0.015625)\"/>\r\n      <path d=\"M 794 531 \r\nL 1825 531 \r\nL 1825 4091 \r\nL 703 3866 \r\nL 703 4441 \r\nL 1819 4666 \r\nL 2450 4666 \r\nL 2450 531 \r\nL 3481 531 \r\nL 3481 0 \r\nL 794 0 \r\nL 794 531 \r\nz\r\n\" id=\"DejaVuSans-31\" transform=\"scale(0.015625)\"/>\r\n     </defs>\r\n     <use transform=\"translate(0 0.53125)\" xlink:href=\"#DejaVuSans-Oblique-51\"/>\r\n     <use transform=\"translate(98.193359 0.03125)\" xlink:href=\"#DejaVuSans-3d\"/>\r\n     <use transform=\"translate(201.464844 0.03125)\" xlink:href=\"#DejaVuSans-31\"/>\r\n     <path d=\"M 0 86.5 \r\nL 0 92.75 \r\nL 78.710938 92.75 \r\nL 78.710938 86.5 \r\nL 0 86.5 \r\nz\r\n\"/>\r\n    </g>\r\n   </g>\r\n   <g id=\"text_4\">\r\n    <!-- S -->\r\n    <g transform=\"translate(12.428988 116.803125)scale(0.14 -0.14)\">\r\n     <defs>\r\n      <path d=\"M 3425 4513 \r\nL 3425 3897 \r\nQ 3066 4069 2747 4153 \r\nQ 2428 4238 2131 4238 \r\nQ 1616 4238 1336 4038 \r\nQ 1056 3838 1056 3469 \r\nQ 1056 3159 1242 3001 \r\nQ 1428 2844 1947 2747 \r\nL 2328 2669 \r\nQ 3034 2534 3370 2195 \r\nQ 3706 1856 3706 1288 \r\nQ 3706 609 3251 259 \r\nQ 2797 -91 1919 -91 \r\nQ 1588 -91 1214 -16 \r\nQ 841 59 441 206 \r\nL 441 856 \r\nQ 825 641 1194 531 \r\nQ 1563 422 1919 422 \r\nQ 2459 422 2753 634 \r\nQ 3047 847 3047 1241 \r\nQ 3047 1584 2836 1778 \r\nQ 2625 1972 2144 2069 \r\nL 1759 2144 \r\nQ 1053 2284 737 2584 \r\nQ 422 2884 422 3419 \r\nQ 422 4038 858 4394 \r\nQ 1294 4750 2059 4750 \r\nQ 2388 4750 2728 4690 \r\nQ 3069 4631 3425 4513 \r\nz\r\n\" id=\"DejaVuSans-53\" transform=\"scale(0.015625)\"/>\r\n     </defs>\r\n     <use xlink:href=\"#DejaVuSans-53\"/>\r\n    </g>\r\n   </g>\r\n   <g id=\"patch_4\">\r\n    <path clip-path=\"url(#pf69b6d8fd8)\" d=\"M 128.4168 31.085 \r\nC 129.025441 31.085 129.609236 30.843184 130.03961 30.41281 \r\nC 130.469984 29.982436 130.7118 29.398641 130.7118 28.79 \r\nC 130.7118 28.181359 130.469984 27.597564 130.03961 27.16719 \r\nC 129.609236 26.736816 129.025441 26.495 128.4168 26.495 \r\nC 127.808159 26.495 127.224364 26.736816 126.79399 27.16719 \r\nC 126.363616 27.597564 126.1218 28.181359 126.1218 28.79 \r\nC 126.1218 29.398641 126.363616 29.982436 126.79399 30.41281 \r\nC 127.224364 30.843184 127.808159 31.085 128.4168 31.085 \r\nz\r\n\" style=\"stroke:#000000;stroke-linejoin:miter;stroke-width:2;\"/>\r\n   </g>\r\n   <g id=\"patch_5\">\r\n    <path clip-path=\"url(#pf69b6d8fd8)\" d=\"M 128.4168 107.585 \r\nC 129.025441 107.585 129.609236 107.343184 130.03961 106.91281 \r\nC 130.469984 106.482436 130.7118 105.898641 130.7118 105.29 \r\nC 130.7118 104.681359 130.469984 104.097564 130.03961 103.66719 \r\nC 129.609236 103.236816 129.025441 102.995 128.4168 102.995 \r\nC 127.808159 102.995 127.224364 103.236816 126.79399 103.66719 \r\nC 126.363616 104.097564 126.1218 104.681359 126.1218 105.29 \r\nC 126.1218 105.898641 126.363616 106.482436 126.79399 106.91281 \r\nC 127.224364 107.343184 127.808159 107.585 128.4168 107.585 \r\nz\r\n\" style=\"stroke:#000000;stroke-linejoin:miter;stroke-width:2;\"/>\r\n   </g>\r\n  </g>\r\n </g>\r\n <defs>\r\n  <clipPath id=\"pf69b6d8fd8\">\r\n   <rect height=\"116.62\" width=\"179.9688\" x=\"7.2\" y=\"7.2\"/>\r\n  </clipPath>\r\n </defs>\r\n</svg>\r\n",
        "metadata": {
         "tags": []
        },
        "output_type": "display_data",
        "text/plain": "<schemdraw.schemdraw.Drawing at 0x193fb079c70>"
       }
      ]
     }
    },
    "30c797773342472495739be92846e999": {
     "model_module": "@jupyter-widgets/controls",
     "model_name": "VBoxModel",
     "state": {
      "_dom_classes": [
       "widget-interact"
      ],
      "_model_module": "@jupyter-widgets/controls",
      "_model_module_version": "1.5.0",
      "_model_name": "VBoxModel",
      "_view_count": null,
      "_view_module": "@jupyter-widgets/controls",
      "_view_module_version": "1.5.0",
      "_view_name": "VBoxView",
      "box_style": "",
      "children": [
       "IPY_MODEL_c302cfcf6c124560bbbc83c6e7f838d8",
       "IPY_MODEL_4683ec86b1d94c6ea9e7199d5c513692",
       "IPY_MODEL_302ab33e40144932bfc4539f668e45fa"
      ],
      "layout": "IPY_MODEL_a7081c36311c4748b9857f01629e182e"
     }
    },
    "33c3d2e4c768447e8dafcd927316ed9b": {
     "model_module": "@jupyter-widgets/base",
     "model_name": "LayoutModel",
     "state": {
      "_model_module": "@jupyter-widgets/base",
      "_model_module_version": "1.2.0",
      "_model_name": "LayoutModel",
      "_view_count": null,
      "_view_module": "@jupyter-widgets/base",
      "_view_module_version": "1.2.0",
      "_view_name": "LayoutView",
      "align_content": null,
      "align_items": null,
      "align_self": null,
      "border": null,
      "bottom": null,
      "display": null,
      "flex": null,
      "flex_flow": null,
      "grid_area": null,
      "grid_auto_columns": null,
      "grid_auto_flow": null,
      "grid_auto_rows": null,
      "grid_column": null,
      "grid_gap": null,
      "grid_row": null,
      "grid_template_areas": null,
      "grid_template_columns": null,
      "grid_template_rows": null,
      "height": null,
      "justify_content": null,
      "justify_items": null,
      "left": null,
      "margin": null,
      "max_height": null,
      "max_width": null,
      "min_height": null,
      "min_width": null,
      "object_fit": null,
      "object_position": null,
      "order": null,
      "overflow": null,
      "overflow_x": null,
      "overflow_y": null,
      "padding": null,
      "right": null,
      "top": null,
      "visibility": null,
      "width": null
     }
    },
    "3a03c3e494774c04b1c0b31ac3dfe56e": {
     "model_module": "@jupyter-widgets/controls",
     "model_name": "SliderStyleModel",
     "state": {
      "_model_module": "@jupyter-widgets/controls",
      "_model_module_version": "1.5.0",
      "_model_name": "SliderStyleModel",
      "_view_count": null,
      "_view_module": "@jupyter-widgets/base",
      "_view_module_version": "1.2.0",
      "_view_name": "StyleView",
      "description_width": "",
      "handle_color": null
     }
    },
    "3a5f40da49c145389548d3ccaf35f310": {
     "model_module": "@jupyter-widgets/base",
     "model_name": "LayoutModel",
     "state": {
      "_model_module": "@jupyter-widgets/base",
      "_model_module_version": "1.2.0",
      "_model_name": "LayoutModel",
      "_view_count": null,
      "_view_module": "@jupyter-widgets/base",
      "_view_module_version": "1.2.0",
      "_view_name": "LayoutView",
      "align_content": null,
      "align_items": null,
      "align_self": null,
      "border": null,
      "bottom": null,
      "display": null,
      "flex": null,
      "flex_flow": null,
      "grid_area": null,
      "grid_auto_columns": null,
      "grid_auto_flow": null,
      "grid_auto_rows": null,
      "grid_column": null,
      "grid_gap": null,
      "grid_row": null,
      "grid_template_areas": null,
      "grid_template_columns": null,
      "grid_template_rows": null,
      "height": null,
      "justify_content": null,
      "justify_items": null,
      "left": null,
      "margin": null,
      "max_height": null,
      "max_width": null,
      "min_height": null,
      "min_width": null,
      "object_fit": null,
      "object_position": null,
      "order": null,
      "overflow": null,
      "overflow_x": null,
      "overflow_y": null,
      "padding": null,
      "right": null,
      "top": null,
      "visibility": null,
      "width": null
     }
    },
    "3bab7cd32b634ebcbc93b7c5c8c0a09a": {
     "model_module": "@jupyter-widgets/controls",
     "model_name": "DropdownModel",
     "state": {
      "_dom_classes": [],
      "_model_module": "@jupyter-widgets/controls",
      "_model_module_version": "1.5.0",
      "_model_name": "DropdownModel",
      "_options_labels": [
       "0",
       "1"
      ],
      "_view_count": null,
      "_view_module": "@jupyter-widgets/controls",
      "_view_module_version": "1.5.0",
      "_view_name": "DropdownView",
      "description": "B",
      "description_tooltip": null,
      "disabled": false,
      "index": 0,
      "layout": "IPY_MODEL_7ee64c17e51f4609a92b60ad7f92e5ba",
      "style": "IPY_MODEL_f5daa2af70694634a850337504688ec8"
     }
    },
    "3d1372fb176847f3b12a6c4e37fbaabb": {
     "model_module": "@jupyter-widgets/base",
     "model_name": "LayoutModel",
     "state": {
      "_model_module": "@jupyter-widgets/base",
      "_model_module_version": "1.2.0",
      "_model_name": "LayoutModel",
      "_view_count": null,
      "_view_module": "@jupyter-widgets/base",
      "_view_module_version": "1.2.0",
      "_view_name": "LayoutView",
      "align_content": null,
      "align_items": null,
      "align_self": null,
      "border": null,
      "bottom": null,
      "display": null,
      "flex": null,
      "flex_flow": null,
      "grid_area": null,
      "grid_auto_columns": null,
      "grid_auto_flow": null,
      "grid_auto_rows": null,
      "grid_column": null,
      "grid_gap": null,
      "grid_row": null,
      "grid_template_areas": null,
      "grid_template_columns": null,
      "grid_template_rows": null,
      "height": null,
      "justify_content": null,
      "justify_items": null,
      "left": null,
      "margin": null,
      "max_height": null,
      "max_width": null,
      "min_height": null,
      "min_width": null,
      "object_fit": null,
      "object_position": null,
      "order": null,
      "overflow": null,
      "overflow_x": null,
      "overflow_y": null,
      "padding": null,
      "right": null,
      "top": null,
      "visibility": null,
      "width": null
     }
    },
    "412945a183a94bcca91db64d09e361c4": {
     "model_module": "@jupyter-widgets/base",
     "model_name": "LayoutModel",
     "state": {
      "_model_module": "@jupyter-widgets/base",
      "_model_module_version": "1.2.0",
      "_model_name": "LayoutModel",
      "_view_count": null,
      "_view_module": "@jupyter-widgets/base",
      "_view_module_version": "1.2.0",
      "_view_name": "LayoutView",
      "align_content": null,
      "align_items": null,
      "align_self": null,
      "border": null,
      "bottom": null,
      "display": null,
      "flex": null,
      "flex_flow": null,
      "grid_area": null,
      "grid_auto_columns": null,
      "grid_auto_flow": null,
      "grid_auto_rows": null,
      "grid_column": null,
      "grid_gap": null,
      "grid_row": null,
      "grid_template_areas": null,
      "grid_template_columns": null,
      "grid_template_rows": null,
      "height": null,
      "justify_content": null,
      "justify_items": null,
      "left": null,
      "margin": null,
      "max_height": null,
      "max_width": null,
      "min_height": null,
      "min_width": null,
      "object_fit": null,
      "object_position": null,
      "order": null,
      "overflow": null,
      "overflow_x": null,
      "overflow_y": null,
      "padding": null,
      "right": null,
      "top": null,
      "visibility": null,
      "width": null
     }
    },
    "418c923dfa9a449e80c1590fa300cd8f": {
     "model_module": "@jupyter-widgets/base",
     "model_name": "LayoutModel",
     "state": {
      "_model_module": "@jupyter-widgets/base",
      "_model_module_version": "1.2.0",
      "_model_name": "LayoutModel",
      "_view_count": null,
      "_view_module": "@jupyter-widgets/base",
      "_view_module_version": "1.2.0",
      "_view_name": "LayoutView",
      "align_content": null,
      "align_items": null,
      "align_self": null,
      "border": null,
      "bottom": null,
      "display": null,
      "flex": null,
      "flex_flow": null,
      "grid_area": null,
      "grid_auto_columns": null,
      "grid_auto_flow": null,
      "grid_auto_rows": null,
      "grid_column": null,
      "grid_gap": null,
      "grid_row": null,
      "grid_template_areas": null,
      "grid_template_columns": null,
      "grid_template_rows": null,
      "height": null,
      "justify_content": null,
      "justify_items": null,
      "left": null,
      "margin": null,
      "max_height": null,
      "max_width": null,
      "min_height": null,
      "min_width": null,
      "object_fit": null,
      "object_position": null,
      "order": null,
      "overflow": null,
      "overflow_x": null,
      "overflow_y": null,
      "padding": "35px",
      "right": null,
      "top": null,
      "visibility": null,
      "width": null
     }
    },
    "42c8bdeb9dcb4ef08f9bef9dd2a80875": {
     "model_module": "@jupyter-widgets/output",
     "model_name": "OutputModel",
     "state": {
      "_dom_classes": [],
      "_model_module": "@jupyter-widgets/output",
      "_model_module_version": "1.0.0",
      "_model_name": "OutputModel",
      "_view_count": null,
      "_view_module": "@jupyter-widgets/output",
      "_view_module_version": "1.0.0",
      "_view_name": "OutputView",
      "layout": "IPY_MODEL_33c3d2e4c768447e8dafcd927316ed9b",
      "msg_id": "",
      "outputs": [
       {
        "image/png": "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\n",
        "image/svg+xml": "<?xml version=\"1.0\" encoding=\"utf-8\" standalone=\"no\"?>\r\n<!DOCTYPE svg PUBLIC \"-//W3C//DTD SVG 1.1//EN\"\r\n  \"http://www.w3.org/Graphics/SVG/1.1/DTD/svg11.dtd\">\r\n<svg height=\"208.71pt\" version=\"1.1\" viewBox=\"0 0 168.509375 208.71\" width=\"168.509375pt\" xmlns=\"http://www.w3.org/2000/svg\" xmlns:xlink=\"http://www.w3.org/1999/xlink\">\r\n <metadata>\r\n  <rdf:RDF xmlns:cc=\"http://creativecommons.org/ns#\" xmlns:dc=\"http://purl.org/dc/elements/1.1/\" xmlns:rdf=\"http://www.w3.org/1999/02/22-rdf-syntax-ns#\">\r\n   <cc:Work>\r\n    <dc:type rdf:resource=\"http://purl.org/dc/dcmitype/StillImage\"/>\r\n    <dc:date>2021-06-20T15:24:58.342445</dc:date>\r\n    <dc:format>image/svg+xml</dc:format>\r\n    <dc:creator>\r\n     <cc:Agent>\r\n      <dc:title>Matplotlib v3.4.2, https://matplotlib.org/</dc:title>\r\n     </cc:Agent>\r\n    </dc:creator>\r\n   </cc:Work>\r\n  </rdf:RDF>\r\n </metadata>\r\n <defs>\r\n  <style type=\"text/css\">*{stroke-linecap:butt;stroke-linejoin:round;}</style>\r\n </defs>\r\n <g id=\"figure_1\">\r\n  <g id=\"patch_1\">\r\n   <path d=\"M 0 208.71 \r\nL 168.509375 208.71 \r\nL 168.509375 0 \r\nL 0 0 \r\nz\r\n\" style=\"fill:none;\"/>\r\n  </g>\r\n  <g id=\"axes_1\">\r\n   <g id=\"patch_2\">\r\n    <path clip-path=\"url(#pc7ed5786cd)\" d=\"M 142.949375 167.85 \r\nC 147.006982 167.85 150.898947 166.237895 153.768109 163.368734 \r\nC 156.63727 160.499572 158.249375 156.607607 158.249375 152.55 \r\nC 158.249375 148.492393 156.63727 144.600428 153.768109 141.731266 \r\nC 150.898947 138.862105 147.006982 137.25 142.949375 137.25 \r\nC 138.891768 137.25 134.999803 138.862105 132.130641 141.731266 \r\nC 129.26148 144.600428 127.649375 148.492393 127.649375 152.55 \r\nC 127.649375 156.607607 129.26148 160.499572 132.130641 163.368734 \r\nC 134.999803 166.237895 138.891768 167.85 142.949375 167.85 \r\nz\r\n\" style=\"fill:none;stroke:#000000;stroke-linejoin:miter;stroke-width:2;\"/>\r\n   </g>\r\n   <g id=\"patch_3\">\r\n    <path clip-path=\"url(#pc7ed5786cd)\" d=\"M 51.149375 14.85 \r\nL 53.444375 20.97 \r\nL 51.164675 20.97 \r\nL 51.164675 24.03 \r\nL 51.134075 24.03 \r\nL 51.134075 20.97 \r\nL 48.854375 20.97 \r\nz\r\n\" style=\"stroke:#000000;stroke-linejoin:miter;stroke-width:2;\"/>\r\n   </g>\r\n   <g id=\"line2d_1\">\r\n    <path clip-path=\"url(#pc7ed5786cd)\" d=\"M 142.949375 198.45 \r\nL 142.949375 167.85 \r\nL 142.949375 167.85 \r\nM 142.949375 137.25 \r\nL 142.949375 137.25 \r\nL 142.949375 106.65 \r\n\" style=\"fill:none;stroke:#000000;stroke-linecap:round;stroke-width:2;\"/>\r\n   </g>\r\n   <g id=\"line2d_2\">\r\n    <path clip-path=\"url(#pc7ed5786cd)\" d=\"M 142.949375 106.65 \r\nL 112.349375 106.65 \r\nL 109.799375 114.3 \r\nL 104.699375 99 \r\nL 99.599375 114.3 \r\nL 94.499375 99 \r\nL 89.399375 114.3 \r\nL 84.299375 99 \r\nL 81.749375 106.65 \r\nL 51.149375 106.65 \r\n\" style=\"fill:none;stroke:#000000;stroke-linecap:round;stroke-width:2;\"/>\r\n   </g>\r\n   <g id=\"line2d_3\">\r\n    <path clip-path=\"url(#pc7ed5786cd)\" d=\"M 51.149375 106.65 \r\nL 51.149375 60.75 \r\nL 51.149375 14.85 \r\n\" style=\"fill:none;stroke:#000000;stroke-linecap:round;stroke-width:2;\"/>\r\n   </g>\r\n   <g id=\"text_1\">\r\n    <!-- V -->\r\n    <g transform=\"translate(138.160938 156.413125)scale(0.14 -0.14)\">\r\n     <defs>\r\n      <path d=\"M 1831 0 \r\nL 50 4666 \r\nL 709 4666 \r\nL 2188 738 \r\nL 3669 4666 \r\nL 4325 4666 \r\nL 2547 0 \r\nL 1831 0 \r\nz\r\n\" id=\"DejaVuSans-56\" transform=\"scale(0.015625)\"/>\r\n     </defs>\r\n     <use xlink:href=\"#DejaVuSans-56\"/>\r\n    </g>\r\n   </g>\r\n   <g id=\"text_2\">\r\n    <!-- 22.00 -->\r\n    <g transform=\"translate(84.51 156.413125)scale(0.14 -0.14)\">\r\n     <defs>\r\n      <path d=\"M 1228 531 \r\nL 3431 531 \r\nL 3431 0 \r\nL 469 0 \r\nL 469 531 \r\nQ 828 903 1448 1529 \r\nQ 2069 2156 2228 2338 \r\nQ 2531 2678 2651 2914 \r\nQ 2772 3150 2772 3378 \r\nQ 2772 3750 2511 3984 \r\nQ 2250 4219 1831 4219 \r\nQ 1534 4219 1204 4116 \r\nQ 875 4013 500 3803 \r\nL 500 4441 \r\nQ 881 4594 1212 4672 \r\nQ 1544 4750 1819 4750 \r\nQ 2544 4750 2975 4387 \r\nQ 3406 4025 3406 3419 \r\nQ 3406 3131 3298 2873 \r\nQ 3191 2616 2906 2266 \r\nQ 2828 2175 2409 1742 \r\nQ 1991 1309 1228 531 \r\nz\r\n\" id=\"DejaVuSans-32\" transform=\"scale(0.015625)\"/>\r\n      <path d=\"M 684 794 \r\nL 1344 794 \r\nL 1344 0 \r\nL 684 0 \r\nL 684 794 \r\nz\r\n\" id=\"DejaVuSans-2e\" transform=\"scale(0.015625)\"/>\r\n      <path d=\"M 2034 4250 \r\nQ 1547 4250 1301 3770 \r\nQ 1056 3291 1056 2328 \r\nQ 1056 1369 1301 889 \r\nQ 1547 409 2034 409 \r\nQ 2525 409 2770 889 \r\nQ 3016 1369 3016 2328 \r\nQ 3016 3291 2770 3770 \r\nQ 2525 4250 2034 4250 \r\nz\r\nM 2034 4750 \r\nQ 2819 4750 3233 4129 \r\nQ 3647 3509 3647 2328 \r\nQ 3647 1150 3233 529 \r\nQ 2819 -91 2034 -91 \r\nQ 1250 -91 836 529 \r\nQ 422 1150 422 2328 \r\nQ 422 3509 836 4129 \r\nQ 1250 4750 2034 4750 \r\nz\r\n\" id=\"DejaVuSans-30\" transform=\"scale(0.015625)\"/>\r\n     </defs>\r\n     <use xlink:href=\"#DejaVuSans-32\"/>\r\n     <use x=\"63.623047\" xlink:href=\"#DejaVuSans-32\"/>\r\n     <use x=\"127.246094\" xlink:href=\"#DejaVuSans-2e\"/>\r\n     <use x=\"159.033203\" xlink:href=\"#DejaVuSans-30\"/>\r\n     <use x=\"222.65625\" xlink:href=\"#DejaVuSans-30\"/>\r\n    </g>\r\n   </g>\r\n   <g id=\"text_3\">\r\n    <!-- 10Ω -->\r\n    <g transform=\"translate(82.792344 93.028437)scale(0.14 -0.14)\">\r\n     <defs>\r\n      <path d=\"M 794 531 \r\nL 1825 531 \r\nL 1825 4091 \r\nL 703 3866 \r\nL 703 4441 \r\nL 1819 4666 \r\nL 2450 4666 \r\nL 2450 531 \r\nL 3481 531 \r\nL 3481 0 \r\nL 794 0 \r\nL 794 531 \r\nz\r\n\" id=\"DejaVuSans-31\" transform=\"scale(0.015625)\"/>\r\n      <path d=\"M 4647 556 \r\nL 4647 0 \r\nL 2772 0 \r\nL 2772 556 \r\nQ 3325 859 3634 1378 \r\nQ 3944 1897 3944 2528 \r\nQ 3944 3278 3531 3731 \r\nQ 3119 4184 2444 4184 \r\nQ 1769 4184 1355 3729 \r\nQ 941 3275 941 2528 \r\nQ 941 1897 1250 1378 \r\nQ 1563 859 2119 556 \r\nL 2119 0 \r\nL 244 0 \r\nL 244 556 \r\nL 1241 556 \r\nQ 747 991 519 1456 \r\nQ 294 1922 294 2497 \r\nQ 294 3491 894 4106 \r\nQ 1491 4722 2444 4722 \r\nQ 3391 4722 3994 4106 \r\nQ 4594 3494 4594 2528 \r\nQ 4594 1922 4372 1459 \r\nQ 4150 997 3647 556 \r\nL 4647 556 \r\nz\r\n\" id=\"DejaVuSans-3a9\" transform=\"scale(0.015625)\"/>\r\n     </defs>\r\n     <use xlink:href=\"#DejaVuSans-31\"/>\r\n     <use x=\"63.623047\" xlink:href=\"#DejaVuSans-30\"/>\r\n     <use x=\"127.246094\" xlink:href=\"#DejaVuSans-3a9\"/>\r\n    </g>\r\n   </g>\r\n   <g id=\"text_4\">\r\n    <!-- VDD -->\r\n    <g transform=\"translate(12.3625 56.774656)scale(0.14 -0.14)\">\r\n     <defs>\r\n      <path d=\"M 1259 4147 \r\nL 1259 519 \r\nL 2022 519 \r\nQ 2988 519 3436 956 \r\nQ 3884 1394 3884 2338 \r\nQ 3884 3275 3436 3711 \r\nQ 2988 4147 2022 4147 \r\nL 1259 4147 \r\nz\r\nM 628 4666 \r\nL 1925 4666 \r\nQ 3281 4666 3915 4102 \r\nQ 4550 3538 4550 2338 \r\nQ 4550 1131 3912 565 \r\nQ 3275 0 1925 0 \r\nL 628 0 \r\nL 628 4666 \r\nz\r\n\" id=\"DejaVuSans-44\" transform=\"scale(0.015625)\"/>\r\n     </defs>\r\n     <use xlink:href=\"#DejaVuSans-56\"/>\r\n     <use x=\"68.408203\" xlink:href=\"#DejaVuSans-44\"/>\r\n     <use x=\"145.410156\" xlink:href=\"#DejaVuSans-44\"/>\r\n    </g>\r\n    <!-- 220V -->\r\n    <g transform=\"translate(7.2 72.451594)scale(0.14 -0.14)\">\r\n     <use xlink:href=\"#DejaVuSans-32\"/>\r\n     <use x=\"63.623047\" xlink:href=\"#DejaVuSans-32\"/>\r\n     <use x=\"127.246094\" xlink:href=\"#DejaVuSans-30\"/>\r\n     <use x=\"190.869141\" xlink:href=\"#DejaVuSans-56\"/>\r\n    </g>\r\n   </g>\r\n  </g>\r\n </g>\r\n <defs>\r\n  <clipPath id=\"pc7ed5786cd\">\r\n   <rect height=\"194.31\" width=\"152.2758\" x=\"9.033575\" y=\"7.2\"/>\r\n  </clipPath>\r\n </defs>\r\n</svg>\r\n",
        "metadata": {
         "tags": []
        },
        "output_type": "display_data",
        "text/plain": "<schemdraw.backends.mpl.Figure object at 0x00000200FBFF5190>"
       }
      ]
     }
    },
    "44b1eeac4aad4c2baef5cbd844e62cec": {
     "model_module": "@jupyter-widgets/base",
     "model_name": "LayoutModel",
     "state": {
      "_model_module": "@jupyter-widgets/base",
      "_model_module_version": "1.2.0",
      "_model_name": "LayoutModel",
      "_view_count": null,
      "_view_module": "@jupyter-widgets/base",
      "_view_module_version": "1.2.0",
      "_view_name": "LayoutView",
      "align_content": null,
      "align_items": null,
      "align_self": null,
      "border": null,
      "bottom": null,
      "display": null,
      "flex": null,
      "flex_flow": null,
      "grid_area": null,
      "grid_auto_columns": null,
      "grid_auto_flow": null,
      "grid_auto_rows": null,
      "grid_column": null,
      "grid_gap": null,
      "grid_row": null,
      "grid_template_areas": null,
      "grid_template_columns": null,
      "grid_template_rows": null,
      "height": null,
      "justify_content": null,
      "justify_items": null,
      "left": null,
      "margin": null,
      "max_height": null,
      "max_width": null,
      "min_height": null,
      "min_width": null,
      "object_fit": null,
      "object_position": null,
      "order": null,
      "overflow": null,
      "overflow_x": null,
      "overflow_y": null,
      "padding": "35px",
      "right": null,
      "top": null,
      "visibility": null,
      "width": null
     }
    },
    "4683ec86b1d94c6ea9e7199d5c513692": {
     "model_module": "@jupyter-widgets/controls",
     "model_name": "DropdownModel",
     "state": {
      "_dom_classes": [],
      "_model_module": "@jupyter-widgets/controls",
      "_model_module_version": "1.5.0",
      "_model_name": "DropdownModel",
      "_options_labels": [
       "0",
       "1"
      ],
      "_view_count": null,
      "_view_module": "@jupyter-widgets/controls",
      "_view_module_version": "1.5.0",
      "_view_name": "DropdownView",
      "description": "S",
      "description_tooltip": null,
      "disabled": false,
      "index": 0,
      "layout": "IPY_MODEL_b21121f5f5c642a193166883f27f31cd",
      "style": "IPY_MODEL_706a79b8bbd84034ba0bdb54c64b185f"
     }
    },
    "470537f50a194b38856f02f5d1b61e63": {
     "model_module": "@jupyter-widgets/base",
     "model_name": "LayoutModel",
     "state": {
      "_model_module": "@jupyter-widgets/base",
      "_model_module_version": "1.2.0",
      "_model_name": "LayoutModel",
      "_view_count": null,
      "_view_module": "@jupyter-widgets/base",
      "_view_module_version": "1.2.0",
      "_view_name": "LayoutView",
      "align_content": null,
      "align_items": null,
      "align_self": null,
      "border": null,
      "bottom": null,
      "display": null,
      "flex": null,
      "flex_flow": null,
      "grid_area": null,
      "grid_auto_columns": null,
      "grid_auto_flow": null,
      "grid_auto_rows": null,
      "grid_column": null,
      "grid_gap": null,
      "grid_row": null,
      "grid_template_areas": null,
      "grid_template_columns": null,
      "grid_template_rows": null,
      "height": null,
      "justify_content": null,
      "justify_items": null,
      "left": null,
      "margin": null,
      "max_height": null,
      "max_width": null,
      "min_height": null,
      "min_width": null,
      "object_fit": null,
      "object_position": null,
      "order": null,
      "overflow": null,
      "overflow_x": null,
      "overflow_y": null,
      "padding": "35px",
      "right": null,
      "top": null,
      "visibility": null,
      "width": null
     }
    },
    "4732cbbbf0bc45dbab790d035a8e91b4": {
     "model_module": "@jupyter-widgets/base",
     "model_name": "LayoutModel",
     "state": {
      "_model_module": "@jupyter-widgets/base",
      "_model_module_version": "1.2.0",
      "_model_name": "LayoutModel",
      "_view_count": null,
      "_view_module": "@jupyter-widgets/base",
      "_view_module_version": "1.2.0",
      "_view_name": "LayoutView",
      "align_content": null,
      "align_items": null,
      "align_self": null,
      "border": null,
      "bottom": null,
      "display": null,
      "flex": null,
      "flex_flow": null,
      "grid_area": null,
      "grid_auto_columns": null,
      "grid_auto_flow": null,
      "grid_auto_rows": null,
      "grid_column": null,
      "grid_gap": null,
      "grid_row": null,
      "grid_template_areas": null,
      "grid_template_columns": null,
      "grid_template_rows": null,
      "height": null,
      "justify_content": null,
      "justify_items": null,
      "left": null,
      "margin": null,
      "max_height": null,
      "max_width": null,
      "min_height": null,
      "min_width": null,
      "object_fit": null,
      "object_position": null,
      "order": null,
      "overflow": null,
      "overflow_x": null,
      "overflow_y": null,
      "padding": null,
      "right": null,
      "top": null,
      "visibility": null,
      "width": null
     }
    },
    "47b09e184bb5415483f57648a6b5eaeb": {
     "model_module": "@jupyter-widgets/controls",
     "model_name": "DescriptionStyleModel",
     "state": {
      "_model_module": "@jupyter-widgets/controls",
      "_model_module_version": "1.5.0",
      "_model_name": "DescriptionStyleModel",
      "_view_count": null,
      "_view_module": "@jupyter-widgets/base",
      "_view_module_version": "1.2.0",
      "_view_name": "StyleView",
      "description_width": ""
     }
    },
    "488c685cebd449e89f4179ac65900a45": {
     "model_module": "@jupyter-widgets/controls",
     "model_name": "DropdownModel",
     "state": {
      "_dom_classes": [],
      "_model_module": "@jupyter-widgets/controls",
      "_model_module_version": "1.5.0",
      "_model_name": "DropdownModel",
      "_options_labels": [
       "0",
       "1"
      ],
      "_view_count": null,
      "_view_module": "@jupyter-widgets/controls",
      "_view_module_version": "1.5.0",
      "_view_name": "DropdownView",
      "description": "c",
      "description_tooltip": null,
      "disabled": false,
      "index": 0,
      "layout": "IPY_MODEL_849fab9bfa5541b5bdbe8bca2ec300fb",
      "style": "IPY_MODEL_4bdac03986dc40daafae91ff49ca264d"
     }
    },
    "4bdac03986dc40daafae91ff49ca264d": {
     "model_module": "@jupyter-widgets/controls",
     "model_name": "DescriptionStyleModel",
     "state": {
      "_model_module": "@jupyter-widgets/controls",
      "_model_module_version": "1.5.0",
      "_model_name": "DescriptionStyleModel",
      "_view_count": null,
      "_view_module": "@jupyter-widgets/base",
      "_view_module_version": "1.2.0",
      "_view_name": "StyleView",
      "description_width": ""
     }
    },
    "4c9e35ef572843e782fd7eab01930bb5": {
     "model_module": "@jupyter-widgets/controls",
     "model_name": "IntSliderModel",
     "state": {
      "_dom_classes": [],
      "_model_module": "@jupyter-widgets/controls",
      "_model_module_version": "1.5.0",
      "_model_name": "IntSliderModel",
      "_view_count": null,
      "_view_module": "@jupyter-widgets/controls",
      "_view_module_version": "1.5.0",
      "_view_name": "IntSliderView",
      "continuous_update": true,
      "description": "R",
      "description_tooltip": null,
      "disabled": false,
      "layout": "IPY_MODEL_26780c601e504fd6a1d5b88b3f91a377",
      "max": 200,
      "min": 10,
      "orientation": "horizontal",
      "readout": true,
      "readout_format": "d",
      "step": 1,
      "style": "IPY_MODEL_5862536bc84841619e5520d8d3b6d460",
      "value": 10
     }
    },
    "519dd7a23df8420391dd6eebb627292c": {
     "model_module": "@jupyter-widgets/controls",
     "model_name": "VBoxModel",
     "state": {
      "_dom_classes": [
       "widget-interact"
      ],
      "_model_module": "@jupyter-widgets/controls",
      "_model_module_version": "1.5.0",
      "_model_name": "VBoxModel",
      "_view_count": null,
      "_view_module": "@jupyter-widgets/controls",
      "_view_module_version": "1.5.0",
      "_view_name": "VBoxView",
      "box_style": "",
      "children": [
       "IPY_MODEL_8950745c9f504d27b4ef3813b82d81e6",
       "IPY_MODEL_d96585996e5145f6a2f59eda4c16f1c0",
       "IPY_MODEL_ab16061f1a58458e9eb79628525c24bd"
      ],
      "layout": "IPY_MODEL_4732cbbbf0bc45dbab790d035a8e91b4"
     }
    },
    "520289191d5040d2a3b27cef4571d04b": {
     "model_module": "@jupyter-widgets/base",
     "model_name": "LayoutModel",
     "state": {
      "_model_module": "@jupyter-widgets/base",
      "_model_module_version": "1.2.0",
      "_model_name": "LayoutModel",
      "_view_count": null,
      "_view_module": "@jupyter-widgets/base",
      "_view_module_version": "1.2.0",
      "_view_name": "LayoutView",
      "align_content": null,
      "align_items": null,
      "align_self": null,
      "border": null,
      "bottom": null,
      "display": null,
      "flex": null,
      "flex_flow": null,
      "grid_area": null,
      "grid_auto_columns": null,
      "grid_auto_flow": null,
      "grid_auto_rows": null,
      "grid_column": null,
      "grid_gap": null,
      "grid_row": null,
      "grid_template_areas": null,
      "grid_template_columns": null,
      "grid_template_rows": null,
      "height": null,
      "justify_content": null,
      "justify_items": null,
      "left": null,
      "margin": null,
      "max_height": null,
      "max_width": null,
      "min_height": null,
      "min_width": null,
      "object_fit": null,
      "object_position": null,
      "order": null,
      "overflow": null,
      "overflow_x": null,
      "overflow_y": null,
      "padding": null,
      "right": null,
      "top": null,
      "visibility": null,
      "width": null
     }
    },
    "5862536bc84841619e5520d8d3b6d460": {
     "model_module": "@jupyter-widgets/controls",
     "model_name": "SliderStyleModel",
     "state": {
      "_model_module": "@jupyter-widgets/controls",
      "_model_module_version": "1.5.0",
      "_model_name": "SliderStyleModel",
      "_view_count": null,
      "_view_module": "@jupyter-widgets/base",
      "_view_module_version": "1.2.0",
      "_view_name": "StyleView",
      "description_width": "",
      "handle_color": null
     }
    },
    "5a0efdda87754f84ad8ea1208b4a038a": {
     "model_module": "@jupyter-widgets/base",
     "model_name": "LayoutModel",
     "state": {
      "_model_module": "@jupyter-widgets/base",
      "_model_module_version": "1.2.0",
      "_model_name": "LayoutModel",
      "_view_count": null,
      "_view_module": "@jupyter-widgets/base",
      "_view_module_version": "1.2.0",
      "_view_name": "LayoutView",
      "align_content": null,
      "align_items": null,
      "align_self": null,
      "border": null,
      "bottom": null,
      "display": null,
      "flex": null,
      "flex_flow": null,
      "grid_area": null,
      "grid_auto_columns": null,
      "grid_auto_flow": null,
      "grid_auto_rows": null,
      "grid_column": null,
      "grid_gap": null,
      "grid_row": null,
      "grid_template_areas": null,
      "grid_template_columns": null,
      "grid_template_rows": null,
      "height": null,
      "justify_content": null,
      "justify_items": null,
      "left": null,
      "margin": null,
      "max_height": null,
      "max_width": null,
      "min_height": null,
      "min_width": null,
      "object_fit": null,
      "object_position": null,
      "order": null,
      "overflow": null,
      "overflow_x": null,
      "overflow_y": null,
      "padding": null,
      "right": null,
      "top": null,
      "visibility": null,
      "width": null
     }
    },
    "60fca2a7ab1f40729b7f789c7dad0802": {
     "model_module": "@jupyter-widgets/base",
     "model_name": "LayoutModel",
     "state": {
      "_model_module": "@jupyter-widgets/base",
      "_model_module_version": "1.2.0",
      "_model_name": "LayoutModel",
      "_view_count": null,
      "_view_module": "@jupyter-widgets/base",
      "_view_module_version": "1.2.0",
      "_view_name": "LayoutView",
      "align_content": null,
      "align_items": null,
      "align_self": null,
      "border": null,
      "bottom": null,
      "display": null,
      "flex": null,
      "flex_flow": null,
      "grid_area": null,
      "grid_auto_columns": null,
      "grid_auto_flow": null,
      "grid_auto_rows": null,
      "grid_column": null,
      "grid_gap": null,
      "grid_row": null,
      "grid_template_areas": null,
      "grid_template_columns": null,
      "grid_template_rows": null,
      "height": null,
      "justify_content": null,
      "justify_items": null,
      "left": null,
      "margin": null,
      "max_height": null,
      "max_width": null,
      "min_height": null,
      "min_width": null,
      "object_fit": null,
      "object_position": null,
      "order": null,
      "overflow": null,
      "overflow_x": null,
      "overflow_y": null,
      "padding": null,
      "right": null,
      "top": null,
      "visibility": null,
      "width": null
     }
    },
    "6376f606dacb463caf62b350c37f4f7a": {
     "model_module": "@jupyter-widgets/controls",
     "model_name": "HBoxModel",
     "state": {
      "_dom_classes": [],
      "_model_module": "@jupyter-widgets/controls",
      "_model_module_version": "1.5.0",
      "_model_name": "HBoxModel",
      "_view_count": null,
      "_view_module": "@jupyter-widgets/controls",
      "_view_module_version": "1.5.0",
      "_view_name": "HBoxView",
      "box_style": "",
      "children": [],
      "layout": "IPY_MODEL_a0420abf762640ed8825560402b5aadb"
     }
    },
    "644160ff8d1b4343ad22e3850295f73a": {
     "model_module": "@jupyter-widgets/controls",
     "model_name": "DescriptionStyleModel",
     "state": {
      "_model_module": "@jupyter-widgets/controls",
      "_model_module_version": "1.5.0",
      "_model_name": "DescriptionStyleModel",
      "_view_count": null,
      "_view_module": "@jupyter-widgets/base",
      "_view_module_version": "1.2.0",
      "_view_name": "StyleView",
      "description_width": ""
     }
    },
    "662280ef74d940698257997d8b3f7f7b": {
     "model_module": "@jupyter-widgets/controls",
     "model_name": "DescriptionStyleModel",
     "state": {
      "_model_module": "@jupyter-widgets/controls",
      "_model_module_version": "1.5.0",
      "_model_name": "DescriptionStyleModel",
      "_view_count": null,
      "_view_module": "@jupyter-widgets/base",
      "_view_module_version": "1.2.0",
      "_view_name": "StyleView",
      "description_width": ""
     }
    },
    "6b5379d53758418587906e9de3020e0f": {
     "model_module": "@jupyter-widgets/controls",
     "model_name": "VBoxModel",
     "state": {
      "_dom_classes": [
       "widget-interact"
      ],
      "_model_module": "@jupyter-widgets/controls",
      "_model_module_version": "1.5.0",
      "_model_name": "VBoxModel",
      "_view_count": null,
      "_view_module": "@jupyter-widgets/controls",
      "_view_module_version": "1.5.0",
      "_view_name": "VBoxView",
      "box_style": "",
      "children": [
       "IPY_MODEL_2f9de9bf6ffa450492af3137240cf2e9",
       "IPY_MODEL_727ef498c2b74996891f80163c5533ab",
       "IPY_MODEL_beef65bd6d994cbb83a481dd8be48df8"
      ],
      "layout": "IPY_MODEL_3a5f40da49c145389548d3ccaf35f310"
     }
    },
    "706a79b8bbd84034ba0bdb54c64b185f": {
     "model_module": "@jupyter-widgets/controls",
     "model_name": "DescriptionStyleModel",
     "state": {
      "_model_module": "@jupyter-widgets/controls",
      "_model_module_version": "1.5.0",
      "_model_name": "DescriptionStyleModel",
      "_view_count": null,
      "_view_module": "@jupyter-widgets/base",
      "_view_module_version": "1.2.0",
      "_view_name": "StyleView",
      "description_width": ""
     }
    },
    "727ef498c2b74996891f80163c5533ab": {
     "model_module": "@jupyter-widgets/controls",
     "model_name": "DropdownModel",
     "state": {
      "_dom_classes": [],
      "_model_module": "@jupyter-widgets/controls",
      "_model_module_version": "1.5.0",
      "_model_name": "DropdownModel",
      "_options_labels": [
       "0",
       "1"
      ],
      "_view_count": null,
      "_view_module": "@jupyter-widgets/controls",
      "_view_module_version": "1.5.0",
      "_view_name": "DropdownView",
      "description": "b",
      "description_tooltip": null,
      "disabled": false,
      "index": 0,
      "layout": "IPY_MODEL_520289191d5040d2a3b27cef4571d04b",
      "style": "IPY_MODEL_644160ff8d1b4343ad22e3850295f73a"
     }
    },
    "75f89b25b49546d4b50642104bf0825e": {
     "model_module": "@jupyter-widgets/controls",
     "model_name": "DescriptionStyleModel",
     "state": {
      "_model_module": "@jupyter-widgets/controls",
      "_model_module_version": "1.5.0",
      "_model_name": "DescriptionStyleModel",
      "_view_count": null,
      "_view_module": "@jupyter-widgets/base",
      "_view_module_version": "1.2.0",
      "_view_name": "StyleView",
      "description_width": ""
     }
    },
    "7680144146db4b29b7f6242cb0eed805": {
     "model_module": "@jupyter-widgets/controls",
     "model_name": "DescriptionStyleModel",
     "state": {
      "_model_module": "@jupyter-widgets/controls",
      "_model_module_version": "1.5.0",
      "_model_name": "DescriptionStyleModel",
      "_view_count": null,
      "_view_module": "@jupyter-widgets/base",
      "_view_module_version": "1.2.0",
      "_view_name": "StyleView",
      "description_width": ""
     }
    },
    "7764929bdf9f4401bfefe48e0def4a01": {
     "model_module": "@jupyter-widgets/controls",
     "model_name": "VBoxModel",
     "state": {
      "_dom_classes": [
       "widget-interact"
      ],
      "_model_module": "@jupyter-widgets/controls",
      "_model_module_version": "1.5.0",
      "_model_name": "VBoxModel",
      "_view_count": null,
      "_view_module": "@jupyter-widgets/controls",
      "_view_module_version": "1.5.0",
      "_view_name": "VBoxView",
      "box_style": "",
      "children": [
       "IPY_MODEL_de581af6d79d4f208501cc741c9f8eea",
       "IPY_MODEL_a91ef68f0ba843af96e75d5e11c2aaae"
      ],
      "layout": "IPY_MODEL_f1d03ecb95d74aa6b9dc32d869ab0784"
     }
    },
    "79d5439de1b749bd956d0adb0e2a053b": {
     "model_module": "@jupyter-widgets/base",
     "model_name": "LayoutModel",
     "state": {
      "_model_module": "@jupyter-widgets/base",
      "_model_module_version": "1.2.0",
      "_model_name": "LayoutModel",
      "_view_count": null,
      "_view_module": "@jupyter-widgets/base",
      "_view_module_version": "1.2.0",
      "_view_name": "LayoutView",
      "align_content": null,
      "align_items": null,
      "align_self": null,
      "border": null,
      "bottom": null,
      "display": null,
      "flex": null,
      "flex_flow": null,
      "grid_area": null,
      "grid_auto_columns": null,
      "grid_auto_flow": null,
      "grid_auto_rows": null,
      "grid_column": null,
      "grid_gap": null,
      "grid_row": null,
      "grid_template_areas": null,
      "grid_template_columns": null,
      "grid_template_rows": null,
      "height": null,
      "justify_content": null,
      "justify_items": null,
      "left": null,
      "margin": null,
      "max_height": null,
      "max_width": null,
      "min_height": null,
      "min_width": null,
      "object_fit": null,
      "object_position": null,
      "order": null,
      "overflow": null,
      "overflow_x": null,
      "overflow_y": null,
      "padding": null,
      "right": null,
      "top": null,
      "visibility": null,
      "width": null
     }
    },
    "7b8af83102844908a512231f475ae898": {
     "model_module": "@jupyter-widgets/controls",
     "model_name": "DescriptionStyleModel",
     "state": {
      "_model_module": "@jupyter-widgets/controls",
      "_model_module_version": "1.5.0",
      "_model_name": "DescriptionStyleModel",
      "_view_count": null,
      "_view_module": "@jupyter-widgets/base",
      "_view_module_version": "1.2.0",
      "_view_name": "StyleView",
      "description_width": ""
     }
    },
    "7ee64c17e51f4609a92b60ad7f92e5ba": {
     "model_module": "@jupyter-widgets/base",
     "model_name": "LayoutModel",
     "state": {
      "_model_module": "@jupyter-widgets/base",
      "_model_module_version": "1.2.0",
      "_model_name": "LayoutModel",
      "_view_count": null,
      "_view_module": "@jupyter-widgets/base",
      "_view_module_version": "1.2.0",
      "_view_name": "LayoutView",
      "align_content": null,
      "align_items": null,
      "align_self": null,
      "border": null,
      "bottom": null,
      "display": null,
      "flex": null,
      "flex_flow": null,
      "grid_area": null,
      "grid_auto_columns": null,
      "grid_auto_flow": null,
      "grid_auto_rows": null,
      "grid_column": null,
      "grid_gap": null,
      "grid_row": null,
      "grid_template_areas": null,
      "grid_template_columns": null,
      "grid_template_rows": null,
      "height": null,
      "justify_content": null,
      "justify_items": null,
      "left": null,
      "margin": null,
      "max_height": null,
      "max_width": null,
      "min_height": null,
      "min_width": null,
      "object_fit": null,
      "object_position": null,
      "order": null,
      "overflow": null,
      "overflow_x": null,
      "overflow_y": null,
      "padding": null,
      "right": null,
      "top": null,
      "visibility": null,
      "width": null
     }
    },
    "80012e6f51bc40cb9257c7791445bf5f": {
     "model_module": "@jupyter-widgets/output",
     "model_name": "OutputModel",
     "state": {
      "_dom_classes": [],
      "_model_module": "@jupyter-widgets/output",
      "_model_module_version": "1.0.0",
      "_model_name": "OutputModel",
      "_view_count": null,
      "_view_module": "@jupyter-widgets/output",
      "_view_module_version": "1.0.0",
      "_view_name": "OutputView",
      "layout": "IPY_MODEL_79d5439de1b749bd956d0adb0e2a053b",
      "msg_id": "",
      "outputs": [
       {
        "application/vnd.jupyter.widget-view+json": {
         "model_id": "8983df30cd84497b95b6bcc59236f5fc",
         "version_major": 2,
         "version_minor": 0
        },
        "metadata": {
         "tags": []
        },
        "output_type": "display_data",
        "text/plain": "HBox(layout=Layout(padding='35px'))"
       },
       {
        "image/png": "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\n",
        "image/svg+xml": "<?xml version=\"1.0\" encoding=\"utf-8\" standalone=\"no\"?>\r\n<!DOCTYPE svg PUBLIC \"-//W3C//DTD SVG 1.1//EN\"\r\n  \"http://www.w3.org/Graphics/SVG/1.1/DTD/svg11.dtd\">\r\n<svg height=\"207.52pt\" version=\"1.1\" viewBox=\"0 0 417.792625 207.52\" width=\"417.792625pt\" xmlns=\"http://www.w3.org/2000/svg\" xmlns:xlink=\"http://www.w3.org/1999/xlink\">\r\n <metadata>\r\n  <rdf:RDF xmlns:cc=\"http://creativecommons.org/ns#\" xmlns:dc=\"http://purl.org/dc/elements/1.1/\" xmlns:rdf=\"http://www.w3.org/1999/02/22-rdf-syntax-ns#\">\r\n   <cc:Work>\r\n    <dc:type rdf:resource=\"http://purl.org/dc/dcmitype/StillImage\"/>\r\n    <dc:date>2021-05-25T18:34:01.645642</dc:date>\r\n    <dc:format>image/svg+xml</dc:format>\r\n    <dc:creator>\r\n     <cc:Agent>\r\n      <dc:title>Matplotlib v3.4.2, https://matplotlib.org/</dc:title>\r\n     </cc:Agent>\r\n    </dc:creator>\r\n   </cc:Work>\r\n  </rdf:RDF>\r\n </metadata>\r\n <defs>\r\n  <style type=\"text/css\">*{stroke-linecap:butt;stroke-linejoin:round;}</style>\r\n </defs>\r\n <g id=\"figure_1\">\r\n  <g id=\"patch_1\">\r\n   <path d=\"M 0 207.52 \r\nL 417.792625 207.52 \r\nL 417.792625 0 \r\nL 0 0 \r\nz\r\n\" style=\"fill:none;\"/>\r\n  </g>\r\n  <g id=\"axes_1\">\r\n   <g id=\"patch_2\">\r\n    <path clip-path=\"url(#p0f55e886b0)\" d=\"M 115.200625 47.66 \r\nC 116.1474 47.66 117.055525 47.283842 117.724996 46.614371 \r\nC 118.394467 45.9449 118.770625 45.036775 118.770625 44.09 \r\nC 118.770625 43.143225 118.394467 42.2351 117.724996 41.565629 \r\nC 117.055525 40.896158 116.1474 40.52 115.200625 40.52 \r\nC 114.25385 40.52 113.345725 40.896158 112.676254 41.565629 \r\nC 112.006783 42.2351 111.630625 43.143225 111.630625 44.09 \r\nC 111.630625 45.036775 112.006783 45.9449 112.676254 46.614371 \r\nC 113.345725 47.283842 114.25385 47.66 115.200625 47.66 \r\nz\r\n\" style=\"fill:none;stroke:#000000;stroke-linejoin:miter;stroke-width:2;\"/>\r\n   </g>\r\n   <g id=\"patch_3\">\r\n    <path clip-path=\"url(#p0f55e886b0)\" d=\"M 251.370625 47.66 \r\nC 252.3174 47.66 253.225525 47.283842 253.894996 46.614371 \r\nC 254.564467 45.9449 254.940625 45.036775 254.940625 44.09 \r\nC 254.940625 43.143225 254.564467 42.2351 253.894996 41.565629 \r\nC 253.225525 40.896158 252.3174 40.52 251.370625 40.52 \r\nC 250.42385 40.52 249.515725 40.896158 248.846254 41.565629 \r\nC 248.176783 42.2351 247.800625 43.143225 247.800625 44.09 \r\nC 247.800625 45.036775 248.176783 45.9449 248.846254 46.614371 \r\nC 249.515725 47.283842 250.42385 47.66 251.370625 47.66 \r\nz\r\n\" style=\"fill:none;stroke:#000000;stroke-linejoin:miter;stroke-width:2;\"/>\r\n   </g>\r\n   <g id=\"line2d_1\">\r\n    <path clip-path=\"url(#p0f55e886b0)\" d=\"M 146.820625 158.84 \r\nL 146.820625 146.09 \r\nL 126.420625 146.09 \r\nL 126.420625 125.69 \r\nL 146.820625 125.69 \r\nL 146.820625 112.94 \r\n\" style=\"fill:none;stroke:#000000;stroke-linecap:round;stroke-width:2;\"/>\r\n   </g>\r\n   <g id=\"line2d_2\">\r\n    <path clip-path=\"url(#p0f55e886b0)\" d=\"M 118.770625 146.09 \r\nL 118.770625 125.69 \r\n\" style=\"fill:none;stroke:#000000;stroke-linecap:round;stroke-width:2;\"/>\r\n   </g>\r\n   <g id=\"line2d_3\">\r\n    <path clip-path=\"url(#p0f55e886b0)\" d=\"M 118.770625 135.89 \r\nL 102.450625 135.89 \r\n\" style=\"fill:none;stroke:#000000;stroke-linecap:round;stroke-width:2;\"/>\r\n   </g>\r\n   <g id=\"line2d_4\">\r\n    <path clip-path=\"url(#p0f55e886b0)\" d=\"M 102.450625 135.89 \r\nL 94.800625 135.89 \r\nL 87.150625 135.89 \r\n\" style=\"fill:none;stroke:#000000;stroke-linecap:round;stroke-width:2;\"/>\r\n   </g>\r\n   <g id=\"line2d_5\">\r\n    <path clip-path=\"url(#p0f55e886b0)\" d=\"M 87.150625 135.89 \r\nL 79.500625 135.89 \r\nL 71.850625 135.89 \r\n\" style=\"fill:none;stroke:#000000;stroke-linecap:round;stroke-width:2;\"/>\r\n   </g>\r\n   <g id=\"line2d_6\">\r\n    <path clip-path=\"url(#p0f55e886b0)\" d=\"M 87.150625 135.89 \r\nL 87.150625 151.19 \r\nL 87.150625 166.49 \r\n\" style=\"fill:none;stroke:#000000;stroke-linecap:round;stroke-width:2;\"/>\r\n   </g>\r\n   <g id=\"line2d_7\">\r\n    <path clip-path=\"url(#p0f55e886b0)\" d=\"M 146.820625 158.84 \r\nL 146.820625 174.14 \r\nL 146.820625 189.44 \r\n\" style=\"fill:none;stroke:#000000;stroke-linecap:round;stroke-width:2;\"/>\r\n   </g>\r\n   <g id=\"line2d_8\">\r\n    <path clip-path=\"url(#p0f55e886b0)\" d=\"M 146.820625 189.44 \r\nL 100.920625 189.44 \r\nL 55.020625 189.44 \r\n\" style=\"fill:none;stroke:#000000;stroke-linecap:round;stroke-width:2;\"/>\r\n   </g>\r\n   <g id=\"line2d_9\">\r\n    <path clip-path=\"url(#p0f55e886b0)\" d=\"M 146.820625 189.44 \r\nL 253.920625 189.44 \r\nL 361.020625 189.44 \r\n\" style=\"fill:none;stroke:#000000;stroke-linecap:round;stroke-width:2;\"/>\r\n   </g>\r\n   <g id=\"line2d_10\">\r\n    <path clip-path=\"url(#p0f55e886b0)\" d=\"M 146.820625 112.94 \r\nL 146.820625 100.19 \r\nL 126.420625 100.19 \r\nL 126.420625 79.79 \r\nL 146.820625 79.79 \r\nL 146.820625 67.04 \r\n\" style=\"fill:none;stroke:#000000;stroke-linecap:round;stroke-width:2;\"/>\r\n   </g>\r\n   <g id=\"line2d_11\">\r\n    <path clip-path=\"url(#p0f55e886b0)\" d=\"M 118.770625 100.19 \r\nL 118.770625 79.79 \r\n\" style=\"fill:none;stroke:#000000;stroke-linecap:round;stroke-width:2;\"/>\r\n   </g>\r\n   <g id=\"line2d_12\">\r\n    <path clip-path=\"url(#p0f55e886b0)\" d=\"M 118.770625 89.99 \r\nL 102.450625 89.99 \r\n\" style=\"fill:none;stroke:#000000;stroke-linecap:round;stroke-width:2;\"/>\r\n   </g>\r\n   <g id=\"line2d_13\">\r\n    <path clip-path=\"url(#p0f55e886b0)\" d=\"M 146.820625 67.04 \r\nL 146.820625 54.29 \r\nL 126.420625 54.29 \r\nL 126.420625 33.89 \r\nL 146.820625 33.89 \r\nL 146.820625 21.14 \r\n\" style=\"fill:none;stroke:#000000;stroke-linecap:round;stroke-width:2;\"/>\r\n   </g>\r\n   <g id=\"line2d_14\">\r\n    <path clip-path=\"url(#p0f55e886b0)\" d=\"M 118.770625 54.29 \r\nL 118.770625 33.89 \r\n\" style=\"fill:none;stroke:#000000;stroke-linecap:round;stroke-width:2;\"/>\r\n   </g>\r\n   <g id=\"line2d_15\">\r\n    <path clip-path=\"url(#p0f55e886b0)\" d=\"M 111.630625 44.09 \r\nL 102.450625 44.09 \r\n\" style=\"fill:none;stroke:#000000;stroke-linecap:round;stroke-width:2;\"/>\r\n   </g>\r\n   <g id=\"line2d_16\">\r\n    <path clip-path=\"url(#p0f55e886b0)\" d=\"M 102.450625 44.09 \r\nL 102.450625 55.565 \r\nL 102.450625 67.04 \r\n\" style=\"fill:none;stroke:#000000;stroke-linecap:round;stroke-width:2;\"/>\r\n   </g>\r\n   <g id=\"line2d_17\">\r\n    <path clip-path=\"url(#p0f55e886b0)\" d=\"M 102.450625 67.04 \r\nL 87.150625 67.04 \r\nL 71.850625 67.04 \r\n\" style=\"fill:none;stroke:#000000;stroke-linecap:round;stroke-width:2;\"/>\r\n   </g>\r\n   <g id=\"line2d_18\">\r\n    <path clip-path=\"url(#p0f55e886b0)\" d=\"M 102.450625 67.04 \r\nL 102.450625 78.515 \r\nL 102.450625 89.99 \r\n\" style=\"fill:none;stroke:#000000;stroke-linecap:round;stroke-width:2;\"/>\r\n   </g>\r\n   <g id=\"line2d_19\">\r\n    <path clip-path=\"url(#p0f55e886b0)\" d=\"M 146.820625 21.14 \r\nL 100.920625 21.14 \r\nL 55.020625 21.14 \r\n\" style=\"fill:none;stroke:#000000;stroke-linecap:round;stroke-width:2;\"/>\r\n   </g>\r\n   <g id=\"line2d_20\">\r\n    <path clip-path=\"url(#p0f55e886b0)\" d=\"M 146.820625 21.14 \r\nL 192.720625 21.14 \r\nL 238.620625 21.14 \r\n\" style=\"fill:none;stroke:#000000;stroke-linecap:round;stroke-width:2;\"/>\r\n   </g>\r\n   <g id=\"line2d_21\">\r\n    <path clip-path=\"url(#p0f55e886b0)\" d=\"M 282.990625 67.04 \r\nL 282.990625 54.29 \r\nL 262.590625 54.29 \r\nL 262.590625 33.89 \r\nL 282.990625 33.89 \r\nL 282.990625 21.14 \r\n\" style=\"fill:none;stroke:#000000;stroke-linecap:round;stroke-width:2;\"/>\r\n   </g>\r\n   <g id=\"line2d_22\">\r\n    <path clip-path=\"url(#p0f55e886b0)\" d=\"M 254.940625 54.29 \r\nL 254.940625 33.89 \r\n\" style=\"fill:none;stroke:#000000;stroke-linecap:round;stroke-width:2;\"/>\r\n   </g>\r\n   <g id=\"line2d_23\">\r\n    <path clip-path=\"url(#p0f55e886b0)\" d=\"M 238.620625 44.09 \r\nL 247.800625 44.09 \r\n\" style=\"fill:none;stroke:#000000;stroke-linecap:round;stroke-width:2;\"/>\r\n   </g>\r\n   <g id=\"line2d_24\">\r\n    <path clip-path=\"url(#p0f55e886b0)\" d=\"M 146.820625 21.14 \r\nL 214.905625 21.14 \r\nL 282.990625 21.14 \r\n\" style=\"fill:none;stroke:#000000;stroke-linecap:round;stroke-width:2;\"/>\r\n   </g>\r\n   <g id=\"line2d_25\">\r\n    <path clip-path=\"url(#p0f55e886b0)\" d=\"M 282.990625 21.14 \r\nL 328.890625 21.14 \r\nL 374.790625 21.14 \r\n\" style=\"fill:none;stroke:#000000;stroke-linecap:round;stroke-width:2;\"/>\r\n   </g>\r\n   <g id=\"line2d_26\">\r\n    <path clip-path=\"url(#p0f55e886b0)\" d=\"M 238.620625 44.09 \r\nL 223.320625 44.09 \r\nL 208.020625 44.09 \r\n\" style=\"fill:none;stroke:#000000;stroke-linecap:round;stroke-width:2;\"/>\r\n   </g>\r\n   <g id=\"line2d_27\">\r\n    <path clip-path=\"url(#p0f55e886b0)\" d=\"M 208.020625 44.09 \r\nL 208.020625 55.565 \r\nL 208.020625 67.04 \r\n\" style=\"fill:none;stroke:#000000;stroke-linecap:round;stroke-width:2;\"/>\r\n   </g>\r\n   <g id=\"line2d_28\">\r\n    <path clip-path=\"url(#p0f55e886b0)\" d=\"M 208.020625 67.04 \r\nL 208.020625 116.765 \r\nL 208.020625 166.49 \r\n\" style=\"fill:none;stroke:#000000;stroke-linecap:round;stroke-width:2;\"/>\r\n   </g>\r\n   <g id=\"line2d_29\">\r\n    <path clip-path=\"url(#p0f55e886b0)\" d=\"M 208.020625 166.49 \r\nL 177.182489 166.49 \r\nL 146.344353 166.49 \r\n\" style=\"fill:none;stroke:#000000;stroke-linecap:round;stroke-width:2;\"/>\r\n   </g>\r\n   <g id=\"line2d_30\">\r\n    <path clip-path=\"url(#p0f55e886b0)\" d=\"M 146.344353 166.49 \r\nL 116.747489 166.49 \r\nL 87.150625 166.49 \r\n\" style=\"fill:none;stroke:#000000;stroke-linecap:round;stroke-width:2;\"/>\r\n   </g>\r\n   <g id=\"line2d_31\">\r\n    <path clip-path=\"url(#p0f55e886b0)\" d=\"M 146.820625 67.04 \r\nL 214.905625 67.04 \r\nL 282.990625 67.04 \r\n\" style=\"fill:none;stroke:#000000;stroke-linecap:round;stroke-width:2;\"/>\r\n   </g>\r\n   <g id=\"line2d_32\">\r\n    <path clip-path=\"url(#p0f55e886b0)\" d=\"M 282.990625 67.04 \r\nL 328.890625 67.04 \r\nL 374.790625 67.04 \r\n\" style=\"fill:none;stroke:#000000;stroke-linecap:round;stroke-width:2;\"/>\r\n   </g>\r\n   <g id=\"text_1\">\r\n    <!-- open -->\r\n    <g style=\"fill:#ff0000;\" transform=\"translate(149.880625 139.753125)scale(0.14 -0.14)\">\r\n     <defs>\r\n      <path d=\"M 1959 3097 \r\nQ 1497 3097 1228 2736 \r\nQ 959 2375 959 1747 \r\nQ 959 1119 1226 758 \r\nQ 1494 397 1959 397 \r\nQ 2419 397 2687 759 \r\nQ 2956 1122 2956 1747 \r\nQ 2956 2369 2687 2733 \r\nQ 2419 3097 1959 3097 \r\nz\r\nM 1959 3584 \r\nQ 2709 3584 3137 3096 \r\nQ 3566 2609 3566 1747 \r\nQ 3566 888 3137 398 \r\nQ 2709 -91 1959 -91 \r\nQ 1206 -91 779 398 \r\nQ 353 888 353 1747 \r\nQ 353 2609 779 3096 \r\nQ 1206 3584 1959 3584 \r\nz\r\n\" id=\"DejaVuSans-6f\" transform=\"scale(0.015625)\"/>\r\n      <path d=\"M 1159 525 \r\nL 1159 -1331 \r\nL 581 -1331 \r\nL 581 3500 \r\nL 1159 3500 \r\nL 1159 2969 \r\nQ 1341 3281 1617 3432 \r\nQ 1894 3584 2278 3584 \r\nQ 2916 3584 3314 3078 \r\nQ 3713 2572 3713 1747 \r\nQ 3713 922 3314 415 \r\nQ 2916 -91 2278 -91 \r\nQ 1894 -91 1617 61 \r\nQ 1341 213 1159 525 \r\nz\r\nM 3116 1747 \r\nQ 3116 2381 2855 2742 \r\nQ 2594 3103 2138 3103 \r\nQ 1681 3103 1420 2742 \r\nQ 1159 2381 1159 1747 \r\nQ 1159 1113 1420 752 \r\nQ 1681 391 2138 391 \r\nQ 2594 391 2855 752 \r\nQ 3116 1113 3116 1747 \r\nz\r\n\" id=\"DejaVuSans-70\" transform=\"scale(0.015625)\"/>\r\n      <path d=\"M 3597 1894 \r\nL 3597 1613 \r\nL 953 1613 \r\nQ 991 1019 1311 708 \r\nQ 1631 397 2203 397 \r\nQ 2534 397 2845 478 \r\nQ 3156 559 3463 722 \r\nL 3463 178 \r\nQ 3153 47 2828 -22 \r\nQ 2503 -91 2169 -91 \r\nQ 1331 -91 842 396 \r\nQ 353 884 353 1716 \r\nQ 353 2575 817 3079 \r\nQ 1281 3584 2069 3584 \r\nQ 2775 3584 3186 3129 \r\nQ 3597 2675 3597 1894 \r\nz\r\nM 3022 2063 \r\nQ 3016 2534 2758 2815 \r\nQ 2500 3097 2075 3097 \r\nQ 1594 3097 1305 2825 \r\nQ 1016 2553 972 2059 \r\nL 3022 2063 \r\nz\r\n\" id=\"DejaVuSans-65\" transform=\"scale(0.015625)\"/>\r\n      <path d=\"M 3513 2113 \r\nL 3513 0 \r\nL 2938 0 \r\nL 2938 2094 \r\nQ 2938 2591 2744 2837 \r\nQ 2550 3084 2163 3084 \r\nQ 1697 3084 1428 2787 \r\nQ 1159 2491 1159 1978 \r\nL 1159 0 \r\nL 581 0 \r\nL 581 3500 \r\nL 1159 3500 \r\nL 1159 2956 \r\nQ 1366 3272 1645 3428 \r\nQ 1925 3584 2291 3584 \r\nQ 2894 3584 3203 3211 \r\nQ 3513 2838 3513 2113 \r\nz\r\n\" id=\"DejaVuSans-6e\" transform=\"scale(0.015625)\"/>\r\n     </defs>\r\n     <use xlink:href=\"#DejaVuSans-6f\"/>\r\n     <use x=\"61.181641\" xlink:href=\"#DejaVuSans-70\"/>\r\n     <use x=\"124.658203\" xlink:href=\"#DejaVuSans-65\"/>\r\n     <use x=\"186.181641\" xlink:href=\"#DejaVuSans-6e\"/>\r\n    </g>\r\n   </g>\r\n   <g id=\"text_2\">\r\n    <!-- B=0 -->\r\n    <g transform=\"translate(38.54625 139.753125)scale(0.14 -0.14)\">\r\n     <defs>\r\n      <path d=\"M 1259 2228 \r\nL 1259 519 \r\nL 2272 519 \r\nQ 2781 519 3026 730 \r\nQ 3272 941 3272 1375 \r\nQ 3272 1813 3026 2020 \r\nQ 2781 2228 2272 2228 \r\nL 1259 2228 \r\nz\r\nM 1259 4147 \r\nL 1259 2741 \r\nL 2194 2741 \r\nQ 2656 2741 2882 2914 \r\nQ 3109 3088 3109 3444 \r\nQ 3109 3797 2882 3972 \r\nQ 2656 4147 2194 4147 \r\nL 1259 4147 \r\nz\r\nM 628 4666 \r\nL 2241 4666 \r\nQ 2963 4666 3353 4366 \r\nQ 3744 4066 3744 3513 \r\nQ 3744 3084 3544 2831 \r\nQ 3344 2578 2956 2516 \r\nQ 3422 2416 3680 2098 \r\nQ 3938 1781 3938 1306 \r\nQ 3938 681 3513 340 \r\nQ 3088 0 2303 0 \r\nL 628 0 \r\nL 628 4666 \r\nz\r\n\" id=\"DejaVuSans-42\" transform=\"scale(0.015625)\"/>\r\n      <path d=\"M 678 2906 \r\nL 4684 2906 \r\nL 4684 2381 \r\nL 678 2381 \r\nL 678 2906 \r\nz\r\nM 678 1631 \r\nL 4684 1631 \r\nL 4684 1100 \r\nL 678 1100 \r\nL 678 1631 \r\nz\r\n\" id=\"DejaVuSans-3d\" transform=\"scale(0.015625)\"/>\r\n      <path d=\"M 2034 4250 \r\nQ 1547 4250 1301 3770 \r\nQ 1056 3291 1056 2328 \r\nQ 1056 1369 1301 889 \r\nQ 1547 409 2034 409 \r\nQ 2525 409 2770 889 \r\nQ 3016 1369 3016 2328 \r\nQ 3016 3291 2770 3770 \r\nQ 2525 4250 2034 4250 \r\nz\r\nM 2034 4750 \r\nQ 2819 4750 3233 4129 \r\nQ 3647 3509 3647 2328 \r\nQ 3647 1150 3233 529 \r\nQ 2819 -91 2034 -91 \r\nQ 1250 -91 836 529 \r\nQ 422 1150 422 2328 \r\nQ 422 3509 836 4129 \r\nQ 1250 4750 2034 4750 \r\nz\r\n\" id=\"DejaVuSans-30\" transform=\"scale(0.015625)\"/>\r\n     </defs>\r\n     <use xlink:href=\"#DejaVuSans-42\"/>\r\n     <use x=\"68.603516\" xlink:href=\"#DejaVuSans-3d\"/>\r\n     <use x=\"152.392578\" xlink:href=\"#DejaVuSans-30\"/>\r\n    </g>\r\n   </g>\r\n   <g id=\"text_3\">\r\n    <!-- VSS:0 -->\r\n    <g transform=\"translate(10.984375 193.303125)scale(0.14 -0.14)\">\r\n     <defs>\r\n      <path d=\"M 1831 0 \r\nL 50 4666 \r\nL 709 4666 \r\nL 2188 738 \r\nL 3669 4666 \r\nL 4325 4666 \r\nL 2547 0 \r\nL 1831 0 \r\nz\r\n\" id=\"DejaVuSans-56\" transform=\"scale(0.015625)\"/>\r\n      <path d=\"M 3425 4513 \r\nL 3425 3897 \r\nQ 3066 4069 2747 4153 \r\nQ 2428 4238 2131 4238 \r\nQ 1616 4238 1336 4038 \r\nQ 1056 3838 1056 3469 \r\nQ 1056 3159 1242 3001 \r\nQ 1428 2844 1947 2747 \r\nL 2328 2669 \r\nQ 3034 2534 3370 2195 \r\nQ 3706 1856 3706 1288 \r\nQ 3706 609 3251 259 \r\nQ 2797 -91 1919 -91 \r\nQ 1588 -91 1214 -16 \r\nQ 841 59 441 206 \r\nL 441 856 \r\nQ 825 641 1194 531 \r\nQ 1563 422 1919 422 \r\nQ 2459 422 2753 634 \r\nQ 3047 847 3047 1241 \r\nQ 3047 1584 2836 1778 \r\nQ 2625 1972 2144 2069 \r\nL 1759 2144 \r\nQ 1053 2284 737 2584 \r\nQ 422 2884 422 3419 \r\nQ 422 4038 858 4394 \r\nQ 1294 4750 2059 4750 \r\nQ 2388 4750 2728 4690 \r\nQ 3069 4631 3425 4513 \r\nz\r\n\" id=\"DejaVuSans-53\" transform=\"scale(0.015625)\"/>\r\n      <path d=\"M 750 794 \r\nL 1409 794 \r\nL 1409 0 \r\nL 750 0 \r\nL 750 794 \r\nz\r\nM 750 3309 \r\nL 1409 3309 \r\nL 1409 2516 \r\nL 750 2516 \r\nL 750 3309 \r\nz\r\n\" id=\"DejaVuSans-3a\" transform=\"scale(0.015625)\"/>\r\n     </defs>\r\n     <use xlink:href=\"#DejaVuSans-56\"/>\r\n     <use x=\"68.408203\" xlink:href=\"#DejaVuSans-53\"/>\r\n     <use x=\"131.884766\" xlink:href=\"#DejaVuSans-53\"/>\r\n     <use x=\"195.361328\" xlink:href=\"#DejaVuSans-3a\"/>\r\n     <use x=\"229.052734\" xlink:href=\"#DejaVuSans-30\"/>\r\n    </g>\r\n   </g>\r\n   <g id=\"text_4\">\r\n    <!-- open -->\r\n    <g style=\"fill:#ff0000;\" transform=\"translate(149.880625 93.853125)scale(0.14 -0.14)\">\r\n     <use xlink:href=\"#DejaVuSans-6f\"/>\r\n     <use x=\"61.181641\" xlink:href=\"#DejaVuSans-70\"/>\r\n     <use x=\"124.658203\" xlink:href=\"#DejaVuSans-65\"/>\r\n     <use x=\"186.181641\" xlink:href=\"#DejaVuSans-6e\"/>\r\n    </g>\r\n   </g>\r\n   <g id=\"text_5\">\r\n    <!-- closed -->\r\n    <g style=\"fill:#008000;\" transform=\"translate(149.880625 47.953125)scale(0.14 -0.14)\">\r\n     <defs>\r\n      <path d=\"M 3122 3366 \r\nL 3122 2828 \r\nQ 2878 2963 2633 3030 \r\nQ 2388 3097 2138 3097 \r\nQ 1578 3097 1268 2742 \r\nQ 959 2388 959 1747 \r\nQ 959 1106 1268 751 \r\nQ 1578 397 2138 397 \r\nQ 2388 397 2633 464 \r\nQ 2878 531 3122 666 \r\nL 3122 134 \r\nQ 2881 22 2623 -34 \r\nQ 2366 -91 2075 -91 \r\nQ 1284 -91 818 406 \r\nQ 353 903 353 1747 \r\nQ 353 2603 823 3093 \r\nQ 1294 3584 2113 3584 \r\nQ 2378 3584 2631 3529 \r\nQ 2884 3475 3122 3366 \r\nz\r\n\" id=\"DejaVuSans-63\" transform=\"scale(0.015625)\"/>\r\n      <path d=\"M 603 4863 \r\nL 1178 4863 \r\nL 1178 0 \r\nL 603 0 \r\nL 603 4863 \r\nz\r\n\" id=\"DejaVuSans-6c\" transform=\"scale(0.015625)\"/>\r\n      <path d=\"M 2834 3397 \r\nL 2834 2853 \r\nQ 2591 2978 2328 3040 \r\nQ 2066 3103 1784 3103 \r\nQ 1356 3103 1142 2972 \r\nQ 928 2841 928 2578 \r\nQ 928 2378 1081 2264 \r\nQ 1234 2150 1697 2047 \r\nL 1894 2003 \r\nQ 2506 1872 2764 1633 \r\nQ 3022 1394 3022 966 \r\nQ 3022 478 2636 193 \r\nQ 2250 -91 1575 -91 \r\nQ 1294 -91 989 -36 \r\nQ 684 19 347 128 \r\nL 347 722 \r\nQ 666 556 975 473 \r\nQ 1284 391 1588 391 \r\nQ 1994 391 2212 530 \r\nQ 2431 669 2431 922 \r\nQ 2431 1156 2273 1281 \r\nQ 2116 1406 1581 1522 \r\nL 1381 1569 \r\nQ 847 1681 609 1914 \r\nQ 372 2147 372 2553 \r\nQ 372 3047 722 3315 \r\nQ 1072 3584 1716 3584 \r\nQ 2034 3584 2315 3537 \r\nQ 2597 3491 2834 3397 \r\nz\r\n\" id=\"DejaVuSans-73\" transform=\"scale(0.015625)\"/>\r\n      <path d=\"M 2906 2969 \r\nL 2906 4863 \r\nL 3481 4863 \r\nL 3481 0 \r\nL 2906 0 \r\nL 2906 525 \r\nQ 2725 213 2448 61 \r\nQ 2172 -91 1784 -91 \r\nQ 1150 -91 751 415 \r\nQ 353 922 353 1747 \r\nQ 353 2572 751 3078 \r\nQ 1150 3584 1784 3584 \r\nQ 2172 3584 2448 3432 \r\nQ 2725 3281 2906 2969 \r\nz\r\nM 947 1747 \r\nQ 947 1113 1208 752 \r\nQ 1469 391 1925 391 \r\nQ 2381 391 2643 752 \r\nQ 2906 1113 2906 1747 \r\nQ 2906 2381 2643 2742 \r\nQ 2381 3103 1925 3103 \r\nQ 1469 3103 1208 2742 \r\nQ 947 2381 947 1747 \r\nz\r\n\" id=\"DejaVuSans-64\" transform=\"scale(0.015625)\"/>\r\n     </defs>\r\n     <use xlink:href=\"#DejaVuSans-63\"/>\r\n     <use x=\"54.980469\" xlink:href=\"#DejaVuSans-6c\"/>\r\n     <use x=\"82.763672\" xlink:href=\"#DejaVuSans-6f\"/>\r\n     <use x=\"143.945312\" xlink:href=\"#DejaVuSans-73\"/>\r\n     <use x=\"196.044922\" xlink:href=\"#DejaVuSans-65\"/>\r\n     <use x=\"257.568359\" xlink:href=\"#DejaVuSans-64\"/>\r\n    </g>\r\n   </g>\r\n   <g id=\"text_6\">\r\n    <!-- A=0 -->\r\n    <g transform=\"translate(38.574688 70.903125)scale(0.14 -0.14)\">\r\n     <defs>\r\n      <path d=\"M 2188 4044 \r\nL 1331 1722 \r\nL 3047 1722 \r\nL 2188 4044 \r\nz\r\nM 1831 4666 \r\nL 2547 4666 \r\nL 4325 0 \r\nL 3669 0 \r\nL 3244 1197 \r\nL 1141 1197 \r\nL 716 0 \r\nL 50 0 \r\nL 1831 4666 \r\nz\r\n\" id=\"DejaVuSans-41\" transform=\"scale(0.015625)\"/>\r\n     </defs>\r\n     <use xlink:href=\"#DejaVuSans-41\"/>\r\n     <use x=\"68.408203\" xlink:href=\"#DejaVuSans-3d\"/>\r\n     <use x=\"152.197266\" xlink:href=\"#DejaVuSans-30\"/>\r\n    </g>\r\n   </g>\r\n   <g id=\"text_7\">\r\n    <!-- VDD:1 -->\r\n    <g transform=\"translate(7.2 25.003125)scale(0.14 -0.14)\">\r\n     <defs>\r\n      <path d=\"M 1259 4147 \r\nL 1259 519 \r\nL 2022 519 \r\nQ 2988 519 3436 956 \r\nQ 3884 1394 3884 2338 \r\nQ 3884 3275 3436 3711 \r\nQ 2988 4147 2022 4147 \r\nL 1259 4147 \r\nz\r\nM 628 4666 \r\nL 1925 4666 \r\nQ 3281 4666 3915 4102 \r\nQ 4550 3538 4550 2338 \r\nQ 4550 1131 3912 565 \r\nQ 3275 0 1925 0 \r\nL 628 0 \r\nL 628 4666 \r\nz\r\n\" id=\"DejaVuSans-44\" transform=\"scale(0.015625)\"/>\r\n      <path d=\"M 794 531 \r\nL 1825 531 \r\nL 1825 4091 \r\nL 703 3866 \r\nL 703 4441 \r\nL 1819 4666 \r\nL 2450 4666 \r\nL 2450 531 \r\nL 3481 531 \r\nL 3481 0 \r\nL 794 0 \r\nL 794 531 \r\nz\r\n\" id=\"DejaVuSans-31\" transform=\"scale(0.015625)\"/>\r\n     </defs>\r\n     <use xlink:href=\"#DejaVuSans-56\"/>\r\n     <use x=\"68.408203\" xlink:href=\"#DejaVuSans-44\"/>\r\n     <use x=\"145.410156\" xlink:href=\"#DejaVuSans-44\"/>\r\n     <use x=\"222.412109\" xlink:href=\"#DejaVuSans-3a\"/>\r\n     <use x=\"256.103516\" xlink:href=\"#DejaVuSans-31\"/>\r\n    </g>\r\n   </g>\r\n   <g id=\"text_8\">\r\n    <!-- closed -->\r\n    <g style=\"fill:#008000;\" transform=\"translate(286.050625 47.953125)scale(0.14 -0.14)\">\r\n     <use xlink:href=\"#DejaVuSans-63\"/>\r\n     <use x=\"54.980469\" xlink:href=\"#DejaVuSans-6c\"/>\r\n     <use x=\"82.763672\" xlink:href=\"#DejaVuSans-6f\"/>\r\n     <use x=\"143.945312\" xlink:href=\"#DejaVuSans-73\"/>\r\n     <use x=\"196.044922\" xlink:href=\"#DejaVuSans-65\"/>\r\n     <use x=\"257.568359\" xlink:href=\"#DejaVuSans-64\"/>\r\n    </g>\r\n   </g>\r\n   <g id=\"text_9\">\r\n    <!-- Q=1 -->\r\n    <g transform=\"translate(377.850625 70.903125)scale(0.14 -0.14)\">\r\n     <defs>\r\n      <path d=\"M 2522 4238 \r\nQ 1834 4238 1429 3725 \r\nQ 1025 3213 1025 2328 \r\nQ 1025 1447 1429 934 \r\nQ 1834 422 2522 422 \r\nQ 3209 422 3611 934 \r\nQ 4013 1447 4013 2328 \r\nQ 4013 3213 3611 3725 \r\nQ 3209 4238 2522 4238 \r\nz\r\nM 3406 84 \r\nL 4238 -825 \r\nL 3475 -825 \r\nL 2784 -78 \r\nQ 2681 -84 2626 -87 \r\nQ 2572 -91 2522 -91 \r\nQ 1538 -91 948 567 \r\nQ 359 1225 359 2328 \r\nQ 359 3434 948 4092 \r\nQ 1538 4750 2522 4750 \r\nQ 3503 4750 4090 4092 \r\nQ 4678 3434 4678 2328 \r\nQ 4678 1516 4351 937 \r\nQ 4025 359 3406 84 \r\nz\r\n\" id=\"DejaVuSans-51\" transform=\"scale(0.015625)\"/>\r\n     </defs>\r\n     <use xlink:href=\"#DejaVuSans-51\"/>\r\n     <use x=\"78.710938\" xlink:href=\"#DejaVuSans-3d\"/>\r\n     <use x=\"162.5\" xlink:href=\"#DejaVuSans-31\"/>\r\n    </g>\r\n   </g>\r\n   <g id=\"patch_4\">\r\n    <path clip-path=\"url(#p0f55e886b0)\" d=\"M 208.020625 69.335 \r\nC 208.629266 69.335 209.213061 69.093184 209.643435 68.66281 \r\nC 210.073809 68.232436 210.315625 67.648641 210.315625 67.04 \r\nC 210.315625 66.431359 210.073809 65.847564 209.643435 65.41719 \r\nC 209.213061 64.986816 208.629266 64.745 208.020625 64.745 \r\nC 207.411984 64.745 206.828189 64.986816 206.397815 65.41719 \r\nC 205.967441 65.847564 205.725625 66.431359 205.725625 67.04 \r\nC 205.725625 67.648641 205.967441 68.232436 206.397815 68.66281 \r\nC 206.828189 69.093184 207.411984 69.335 208.020625 69.335 \r\nz\r\n\" style=\"fill:#ffffff;stroke:#000000;stroke-linejoin:miter;stroke-width:2;\"/>\r\n   </g>\r\n   <g id=\"patch_5\">\r\n    <path clip-path=\"url(#p0f55e886b0)\" d=\"M 146.344353 168.785 \r\nC 146.952994 168.785 147.536789 168.543184 147.967163 168.11281 \r\nC 148.397538 167.682436 148.639353 167.098641 148.639353 166.49 \r\nC 148.639353 165.881359 148.397538 165.297564 147.967163 164.86719 \r\nC 147.536789 164.436816 146.952994 164.195 146.344353 164.195 \r\nC 145.735712 164.195 145.151917 164.436816 144.721543 164.86719 \r\nC 144.291169 165.297564 144.049353 165.881359 144.049353 166.49 \r\nC 144.049353 167.098641 144.291169 167.682436 144.721543 168.11281 \r\nC 145.151917 168.543184 145.735712 168.785 146.344353 168.785 \r\nz\r\n\" style=\"fill:#ffffff;stroke:#000000;stroke-linejoin:miter;stroke-width:2;\"/>\r\n   </g>\r\n   <g id=\"patch_6\">\r\n    <path clip-path=\"url(#p0f55e886b0)\" d=\"M 282.990625 69.335 \r\nC 283.599266 69.335 284.183061 69.093184 284.613435 68.66281 \r\nC 285.043809 68.232436 285.285625 67.648641 285.285625 67.04 \r\nC 285.285625 66.431359 285.043809 65.847564 284.613435 65.41719 \r\nC 284.183061 64.986816 283.599266 64.745 282.990625 64.745 \r\nC 282.381984 64.745 281.798189 64.986816 281.367815 65.41719 \r\nC 280.937441 65.847564 280.695625 66.431359 280.695625 67.04 \r\nC 280.695625 67.648641 280.937441 68.232436 281.367815 68.66281 \r\nC 281.798189 69.093184 282.381984 69.335 282.990625 69.335 \r\nz\r\n\" style=\"stroke:#000000;stroke-linejoin:miter;stroke-width:2;\"/>\r\n   </g>\r\n  </g>\r\n </g>\r\n <defs>\r\n  <clipPath id=\"p0f55e886b0\">\r\n   <rect height=\"193.12\" width=\"399.0954\" x=\"11.497225\" y=\"7.2\"/>\r\n  </clipPath>\r\n </defs>\r\n</svg>\r\n",
        "metadata": {
         "tags": []
        },
        "output_type": "display_data",
        "text/plain": "<schemdraw.backends.mpl.Figure object at 0x00000193FB0DDA00>"
       }
      ]
     }
    },
    "849fab9bfa5541b5bdbe8bca2ec300fb": {
     "model_module": "@jupyter-widgets/base",
     "model_name": "LayoutModel",
     "state": {
      "_model_module": "@jupyter-widgets/base",
      "_model_module_version": "1.2.0",
      "_model_name": "LayoutModel",
      "_view_count": null,
      "_view_module": "@jupyter-widgets/base",
      "_view_module_version": "1.2.0",
      "_view_name": "LayoutView",
      "align_content": null,
      "align_items": null,
      "align_self": null,
      "border": null,
      "bottom": null,
      "display": null,
      "flex": null,
      "flex_flow": null,
      "grid_area": null,
      "grid_auto_columns": null,
      "grid_auto_flow": null,
      "grid_auto_rows": null,
      "grid_column": null,
      "grid_gap": null,
      "grid_row": null,
      "grid_template_areas": null,
      "grid_template_columns": null,
      "grid_template_rows": null,
      "height": null,
      "justify_content": null,
      "justify_items": null,
      "left": null,
      "margin": null,
      "max_height": null,
      "max_width": null,
      "min_height": null,
      "min_width": null,
      "object_fit": null,
      "object_position": null,
      "order": null,
      "overflow": null,
      "overflow_x": null,
      "overflow_y": null,
      "padding": null,
      "right": null,
      "top": null,
      "visibility": null,
      "width": null
     }
    },
    "8950745c9f504d27b4ef3813b82d81e6": {
     "model_module": "@jupyter-widgets/controls",
     "model_name": "IntSliderModel",
     "state": {
      "_dom_classes": [],
      "_model_module": "@jupyter-widgets/controls",
      "_model_module_version": "1.5.0",
      "_model_name": "IntSliderModel",
      "_view_count": null,
      "_view_module": "@jupyter-widgets/controls",
      "_view_module_version": "1.5.0",
      "_view_name": "IntSliderView",
      "continuous_update": true,
      "description": "R",
      "description_tooltip": null,
      "disabled": false,
      "layout": "IPY_MODEL_60fca2a7ab1f40729b7f789c7dad0802",
      "max": 25,
      "min": 1,
      "orientation": "horizontal",
      "readout": true,
      "readout_format": "d",
      "step": 1,
      "style": "IPY_MODEL_db7effa389014cc181c96acc26a6eb97",
      "value": 1
     }
    },
    "8983df30cd84497b95b6bcc59236f5fc": {
     "model_module": "@jupyter-widgets/controls",
     "model_name": "HBoxModel",
     "state": {
      "_dom_classes": [],
      "_model_module": "@jupyter-widgets/controls",
      "_model_module_version": "1.5.0",
      "_model_name": "HBoxModel",
      "_view_count": null,
      "_view_module": "@jupyter-widgets/controls",
      "_view_module_version": "1.5.0",
      "_view_name": "HBoxView",
      "box_style": "",
      "children": [],
      "layout": "IPY_MODEL_44b1eeac4aad4c2baef5cbd844e62cec"
     }
    },
    "8cef3829553e408f8fe842e50f1939c8": {
     "model_module": "@jupyter-widgets/output",
     "model_name": "OutputModel",
     "state": {
      "_dom_classes": [],
      "_model_module": "@jupyter-widgets/output",
      "_model_module_version": "1.0.0",
      "_model_name": "OutputModel",
      "_view_count": null,
      "_view_module": "@jupyter-widgets/output",
      "_view_module_version": "1.0.0",
      "_view_name": "OutputView",
      "layout": "IPY_MODEL_c151f9bc12114f50bc8974bd257c4822",
      "msg_id": "",
      "outputs": [
       {
        "image/png": "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\n",
        "image/svg+xml": "<?xml version=\"1.0\" encoding=\"utf-8\" standalone=\"no\"?>\r\n<!DOCTYPE svg PUBLIC \"-//W3C//DTD SVG 1.1//EN\"\r\n  \"http://www.w3.org/Graphics/SVG/1.1/DTD/svg11.dtd\">\r\n<svg height=\"97.02pt\" version=\"1.1\" viewBox=\"0 0 138.689406 97.02\" width=\"138.689406pt\" xmlns=\"http://www.w3.org/2000/svg\" xmlns:xlink=\"http://www.w3.org/1999/xlink\">\r\n <metadata>\r\n  <rdf:RDF xmlns:cc=\"http://creativecommons.org/ns#\" xmlns:dc=\"http://purl.org/dc/elements/1.1/\" xmlns:rdf=\"http://www.w3.org/1999/02/22-rdf-syntax-ns#\">\r\n   <cc:Work>\r\n    <dc:type rdf:resource=\"http://purl.org/dc/dcmitype/StillImage\"/>\r\n    <dc:date>2021-05-25T18:35:06.971540</dc:date>\r\n    <dc:format>image/svg+xml</dc:format>\r\n    <dc:creator>\r\n     <cc:Agent>\r\n      <dc:title>Matplotlib v3.4.2, https://matplotlib.org/</dc:title>\r\n     </cc:Agent>\r\n    </dc:creator>\r\n   </cc:Work>\r\n  </rdf:RDF>\r\n </metadata>\r\n <defs>\r\n  <style type=\"text/css\">*{stroke-linecap:butt;stroke-linejoin:round;}</style>\r\n </defs>\r\n <g id=\"figure_1\">\r\n  <g id=\"patch_1\">\r\n   <path d=\"M 0 97.02 \r\nL 138.689406 97.02 \r\nL 138.689406 0 \r\nL 0 0 \r\nz\r\n\" style=\"fill:none;\"/>\r\n  </g>\r\n  <g id=\"axes_1\">\r\n   <g id=\"line2d_1\">\r\n    <path clip-path=\"url(#p8ed6e62274)\" d=\"M 33.416406 86.76 \r\nL 102.266406 86.76 \r\nL 102.266406 10.26 \r\nL 33.416406 10.26 \r\nL 33.416406 86.76 \r\n\" style=\"fill:none;stroke:#000000;stroke-linecap:round;stroke-width:2;\"/>\r\n   </g>\r\n   <g id=\"line2d_2\">\r\n    <path clip-path=\"url(#p8ed6e62274)\" d=\"M 33.416406 58.455 \r\nL 44.126406 63.81 \r\nL 33.416406 69.165 \r\n\" style=\"fill:none;stroke:#000000;stroke-linecap:round;stroke-width:2;\"/>\r\n   </g>\r\n   <g id=\"line2d_3\">\r\n    <path clip-path=\"url(#p8ed6e62274)\" d=\"M 33.416406 63.81 \r\nL 18.116406 63.81 \r\n\" style=\"fill:none;stroke:#000000;stroke-linecap:round;stroke-width:2;\"/>\r\n   </g>\r\n   <g id=\"line2d_4\">\r\n    <path clip-path=\"url(#p8ed6e62274)\" d=\"M 33.416406 33.21 \r\nL 18.116406 33.21 \r\n\" style=\"fill:none;stroke:#000000;stroke-linecap:round;stroke-width:2;\"/>\r\n   </g>\r\n   <g id=\"line2d_5\">\r\n    <path clip-path=\"url(#p8ed6e62274)\" d=\"M 102.266406 63.81 \r\nL 117.566406 63.81 \r\n\" style=\"fill:none;stroke:#000000;stroke-linecap:round;stroke-width:2;\"/>\r\n   </g>\r\n   <g id=\"line2d_6\">\r\n    <path clip-path=\"url(#p8ed6e62274)\" d=\"M 102.266406 33.21 \r\nL 117.566406 33.21 \r\n\" style=\"fill:none;stroke:#000000;stroke-linecap:round;stroke-width:2;\"/>\r\n   </g>\r\n   <g id=\"text_1\">\r\n    <!-- c=0 -->\r\n    <g transform=\"translate(9.621719 59.992344)scale(0.11 -0.11)\">\r\n     <defs>\r\n      <path d=\"M 3122 3366 \r\nL 3122 2828 \r\nQ 2878 2963 2633 3030 \r\nQ 2388 3097 2138 3097 \r\nQ 1578 3097 1268 2742 \r\nQ 959 2388 959 1747 \r\nQ 959 1106 1268 751 \r\nQ 1578 397 2138 397 \r\nQ 2388 397 2633 464 \r\nQ 2878 531 3122 666 \r\nL 3122 134 \r\nQ 2881 22 2623 -34 \r\nQ 2366 -91 2075 -91 \r\nQ 1284 -91 818 406 \r\nQ 353 903 353 1747 \r\nQ 353 2603 823 3093 \r\nQ 1294 3584 2113 3584 \r\nQ 2378 3584 2631 3529 \r\nQ 2884 3475 3122 3366 \r\nz\r\n\" id=\"DejaVuSans-63\" transform=\"scale(0.015625)\"/>\r\n      <path d=\"M 678 2906 \r\nL 4684 2906 \r\nL 4684 2381 \r\nL 678 2381 \r\nL 678 2906 \r\nz\r\nM 678 1631 \r\nL 4684 1631 \r\nL 4684 1100 \r\nL 678 1100 \r\nL 678 1631 \r\nz\r\n\" id=\"DejaVuSans-3d\" transform=\"scale(0.015625)\"/>\r\n      <path d=\"M 2034 4250 \r\nQ 1547 4250 1301 3770 \r\nQ 1056 3291 1056 2328 \r\nQ 1056 1369 1301 889 \r\nQ 1547 409 2034 409 \r\nQ 2525 409 2770 889 \r\nQ 3016 1369 3016 2328 \r\nQ 3016 3291 2770 3770 \r\nQ 2525 4250 2034 4250 \r\nz\r\nM 2034 4750 \r\nQ 2819 4750 3233 4129 \r\nQ 3647 3509 3647 2328 \r\nQ 3647 1150 3233 529 \r\nQ 2819 -91 2034 -91 \r\nQ 1250 -91 836 529 \r\nQ 422 1150 422 2328 \r\nQ 422 3509 836 4129 \r\nQ 1250 4750 2034 4750 \r\nz\r\n\" id=\"DejaVuSans-30\" transform=\"scale(0.015625)\"/>\r\n     </defs>\r\n     <use xlink:href=\"#DejaVuSans-63\"/>\r\n     <use x=\"54.980469\" xlink:href=\"#DejaVuSans-3d\"/>\r\n     <use x=\"138.769531\" xlink:href=\"#DejaVuSans-30\"/>\r\n    </g>\r\n   </g>\r\n   <g id=\"text_2\">\r\n    <!-- D=0 -->\r\n    <g transform=\"translate(7.2 29.392344)scale(0.11 -0.11)\">\r\n     <defs>\r\n      <path d=\"M 1259 4147 \r\nL 1259 519 \r\nL 2022 519 \r\nQ 2988 519 3436 956 \r\nQ 3884 1394 3884 2338 \r\nQ 3884 3275 3436 3711 \r\nQ 2988 4147 2022 4147 \r\nL 1259 4147 \r\nz\r\nM 628 4666 \r\nL 1925 4666 \r\nQ 3281 4666 3915 4102 \r\nQ 4550 3538 4550 2338 \r\nQ 4550 1131 3912 565 \r\nQ 3275 0 1925 0 \r\nL 628 0 \r\nL 628 4666 \r\nz\r\n\" id=\"DejaVuSans-44\" transform=\"scale(0.015625)\"/>\r\n     </defs>\r\n     <use xlink:href=\"#DejaVuSans-44\"/>\r\n     <use x=\"77.001953\" xlink:href=\"#DejaVuSans-3d\"/>\r\n     <use x=\"160.791016\" xlink:href=\"#DejaVuSans-30\"/>\r\n    </g>\r\n   </g>\r\n   <g id=\"text_3\">\r\n    <!-- $\\overline{Q}$=1 -->\r\n    <g transform=\"translate(103.796406 59.992344)scale(0.11 -0.11)\">\r\n     <defs>\r\n      <path d=\"M 2309 -84 \r\nQ 2275 -88 2237 -89 \r\nQ 2200 -91 2125 -91 \r\nQ 1250 -91 756 411 \r\nQ 263 913 263 1797 \r\nQ 263 2319 452 2844 \r\nQ 641 3369 978 3788 \r\nQ 1369 4269 1858 4509 \r\nQ 2347 4750 2938 4750 \r\nQ 3794 4750 4287 4245 \r\nQ 4781 3741 4781 2869 \r\nQ 4781 1928 4265 1147 \r\nQ 3750 366 2919 44 \r\nL 3553 -825 \r\nL 2847 -825 \r\nL 2309 -84 \r\nz\r\nM 2919 4238 \r\nQ 2400 4238 2003 3986 \r\nQ 1606 3734 1313 3219 \r\nQ 1125 2891 1026 2522 \r\nQ 928 2153 928 1778 \r\nQ 928 1128 1239 775 \r\nQ 1550 422 2119 422 \r\nQ 2631 422 3032 676 \r\nQ 3434 931 3719 1434 \r\nQ 3909 1772 4009 2142 \r\nQ 4109 2513 4109 2881 \r\nQ 4109 3528 3796 3883 \r\nQ 3484 4238 2919 4238 \r\nz\r\n\" id=\"DejaVuSans-Oblique-51\" transform=\"scale(0.015625)\"/>\r\n      <path d=\"M 794 531 \r\nL 1825 531 \r\nL 1825 4091 \r\nL 703 3866 \r\nL 703 4441 \r\nL 1819 4666 \r\nL 2450 4666 \r\nL 2450 531 \r\nL 3481 531 \r\nL 3481 0 \r\nL 794 0 \r\nL 794 531 \r\nz\r\n\" id=\"DejaVuSans-31\" transform=\"scale(0.015625)\"/>\r\n     </defs>\r\n     <use transform=\"translate(0 0.53125)\" xlink:href=\"#DejaVuSans-Oblique-51\"/>\r\n     <use transform=\"translate(78.710938 0.03125)\" xlink:href=\"#DejaVuSans-3d\"/>\r\n     <use transform=\"translate(162.5 0.03125)\" xlink:href=\"#DejaVuSans-31\"/>\r\n     <path d=\"M 0 86.5 \r\nL 0 92.75 \r\nL 78.710938 92.75 \r\nL 78.710938 86.5 \r\nL 0 86.5 \r\nz\r\n\"/>\r\n    </g>\r\n   </g>\r\n   <g id=\"text_4\">\r\n    <!-- Q=0 -->\r\n    <g transform=\"translate(103.796406 29.392344)scale(0.11 -0.11)\">\r\n     <defs>\r\n      <path d=\"M 2522 4238 \r\nQ 1834 4238 1429 3725 \r\nQ 1025 3213 1025 2328 \r\nQ 1025 1447 1429 934 \r\nQ 1834 422 2522 422 \r\nQ 3209 422 3611 934 \r\nQ 4013 1447 4013 2328 \r\nQ 4013 3213 3611 3725 \r\nQ 3209 4238 2522 4238 \r\nz\r\nM 3406 84 \r\nL 4238 -825 \r\nL 3475 -825 \r\nL 2784 -78 \r\nQ 2681 -84 2626 -87 \r\nQ 2572 -91 2522 -91 \r\nQ 1538 -91 948 567 \r\nQ 359 1225 359 2328 \r\nQ 359 3434 948 4092 \r\nQ 1538 4750 2522 4750 \r\nQ 3503 4750 4090 4092 \r\nQ 4678 3434 4678 2328 \r\nQ 4678 1516 4351 937 \r\nQ 4025 359 3406 84 \r\nz\r\n\" id=\"DejaVuSans-51\" transform=\"scale(0.015625)\"/>\r\n     </defs>\r\n     <use xlink:href=\"#DejaVuSans-51\"/>\r\n     <use x=\"78.710938\" xlink:href=\"#DejaVuSans-3d\"/>\r\n     <use x=\"162.5\" xlink:href=\"#DejaVuSans-30\"/>\r\n    </g>\r\n   </g>\r\n  </g>\r\n </g>\r\n <defs>\r\n  <clipPath id=\"p8ed6e62274\">\r\n   <rect height=\"82.62\" width=\"122.6652\" x=\"8.824206\" y=\"7.2\"/>\r\n  </clipPath>\r\n </defs>\r\n</svg>\r\n",
        "metadata": {
         "tags": []
        },
        "output_type": "display_data",
        "text/plain": "<schemdraw.elements.intcircuits.Ic at 0x193fb1a6ee0>"
       }
      ]
     }
    },
    "91a72cf3406f4cf5871e579e3b2f1c10": {
     "model_module": "@jupyter-widgets/controls",
     "model_name": "VBoxModel",
     "state": {
      "_dom_classes": [
       "widget-interact"
      ],
      "_model_module": "@jupyter-widgets/controls",
      "_model_module_version": "1.5.0",
      "_model_name": "VBoxModel",
      "_view_count": null,
      "_view_module": "@jupyter-widgets/controls",
      "_view_module_version": "1.5.0",
      "_view_name": "VBoxView",
      "box_style": "",
      "children": [
       "IPY_MODEL_f116ca965222424abc18987a0451e243",
       "IPY_MODEL_aad2eb6119e44fc096e853b82786fcbf"
      ],
      "layout": "IPY_MODEL_d907227f6b1440589a0a72a5368e4f74"
     }
    },
    "a0420abf762640ed8825560402b5aadb": {
     "model_module": "@jupyter-widgets/base",
     "model_name": "LayoutModel",
     "state": {
      "_model_module": "@jupyter-widgets/base",
      "_model_module_version": "1.2.0",
      "_model_name": "LayoutModel",
      "_view_count": null,
      "_view_module": "@jupyter-widgets/base",
      "_view_module_version": "1.2.0",
      "_view_name": "LayoutView",
      "align_content": null,
      "align_items": null,
      "align_self": null,
      "border": null,
      "bottom": null,
      "display": null,
      "flex": null,
      "flex_flow": null,
      "grid_area": null,
      "grid_auto_columns": null,
      "grid_auto_flow": null,
      "grid_auto_rows": null,
      "grid_column": null,
      "grid_gap": null,
      "grid_row": null,
      "grid_template_areas": null,
      "grid_template_columns": null,
      "grid_template_rows": null,
      "height": null,
      "justify_content": null,
      "justify_items": null,
      "left": null,
      "margin": null,
      "max_height": null,
      "max_width": null,
      "min_height": null,
      "min_width": null,
      "object_fit": null,
      "object_position": null,
      "order": null,
      "overflow": null,
      "overflow_x": null,
      "overflow_y": null,
      "padding": "35px",
      "right": null,
      "top": null,
      "visibility": null,
      "width": null
     }
    },
    "a0a9d304c76942028a745a2010fadb16": {
     "model_module": "@jupyter-widgets/controls",
     "model_name": "VBoxModel",
     "state": {
      "_dom_classes": [
       "widget-interact"
      ],
      "_model_module": "@jupyter-widgets/controls",
      "_model_module_version": "1.5.0",
      "_model_name": "VBoxModel",
      "_view_count": null,
      "_view_module": "@jupyter-widgets/controls",
      "_view_module_version": "1.5.0",
      "_view_name": "VBoxView",
      "box_style": "",
      "children": [
       "IPY_MODEL_aff5914f32484ea8a6ef33f3c1106d62",
       "IPY_MODEL_a8b844e576a34d1ea37cca1bcdfe4e69",
       "IPY_MODEL_488c685cebd449e89f4179ac65900a45",
       "IPY_MODEL_8cef3829553e408f8fe842e50f1939c8"
      ],
      "layout": "IPY_MODEL_2e3df78008ca4776b4a5a0acc5976e7c"
     }
    },
    "a3d8a28e952b4394ac24859d5d1452dd": {
     "model_module": "@jupyter-widgets/controls",
     "model_name": "VBoxModel",
     "state": {
      "_dom_classes": [
       "widget-interact"
      ],
      "_model_module": "@jupyter-widgets/controls",
      "_model_module_version": "1.5.0",
      "_model_name": "VBoxModel",
      "_view_count": null,
      "_view_module": "@jupyter-widgets/controls",
      "_view_module_version": "1.5.0",
      "_view_name": "VBoxView",
      "box_style": "",
      "children": [
       "IPY_MODEL_e35cde914dd548d38e990dc8b7a9cdf7",
       "IPY_MODEL_cb2db6463acd46a58e74aae1367da430"
      ],
      "layout": "IPY_MODEL_412945a183a94bcca91db64d09e361c4"
     }
    },
    "a64bcd44c96244b3990ea1cdbf873f28": {
     "model_module": "@jupyter-widgets/base",
     "model_name": "LayoutModel",
     "state": {
      "_model_module": "@jupyter-widgets/base",
      "_model_module_version": "1.2.0",
      "_model_name": "LayoutModel",
      "_view_count": null,
      "_view_module": "@jupyter-widgets/base",
      "_view_module_version": "1.2.0",
      "_view_name": "LayoutView",
      "align_content": null,
      "align_items": null,
      "align_self": null,
      "border": null,
      "bottom": null,
      "display": null,
      "flex": null,
      "flex_flow": null,
      "grid_area": null,
      "grid_auto_columns": null,
      "grid_auto_flow": null,
      "grid_auto_rows": null,
      "grid_column": null,
      "grid_gap": null,
      "grid_row": null,
      "grid_template_areas": null,
      "grid_template_columns": null,
      "grid_template_rows": null,
      "height": null,
      "justify_content": null,
      "justify_items": null,
      "left": null,
      "margin": null,
      "max_height": null,
      "max_width": null,
      "min_height": null,
      "min_width": null,
      "object_fit": null,
      "object_position": null,
      "order": null,
      "overflow": null,
      "overflow_x": null,
      "overflow_y": null,
      "padding": null,
      "right": null,
      "top": null,
      "visibility": null,
      "width": null
     }
    },
    "a7081c36311c4748b9857f01629e182e": {
     "model_module": "@jupyter-widgets/base",
     "model_name": "LayoutModel",
     "state": {
      "_model_module": "@jupyter-widgets/base",
      "_model_module_version": "1.2.0",
      "_model_name": "LayoutModel",
      "_view_count": null,
      "_view_module": "@jupyter-widgets/base",
      "_view_module_version": "1.2.0",
      "_view_name": "LayoutView",
      "align_content": null,
      "align_items": null,
      "align_self": null,
      "border": null,
      "bottom": null,
      "display": null,
      "flex": null,
      "flex_flow": null,
      "grid_area": null,
      "grid_auto_columns": null,
      "grid_auto_flow": null,
      "grid_auto_rows": null,
      "grid_column": null,
      "grid_gap": null,
      "grid_row": null,
      "grid_template_areas": null,
      "grid_template_columns": null,
      "grid_template_rows": null,
      "height": null,
      "justify_content": null,
      "justify_items": null,
      "left": null,
      "margin": null,
      "max_height": null,
      "max_width": null,
      "min_height": null,
      "min_width": null,
      "object_fit": null,
      "object_position": null,
      "order": null,
      "overflow": null,
      "overflow_x": null,
      "overflow_y": null,
      "padding": null,
      "right": null,
      "top": null,
      "visibility": null,
      "width": null
     }
    },
    "a8b844e576a34d1ea37cca1bcdfe4e69": {
     "model_module": "@jupyter-widgets/controls",
     "model_name": "DropdownModel",
     "state": {
      "_dom_classes": [],
      "_model_module": "@jupyter-widgets/controls",
      "_model_module_version": "1.5.0",
      "_model_name": "DropdownModel",
      "_options_labels": [
       "0",
       "1"
      ],
      "_view_count": null,
      "_view_module": "@jupyter-widgets/controls",
      "_view_module_version": "1.5.0",
      "_view_name": "DropdownView",
      "description": "d",
      "description_tooltip": null,
      "disabled": false,
      "index": 0,
      "layout": "IPY_MODEL_d2b0105752034c82b3456c7d1a1aed21",
      "style": "IPY_MODEL_75f89b25b49546d4b50642104bf0825e"
     }
    },
    "a91ef68f0ba843af96e75d5e11c2aaae": {
     "model_module": "@jupyter-widgets/output",
     "model_name": "OutputModel",
     "state": {
      "_dom_classes": [],
      "_model_module": "@jupyter-widgets/output",
      "_model_module_version": "1.0.0",
      "_model_name": "OutputModel",
      "_view_count": null,
      "_view_module": "@jupyter-widgets/output",
      "_view_module_version": "1.0.0",
      "_view_name": "OutputView",
      "layout": "IPY_MODEL_e5a20b323ed94fdbb7ee762858094755",
      "msg_id": "",
      "outputs": [
       {
        "application/vnd.jupyter.widget-view+json": {
         "model_id": "d557032c2d2c4b44966c06910b705116",
         "version_major": 2,
         "version_minor": 0
        },
        "metadata": {
         "tags": []
        },
        "output_type": "display_data",
        "text/plain": "HBox(layout=Layout(padding='35px'))"
       },
       {
        "image/png": "iVBORw0KGgoAAAANSUhEUgAAAK4AAAAzCAYAAAAO9DNzAAAAOXRFWHRTb2Z0d2FyZQBNYXRwbG90bGliIHZlcnNpb24zLjQuMiwgaHR0cHM6Ly9tYXRwbG90bGliLm9yZy8rg+JYAAAACXBIWXMAAAsTAAALEwEAmpwYAAAGDUlEQVR4nO2aa4gWZRTHf/90vdR6yTCLTFOEMpVczUKyMiJBg5SsoMK8ZEFQBplYVkb2QRLLDIwQKs2srA3E0g+GoXkrCrzgUqZoZualEPOupacPz2wNy773d3ec3fODgXmf25yZ9z/Pc55zRmaG46SNi5I2wHGKwYXrpBIXrpNKXLhOKnHhOqnEheukEheuk0pcuE4qceEWgaS5kpZI6pK0Lc0VeeascCSdBSqA/cADZrYuYZOaHT7jlsaVwGpJkyUpaWOaEy7c0ngTaAHMBqoldUjWnOaDuwpFEHMVWgMjgIVAe2AnMNrMtiZoXrPAZ9wSMbOlwEBgC9AL+FbS2ESNaga4cMuAme0EBgPvA22BBZLmS2qTrGVNFxdumTCzU2Y2AZgInAEeA9ZL6pGsZU0T93GLIO7jmtnZeuqrgGqgJ3AEeMTMvmhUI8uEpIIEYmaNEl3xGbcBMLNNBL93GdARWCZppqSWiRpWBGamQo7GssuF20CY2RFgFDAVOA88B6z0bFt5yFu4kgZIOidpfakXldRP0hpJpyTtkzS9KQbwLTALuBM4CNwBbJI0JFMfSVdJGiypV2PZWQiSeks6LWlzGca6TdKySAMmaVy+fQuZcScCbwN9JfUu1MhaJLUHviL8kYOAp4EpwDPFjnmhY2argSpgLRmybZJ6SVoO7AU2ADskbZR0SxI2Z+Et4A3gekmtShyrEthG0MCpgnqaWc6DEOI5AvQD3gVm59Mvw1hPAEeBtrGyF4F9RJvFC/0AzgIGtCqwX0tgVtTXgM+BDkAPwotshIjE98Bf0e/TwJCk7zmy/15gFcFvN6B/Gcc+DozLu32eg44BtkTnQ4FDQEWsvia6cKajJtb2A2B5nfEHRQ+iR9J/Tp7PoyjhxvqPiglzB7A0Ov8auDxqcwnwXlT+3QVwz22BXUBV9HsfML5Om2k5dHAcuLUcws13l/sosCg6XwOcBEYSQj4Q0p4VWfr/HTu/AvitTv3BWN3u2sJo6RyRp42pwcyWShpIeH43EDJuAI+b2aGozQlJTwLjgJsKDUuVwAozu7ue8qnAOgsREwiTVf86bd4BPs0x/r7SzAvkFG60SRgCPARhwyFpMUHM1VHZnnIYk0KK3lCa2U5J9xAEUAmcs5CBi7c5Kekfsk8KDY6ka4BJhJeslm3AjfF2ZnYYONwYNuUz404kfAH1a3wvASDpajPbK6kG6J5ljD1m1ic6PwDUDQl1idX9R4Y3P3Fis1/Rs6CkwYTZqTIap4Wk/ma2OdamI2G1qgB6mtnueoZqDOYAlwK762jgmCRZtNZLmkZwF7Ix3MzWlmpQVuFGAfOxwPPAl3WqFwHjgRkU5ipsBF6T1MbMTkdldwG/A7/kbXmy1IqpYKJIwlPA64TnvwHYTniWCyWNMbOtkroRlt6LgVVJiVbSMOB2QkIlniW8DviMsLHcFZU1mquQyyEfSfiTLqunbirBHy0oEkDYRR8APgH6EnaqR4HJSW9ACriHYqMK7YAl/B9VmEN4AToTxFtbfoiQtDDC0tsnofusAH4EXqinrn1k3+gSxq8k+Mn9Cfum6dF5t5x9cwy8DFiZoa5nZPiwIgzuB3xDCPXsB14u9AVI8ihGuEAf4Keo3zHg/jr1nYF5UZ1F1/gYuDbB+3wW+BNol6F+P/BqCeMPjb2s8WNBrr7+kU0R5PrIpp72DwPzCct+DWGW2p6hbWugE3DUzE6Uz+qmhX+r0IBIai1pHvAhQbSLgJsziRbAzM6Y2X4XbXZS97VSWpDUnbB5GURY9icB882XuLLgwm0AJA0nzLKdgD3AfWb2Q7JWNS3cVSgjklpImgEsJ4h2BTDARVt+fMYtE5I6A4sJMenzwEvATDM7n6hhTRQXbhmIZcG6An8AD5rZqmStatq4q1AakjSJEJPuSsiCVbloGx4Xbml8BMwlrFxzgKFmVp6UppMVT0AUQSwBASHTNcHMqrN0ccqM+7jFcY4g3G2ELNjPCdvT7PAZtwgkTSF8W/CKZ7iSwYXrpBLfnDmpxIXrpBIXrpNKXLhOKnHhOqnEheukEheuk0pcuE4q+RcwdyFVS0uWFAAAAABJRU5ErkJggg==\n",
        "image/svg+xml": "<?xml version=\"1.0\" encoding=\"utf-8\" standalone=\"no\"?>\r\n<!DOCTYPE svg PUBLIC \"-//W3C//DTD SVG 1.1//EN\"\r\n  \"http://www.w3.org/Graphics/SVG/1.1/DTD/svg11.dtd\">\r\n<svg height=\"51.12pt\" version=\"1.1\" viewBox=\"0 0 173.278737 51.12\" width=\"173.278737pt\" xmlns=\"http://www.w3.org/2000/svg\" xmlns:xlink=\"http://www.w3.org/1999/xlink\">\r\n <metadata>\r\n  <rdf:RDF xmlns:cc=\"http://creativecommons.org/ns#\" xmlns:dc=\"http://purl.org/dc/elements/1.1/\" xmlns:rdf=\"http://www.w3.org/1999/02/22-rdf-syntax-ns#\">\r\n   <cc:Work>\r\n    <dc:type rdf:resource=\"http://purl.org/dc/dcmitype/StillImage\"/>\r\n    <dc:date>2021-06-20T15:25:00.287657</dc:date>\r\n    <dc:format>image/svg+xml</dc:format>\r\n    <dc:creator>\r\n     <cc:Agent>\r\n      <dc:title>Matplotlib v3.4.2, https://matplotlib.org/</dc:title>\r\n     </cc:Agent>\r\n    </dc:creator>\r\n   </cc:Work>\r\n  </rdf:RDF>\r\n </metadata>\r\n <defs>\r\n  <style type=\"text/css\">*{stroke-linecap:butt;stroke-linejoin:round;}</style>\r\n </defs>\r\n <g id=\"figure_1\">\r\n  <g id=\"patch_1\">\r\n   <path d=\"M 0 51.12 \r\nL 173.278737 51.12 \r\nL 173.278737 0 \r\nL 0 0 \r\nz\r\n\" style=\"fill:none;\"/>\r\n  </g>\r\n  <g id=\"axes_1\">\r\n   <g id=\"patch_2\">\r\n    <path clip-path=\"url(#p3044f840e9)\" d=\"M 101.675938 29.232 \r\nC 102.649763 29.232 103.583835 28.845095 104.272434 28.156496 \r\nC 104.961032 27.467897 105.347938 26.533826 105.347938 25.56 \r\nC 105.347938 24.586174 104.961032 23.652103 104.272434 22.963504 \r\nC 103.583835 22.274905 102.649763 21.888 101.675938 21.888 \r\nC 100.702112 21.888 99.76804 22.274905 99.079441 22.963504 \r\nC 98.390843 23.652103 98.003938 24.586174 98.003938 25.56 \r\nC 98.003938 26.533826 98.390843 27.467897 99.079441 28.156496 \r\nC 99.76804 28.845095 100.702112 29.232 101.675938 29.232 \r\nz\r\n\" style=\"fill:none;stroke:#000000;stroke-linejoin:miter;stroke-width:2;\"/>\r\n   </g>\r\n   <g id=\"line2d_1\">\r\n    <path clip-path=\"url(#p3044f840e9)\" d=\"M 40.475938 25.56 \r\nL 67.403938 25.56 \r\nL 78.113938 25.56 \r\nM 105.347938 25.56 \r\nL 132.275937 25.56 \r\n\" style=\"fill:none;stroke:#000000;stroke-linecap:round;stroke-width:2;\"/>\r\n   </g>\r\n   <g id=\"line2d_2\">\r\n    <path clip-path=\"url(#p3044f840e9)\" d=\"M 105.347938 25.56 \r\nL 108.713938 25.56 \r\n\" style=\"fill:none;stroke:#000000;stroke-linecap:round;stroke-width:2;\"/>\r\n   </g>\r\n   <g id=\"line2d_3\">\r\n    <path clip-path=\"url(#p3044f840e9)\" d=\"M 78.113938 25.56 \r\nL 78.113938 40.86 \r\nL 98.003938 25.56 \r\nL 78.113938 10.26 \r\nL 78.113938 25.56 \r\n\" style=\"fill:none;stroke:#000000;stroke-linecap:round;stroke-width:2;\"/>\r\n   </g>\r\n   <g id=\"text_1\">\r\n    <!-- A=0 -->\r\n    <g transform=\"translate(7.2 29.423125)scale(0.14 -0.14)\">\r\n     <defs>\r\n      <path d=\"M 2188 4044 \r\nL 1331 1722 \r\nL 3047 1722 \r\nL 2188 4044 \r\nz\r\nM 1831 4666 \r\nL 2547 4666 \r\nL 4325 0 \r\nL 3669 0 \r\nL 3244 1197 \r\nL 1141 1197 \r\nL 716 0 \r\nL 50 0 \r\nL 1831 4666 \r\nz\r\n\" id=\"DejaVuSans-41\" transform=\"scale(0.015625)\"/>\r\n      <path d=\"M 678 2906 \r\nL 4684 2906 \r\nL 4684 2381 \r\nL 678 2381 \r\nL 678 2906 \r\nz\r\nM 678 1631 \r\nL 4684 1631 \r\nL 4684 1100 \r\nL 678 1100 \r\nL 678 1631 \r\nz\r\n\" id=\"DejaVuSans-3d\" transform=\"scale(0.015625)\"/>\r\n      <path d=\"M 2034 4250 \r\nQ 1547 4250 1301 3770 \r\nQ 1056 3291 1056 2328 \r\nQ 1056 1369 1301 889 \r\nQ 1547 409 2034 409 \r\nQ 2525 409 2770 889 \r\nQ 3016 1369 3016 2328 \r\nQ 3016 3291 2770 3770 \r\nQ 2525 4250 2034 4250 \r\nz\r\nM 2034 4750 \r\nQ 2819 4750 3233 4129 \r\nQ 3647 3509 3647 2328 \r\nQ 3647 1150 3233 529 \r\nQ 2819 -91 2034 -91 \r\nQ 1250 -91 836 529 \r\nQ 422 1150 422 2328 \r\nQ 422 3509 836 4129 \r\nQ 1250 4750 2034 4750 \r\nz\r\n\" id=\"DejaVuSans-30\" transform=\"scale(0.015625)\"/>\r\n     </defs>\r\n     <use xlink:href=\"#DejaVuSans-41\"/>\r\n     <use x=\"68.408203\" xlink:href=\"#DejaVuSans-3d\"/>\r\n     <use x=\"152.197266\" xlink:href=\"#DejaVuSans-30\"/>\r\n    </g>\r\n   </g>\r\n   <g id=\"text_2\">\r\n    <!-- $\\overline{A}$=1 -->\r\n    <g transform=\"translate(135.335938 29.508437)scale(0.14 -0.14)\">\r\n     <defs>\r\n      <path d=\"M 2356 4666 \r\nL 3072 4666 \r\nL 3938 0 \r\nL 3278 0 \r\nL 3084 1197 \r\nL 984 1197 \r\nL 325 0 \r\nL -341 0 \r\nL 2356 4666 \r\nz\r\nM 2584 4044 \r\nL 1275 1722 \r\nL 2988 1722 \r\nL 2584 4044 \r\nz\r\n\" id=\"DejaVuSans-Oblique-41\" transform=\"scale(0.015625)\"/>\r\n      <path d=\"M 794 531 \r\nL 1825 531 \r\nL 1825 4091 \r\nL 703 3866 \r\nL 703 4441 \r\nL 1819 4666 \r\nL 2450 4666 \r\nL 2450 531 \r\nL 3481 531 \r\nL 3481 0 \r\nL 794 0 \r\nL 794 531 \r\nz\r\n\" id=\"DejaVuSans-31\" transform=\"scale(0.015625)\"/>\r\n     </defs>\r\n     <use transform=\"translate(0 0.84375)\" xlink:href=\"#DejaVuSans-Oblique-41\"/>\r\n     <use transform=\"translate(68.408203 0.34375)\" xlink:href=\"#DejaVuSans-3d\"/>\r\n     <use transform=\"translate(152.197266 0.34375)\" xlink:href=\"#DejaVuSans-31\"/>\r\n     <path d=\"M 0 85.5 \r\nL 0 91.75 \r\nL 68.408203 91.75 \r\nL 68.408203 85.5 \r\nL 0 85.5 \r\nz\r\n\"/>\r\n    </g>\r\n   </g>\r\n  </g>\r\n </g>\r\n <defs>\r\n  <clipPath id=\"p3044f840e9\">\r\n   <rect height=\"36.72\" width=\"156.3456\" x=\"9.733138\" y=\"7.2\"/>\r\n  </clipPath>\r\n </defs>\r\n</svg>\r\n",
        "metadata": {
         "tags": []
        },
        "output_type": "display_data",
        "text/plain": "<schemdraw.logic.logic.Not at 0x200fc1526d0>"
       }
      ]
     }
    },
    "a9ebe90b6c6b436c9f34a68874549852": {
     "model_module": "@jupyter-widgets/base",
     "model_name": "LayoutModel",
     "state": {
      "_model_module": "@jupyter-widgets/base",
      "_model_module_version": "1.2.0",
      "_model_name": "LayoutModel",
      "_view_count": null,
      "_view_module": "@jupyter-widgets/base",
      "_view_module_version": "1.2.0",
      "_view_name": "LayoutView",
      "align_content": null,
      "align_items": null,
      "align_self": null,
      "border": null,
      "bottom": null,
      "display": null,
      "flex": null,
      "flex_flow": null,
      "grid_area": null,
      "grid_auto_columns": null,
      "grid_auto_flow": null,
      "grid_auto_rows": null,
      "grid_column": null,
      "grid_gap": null,
      "grid_row": null,
      "grid_template_areas": null,
      "grid_template_columns": null,
      "grid_template_rows": null,
      "height": null,
      "justify_content": null,
      "justify_items": null,
      "left": null,
      "margin": null,
      "max_height": null,
      "max_width": null,
      "min_height": null,
      "min_width": null,
      "object_fit": null,
      "object_position": null,
      "order": null,
      "overflow": null,
      "overflow_x": null,
      "overflow_y": null,
      "padding": null,
      "right": null,
      "top": null,
      "visibility": null,
      "width": null
     }
    },
    "aad2eb6119e44fc096e853b82786fcbf": {
     "model_module": "@jupyter-widgets/output",
     "model_name": "OutputModel",
     "state": {
      "_dom_classes": [],
      "_model_module": "@jupyter-widgets/output",
      "_model_module_version": "1.0.0",
      "_model_name": "OutputModel",
      "_view_count": null,
      "_view_module": "@jupyter-widgets/output",
      "_view_module_version": "1.0.0",
      "_view_name": "OutputView",
      "layout": "IPY_MODEL_fd9a56ba273341d09e29d1eff80493b9",
      "msg_id": "",
      "outputs": [
       {
        "image/png": "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\n",
        "image/svg+xml": "<?xml version=\"1.0\" encoding=\"utf-8\" standalone=\"no\"?>\r\n<!DOCTYPE svg PUBLIC \"-//W3C//DTD SVG 1.1//EN\"\r\n  \"http://www.w3.org/Graphics/SVG/1.1/DTD/svg11.dtd\">\r\n<svg height=\"208.71pt\" version=\"1.1\" viewBox=\"0 0 168.509375 208.71\" width=\"168.509375pt\" xmlns=\"http://www.w3.org/2000/svg\" xmlns:xlink=\"http://www.w3.org/1999/xlink\">\r\n <metadata>\r\n  <rdf:RDF xmlns:cc=\"http://creativecommons.org/ns#\" xmlns:dc=\"http://purl.org/dc/elements/1.1/\" xmlns:rdf=\"http://www.w3.org/1999/02/22-rdf-syntax-ns#\">\r\n   <cc:Work>\r\n    <dc:type rdf:resource=\"http://purl.org/dc/dcmitype/StillImage\"/>\r\n    <dc:date>2021-06-20T15:24:56.580577</dc:date>\r\n    <dc:format>image/svg+xml</dc:format>\r\n    <dc:creator>\r\n     <cc:Agent>\r\n      <dc:title>Matplotlib v3.4.2, https://matplotlib.org/</dc:title>\r\n     </cc:Agent>\r\n    </dc:creator>\r\n   </cc:Work>\r\n  </rdf:RDF>\r\n </metadata>\r\n <defs>\r\n  <style type=\"text/css\">*{stroke-linecap:butt;stroke-linejoin:round;}</style>\r\n </defs>\r\n <g id=\"figure_1\">\r\n  <g id=\"patch_1\">\r\n   <path d=\"M 0 208.71 \r\nL 168.509375 208.71 \r\nL 168.509375 0 \r\nL 0 0 \r\nz\r\n\" style=\"fill:none;\"/>\r\n  </g>\r\n  <g id=\"axes_1\">\r\n   <g id=\"patch_2\">\r\n    <path clip-path=\"url(#p0639b0410a)\" d=\"M 142.949375 167.85 \r\nC 147.006982 167.85 150.898947 166.237895 153.768109 163.368734 \r\nC 156.63727 160.499572 158.249375 156.607607 158.249375 152.55 \r\nC 158.249375 148.492393 156.63727 144.600428 153.768109 141.731266 \r\nC 150.898947 138.862105 147.006982 137.25 142.949375 137.25 \r\nC 138.891768 137.25 134.999803 138.862105 132.130641 141.731266 \r\nC 129.26148 144.600428 127.649375 148.492393 127.649375 152.55 \r\nC 127.649375 156.607607 129.26148 160.499572 132.130641 163.368734 \r\nC 134.999803 166.237895 138.891768 167.85 142.949375 167.85 \r\nz\r\n\" style=\"fill:none;stroke:#000000;stroke-linejoin:miter;stroke-width:2;\"/>\r\n   </g>\r\n   <g id=\"patch_3\">\r\n    <path clip-path=\"url(#p0639b0410a)\" d=\"M 51.149375 14.85 \r\nL 53.444375 20.97 \r\nL 51.164675 20.97 \r\nL 51.164675 24.03 \r\nL 51.134075 24.03 \r\nL 51.134075 20.97 \r\nL 48.854375 20.97 \r\nz\r\n\" style=\"stroke:#000000;stroke-linejoin:miter;stroke-width:2;\"/>\r\n   </g>\r\n   <g id=\"line2d_1\">\r\n    <path clip-path=\"url(#p0639b0410a)\" d=\"M 142.949375 198.45 \r\nL 142.949375 167.85 \r\nL 142.949375 167.85 \r\nM 142.949375 137.25 \r\nL 142.949375 137.25 \r\nL 142.949375 106.65 \r\n\" style=\"fill:none;stroke:#000000;stroke-linecap:round;stroke-width:2;\"/>\r\n   </g>\r\n   <g id=\"line2d_2\">\r\n    <path clip-path=\"url(#p0639b0410a)\" d=\"M 142.949375 106.65 \r\nL 112.349375 106.65 \r\nL 109.799375 114.3 \r\nL 104.699375 99 \r\nL 99.599375 114.3 \r\nL 94.499375 99 \r\nL 89.399375 114.3 \r\nL 84.299375 99 \r\nL 81.749375 106.65 \r\nL 51.149375 106.65 \r\n\" style=\"fill:none;stroke:#000000;stroke-linecap:round;stroke-width:2;\"/>\r\n   </g>\r\n   <g id=\"line2d_3\">\r\n    <path clip-path=\"url(#p0639b0410a)\" d=\"M 51.149375 106.65 \r\nL 51.149375 60.75 \r\nL 51.149375 14.85 \r\n\" style=\"fill:none;stroke:#000000;stroke-linecap:round;stroke-width:2;\"/>\r\n   </g>\r\n   <g id=\"text_1\">\r\n    <!-- A -->\r\n    <g transform=\"translate(138.160938 156.413125)scale(0.14 -0.14)\">\r\n     <defs>\r\n      <path d=\"M 2188 4044 \r\nL 1331 1722 \r\nL 3047 1722 \r\nL 2188 4044 \r\nz\r\nM 1831 4666 \r\nL 2547 4666 \r\nL 4325 0 \r\nL 3669 0 \r\nL 3244 1197 \r\nL 1141 1197 \r\nL 716 0 \r\nL 50 0 \r\nL 1831 4666 \r\nz\r\n\" id=\"DejaVuSans-41\" transform=\"scale(0.015625)\"/>\r\n     </defs>\r\n     <use xlink:href=\"#DejaVuSans-41\"/>\r\n    </g>\r\n   </g>\r\n   <g id=\"text_2\">\r\n    <!-- 22.00 -->\r\n    <g transform=\"translate(84.51 156.413125)scale(0.14 -0.14)\">\r\n     <defs>\r\n      <path d=\"M 1228 531 \r\nL 3431 531 \r\nL 3431 0 \r\nL 469 0 \r\nL 469 531 \r\nQ 828 903 1448 1529 \r\nQ 2069 2156 2228 2338 \r\nQ 2531 2678 2651 2914 \r\nQ 2772 3150 2772 3378 \r\nQ 2772 3750 2511 3984 \r\nQ 2250 4219 1831 4219 \r\nQ 1534 4219 1204 4116 \r\nQ 875 4013 500 3803 \r\nL 500 4441 \r\nQ 881 4594 1212 4672 \r\nQ 1544 4750 1819 4750 \r\nQ 2544 4750 2975 4387 \r\nQ 3406 4025 3406 3419 \r\nQ 3406 3131 3298 2873 \r\nQ 3191 2616 2906 2266 \r\nQ 2828 2175 2409 1742 \r\nQ 1991 1309 1228 531 \r\nz\r\n\" id=\"DejaVuSans-32\" transform=\"scale(0.015625)\"/>\r\n      <path d=\"M 684 794 \r\nL 1344 794 \r\nL 1344 0 \r\nL 684 0 \r\nL 684 794 \r\nz\r\n\" id=\"DejaVuSans-2e\" transform=\"scale(0.015625)\"/>\r\n      <path d=\"M 2034 4250 \r\nQ 1547 4250 1301 3770 \r\nQ 1056 3291 1056 2328 \r\nQ 1056 1369 1301 889 \r\nQ 1547 409 2034 409 \r\nQ 2525 409 2770 889 \r\nQ 3016 1369 3016 2328 \r\nQ 3016 3291 2770 3770 \r\nQ 2525 4250 2034 4250 \r\nz\r\nM 2034 4750 \r\nQ 2819 4750 3233 4129 \r\nQ 3647 3509 3647 2328 \r\nQ 3647 1150 3233 529 \r\nQ 2819 -91 2034 -91 \r\nQ 1250 -91 836 529 \r\nQ 422 1150 422 2328 \r\nQ 422 3509 836 4129 \r\nQ 1250 4750 2034 4750 \r\nz\r\n\" id=\"DejaVuSans-30\" transform=\"scale(0.015625)\"/>\r\n     </defs>\r\n     <use xlink:href=\"#DejaVuSans-32\"/>\r\n     <use x=\"63.623047\" xlink:href=\"#DejaVuSans-32\"/>\r\n     <use x=\"127.246094\" xlink:href=\"#DejaVuSans-2e\"/>\r\n     <use x=\"159.033203\" xlink:href=\"#DejaVuSans-30\"/>\r\n     <use x=\"222.65625\" xlink:href=\"#DejaVuSans-30\"/>\r\n    </g>\r\n   </g>\r\n   <g id=\"text_3\">\r\n    <!-- 10Ω -->\r\n    <g transform=\"translate(82.792344 93.028437)scale(0.14 -0.14)\">\r\n     <defs>\r\n      <path d=\"M 794 531 \r\nL 1825 531 \r\nL 1825 4091 \r\nL 703 3866 \r\nL 703 4441 \r\nL 1819 4666 \r\nL 2450 4666 \r\nL 2450 531 \r\nL 3481 531 \r\nL 3481 0 \r\nL 794 0 \r\nL 794 531 \r\nz\r\n\" id=\"DejaVuSans-31\" transform=\"scale(0.015625)\"/>\r\n      <path d=\"M 4647 556 \r\nL 4647 0 \r\nL 2772 0 \r\nL 2772 556 \r\nQ 3325 859 3634 1378 \r\nQ 3944 1897 3944 2528 \r\nQ 3944 3278 3531 3731 \r\nQ 3119 4184 2444 4184 \r\nQ 1769 4184 1355 3729 \r\nQ 941 3275 941 2528 \r\nQ 941 1897 1250 1378 \r\nQ 1563 859 2119 556 \r\nL 2119 0 \r\nL 244 0 \r\nL 244 556 \r\nL 1241 556 \r\nQ 747 991 519 1456 \r\nQ 294 1922 294 2497 \r\nQ 294 3491 894 4106 \r\nQ 1491 4722 2444 4722 \r\nQ 3391 4722 3994 4106 \r\nQ 4594 3494 4594 2528 \r\nQ 4594 1922 4372 1459 \r\nQ 4150 997 3647 556 \r\nL 4647 556 \r\nz\r\n\" id=\"DejaVuSans-3a9\" transform=\"scale(0.015625)\"/>\r\n     </defs>\r\n     <use xlink:href=\"#DejaVuSans-31\"/>\r\n     <use x=\"63.623047\" xlink:href=\"#DejaVuSans-30\"/>\r\n     <use x=\"127.246094\" xlink:href=\"#DejaVuSans-3a9\"/>\r\n    </g>\r\n   </g>\r\n   <g id=\"text_4\">\r\n    <!-- VDD -->\r\n    <g transform=\"translate(12.3625 56.774656)scale(0.14 -0.14)\">\r\n     <defs>\r\n      <path d=\"M 1831 0 \r\nL 50 4666 \r\nL 709 4666 \r\nL 2188 738 \r\nL 3669 4666 \r\nL 4325 4666 \r\nL 2547 0 \r\nL 1831 0 \r\nz\r\n\" id=\"DejaVuSans-56\" transform=\"scale(0.015625)\"/>\r\n      <path d=\"M 1259 4147 \r\nL 1259 519 \r\nL 2022 519 \r\nQ 2988 519 3436 956 \r\nQ 3884 1394 3884 2338 \r\nQ 3884 3275 3436 3711 \r\nQ 2988 4147 2022 4147 \r\nL 1259 4147 \r\nz\r\nM 628 4666 \r\nL 1925 4666 \r\nQ 3281 4666 3915 4102 \r\nQ 4550 3538 4550 2338 \r\nQ 4550 1131 3912 565 \r\nQ 3275 0 1925 0 \r\nL 628 0 \r\nL 628 4666 \r\nz\r\n\" id=\"DejaVuSans-44\" transform=\"scale(0.015625)\"/>\r\n     </defs>\r\n     <use xlink:href=\"#DejaVuSans-56\"/>\r\n     <use x=\"68.408203\" xlink:href=\"#DejaVuSans-44\"/>\r\n     <use x=\"145.410156\" xlink:href=\"#DejaVuSans-44\"/>\r\n    </g>\r\n    <!-- 220V -->\r\n    <g transform=\"translate(7.2 72.451594)scale(0.14 -0.14)\">\r\n     <use xlink:href=\"#DejaVuSans-32\"/>\r\n     <use x=\"63.623047\" xlink:href=\"#DejaVuSans-32\"/>\r\n     <use x=\"127.246094\" xlink:href=\"#DejaVuSans-30\"/>\r\n     <use x=\"190.869141\" xlink:href=\"#DejaVuSans-56\"/>\r\n    </g>\r\n   </g>\r\n  </g>\r\n </g>\r\n <defs>\r\n  <clipPath id=\"p0639b0410a\">\r\n   <rect height=\"194.31\" width=\"152.2758\" x=\"9.033575\" y=\"7.2\"/>\r\n  </clipPath>\r\n </defs>\r\n</svg>\r\n",
        "metadata": {
         "tags": []
        },
        "output_type": "display_data",
        "text/plain": "<schemdraw.backends.mpl.Figure object at 0x00000200FBFF8B20>"
       }
      ]
     }
    },
    "ab16061f1a58458e9eb79628525c24bd": {
     "model_module": "@jupyter-widgets/output",
     "model_name": "OutputModel",
     "state": {
      "_dom_classes": [],
      "_model_module": "@jupyter-widgets/output",
      "_model_module_version": "1.0.0",
      "_model_name": "OutputModel",
      "_view_count": null,
      "_view_module": "@jupyter-widgets/output",
      "_view_module_version": "1.0.0",
      "_view_name": "OutputView",
      "layout": "IPY_MODEL_2475df5d5db6444a8894107386e526e0",
      "msg_id": "",
      "outputs": [
       {
        "image/png": "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\n",
        "image/svg+xml": "<?xml version=\"1.0\" encoding=\"utf-8\" standalone=\"no\"?>\r\n<!DOCTYPE svg PUBLIC \"-//W3C//DTD SVG 1.1//EN\"\r\n  \"http://www.w3.org/Graphics/SVG/1.1/DTD/svg11.dtd\">\r\n<svg height=\"138.67pt\" version=\"1.1\" viewBox=\"0 0 119.97 138.67\" width=\"119.97pt\" xmlns=\"http://www.w3.org/2000/svg\" xmlns:xlink=\"http://www.w3.org/1999/xlink\">\r\n <metadata>\r\n  <rdf:RDF xmlns:cc=\"http://creativecommons.org/ns#\" xmlns:dc=\"http://purl.org/dc/elements/1.1/\" xmlns:rdf=\"http://www.w3.org/1999/02/22-rdf-syntax-ns#\">\r\n   <cc:Work>\r\n    <dc:type rdf:resource=\"http://purl.org/dc/dcmitype/StillImage\"/>\r\n    <dc:date>2021-06-20T15:24:53.910888</dc:date>\r\n    <dc:format>image/svg+xml</dc:format>\r\n    <dc:creator>\r\n     <cc:Agent>\r\n      <dc:title>Matplotlib v3.4.2, https://matplotlib.org/</dc:title>\r\n     </cc:Agent>\r\n    </dc:creator>\r\n   </cc:Work>\r\n  </rdf:RDF>\r\n </metadata>\r\n <defs>\r\n  <style type=\"text/css\">*{stroke-linecap:butt;stroke-linejoin:round;}</style>\r\n </defs>\r\n <g id=\"figure_1\">\r\n  <g id=\"patch_1\">\r\n   <path d=\"M 0 138.67 \r\nL 119.97 138.67 \r\nL 119.97 0 \r\nL 0 0 \r\nz\r\n\" style=\"fill:none;\"/>\r\n  </g>\r\n  <g id=\"axes_1\">\r\n   <g id=\"line2d_1\">\r\n    <path clip-path=\"url(#pc758d05572)\" d=\"M 10.26 36.61 \r\nL 40.86 36.61 \r\nL 43.41 28.96 \r\nL 48.51 44.26 \r\nL 53.61 28.96 \r\nL 58.71 44.26 \r\nL 63.81 28.96 \r\nL 68.91 44.26 \r\nL 71.46 36.61 \r\nL 102.06 36.61 \r\n\" style=\"fill:none;stroke:#000000;stroke-linecap:round;stroke-width:2;\"/>\r\n   </g>\r\n   <g id=\"line2d_2\">\r\n    <path clip-path=\"url(#pc758d05572)\" d=\"M 102.06 36.61 \r\nL 102.06 79.756 \r\nM 109.71 79.756 \r\nL 94.41 79.756 \r\nM 109.71 85.264 \r\nL 94.41 85.264 \r\nM 102.06 85.264 \r\nL 102.06 128.41 \r\n\" style=\"fill:none;stroke:#000000;stroke-linecap:round;stroke-width:2;\"/>\r\n   </g>\r\n   <g id=\"line2d_3\">\r\n    <path clip-path=\"url(#pc758d05572)\" d=\"M 102.06 128.41 \r\nL 56.16 128.41 \r\nL 10.26 128.41 \r\n\" style=\"fill:none;stroke:#000000;stroke-linecap:round;stroke-width:2;\"/>\r\n   </g>\r\n   <g id=\"line2d_4\">\r\n    <path clip-path=\"url(#pc758d05572)\" d=\"M 10.26 128.41 \r\nL 10.26 82.51 \r\nL 10.26 36.61 \r\n\" style=\"fill:none;stroke:#000000;stroke-linecap:round;stroke-width:2;\"/>\r\n   </g>\r\n   <g id=\"text_1\">\r\n    <!-- 1Ω -->\r\n    <g transform=\"translate(46.356719 22.988438)scale(0.14 -0.14)\">\r\n     <defs>\r\n      <path d=\"M 794 531 \r\nL 1825 531 \r\nL 1825 4091 \r\nL 703 3866 \r\nL 703 4441 \r\nL 1819 4666 \r\nL 2450 4666 \r\nL 2450 531 \r\nL 3481 531 \r\nL 3481 0 \r\nL 794 0 \r\nL 794 531 \r\nz\r\n\" id=\"DejaVuSans-31\" transform=\"scale(0.015625)\"/>\r\n      <path d=\"M 4647 556 \r\nL 4647 0 \r\nL 2772 0 \r\nL 2772 556 \r\nQ 3325 859 3634 1378 \r\nQ 3944 1897 3944 2528 \r\nQ 3944 3278 3531 3731 \r\nQ 3119 4184 2444 4184 \r\nQ 1769 4184 1355 3729 \r\nQ 941 3275 941 2528 \r\nQ 941 1897 1250 1378 \r\nQ 1563 859 2119 556 \r\nL 2119 0 \r\nL 244 0 \r\nL 244 556 \r\nL 1241 556 \r\nQ 747 991 519 1456 \r\nQ 294 1922 294 2497 \r\nQ 294 3491 894 4106 \r\nQ 1491 4722 2444 4722 \r\nQ 3391 4722 3994 4106 \r\nQ 4594 3494 4594 2528 \r\nQ 4594 1922 4372 1459 \r\nQ 4150 997 3647 556 \r\nL 4647 556 \r\nz\r\n\" id=\"DejaVuSans-3a9\" transform=\"scale(0.015625)\"/>\r\n     </defs>\r\n     <use xlink:href=\"#DejaVuSans-31\"/>\r\n     <use x=\"63.623047\" xlink:href=\"#DejaVuSans-3a9\"/>\r\n    </g>\r\n   </g>\r\n   <g id=\"text_2\">\r\n    <!-- 100V -->\r\n    <g transform=\"translate(55.050625 86.373125)scale(0.14 -0.14)\">\r\n     <defs>\r\n      <path d=\"M 2034 4250 \r\nQ 1547 4250 1301 3770 \r\nQ 1056 3291 1056 2328 \r\nQ 1056 1369 1301 889 \r\nQ 1547 409 2034 409 \r\nQ 2525 409 2770 889 \r\nQ 3016 1369 3016 2328 \r\nQ 3016 3291 2770 3770 \r\nQ 2525 4250 2034 4250 \r\nz\r\nM 2034 4750 \r\nQ 2819 4750 3233 4129 \r\nQ 3647 3509 3647 2328 \r\nQ 3647 1150 3233 529 \r\nQ 2819 -91 2034 -91 \r\nQ 1250 -91 836 529 \r\nQ 422 1150 422 2328 \r\nQ 422 3509 836 4129 \r\nQ 1250 4750 2034 4750 \r\nz\r\n\" id=\"DejaVuSans-30\" transform=\"scale(0.015625)\"/>\r\n      <path d=\"M 1831 0 \r\nL 50 4666 \r\nL 709 4666 \r\nL 2188 738 \r\nL 3669 4666 \r\nL 4325 4666 \r\nL 2547 0 \r\nL 1831 0 \r\nz\r\n\" id=\"DejaVuSans-56\" transform=\"scale(0.015625)\"/>\r\n     </defs>\r\n     <use xlink:href=\"#DejaVuSans-31\"/>\r\n     <use x=\"63.623047\" xlink:href=\"#DejaVuSans-30\"/>\r\n     <use x=\"127.246094\" xlink:href=\"#DejaVuSans-30\"/>\r\n     <use x=\"190.869141\" xlink:href=\"#DejaVuSans-56\"/>\r\n    </g>\r\n   </g>\r\n  </g>\r\n </g>\r\n <defs>\r\n  <clipPath id=\"pc758d05572\">\r\n   <rect height=\"124.27\" width=\"105.57\" x=\"7.2\" y=\"7.2\"/>\r\n  </clipPath>\r\n </defs>\r\n</svg>\r\n",
        "metadata": {
         "tags": []
        },
        "output_type": "display_data",
        "text/plain": "<schemdraw.backends.mpl.Figure object at 0x00000200FBFF47F0>"
       },
       {
        "metadata": {
         "tags": []
        },
        "output_type": "stream",
        "stream": "stdout",
        "text": "I (current) is 100.00\n"
       }
      ]
     }
    },
    "aff5914f32484ea8a6ef33f3c1106d62": {
     "model_module": "@jupyter-widgets/controls",
     "model_name": "DropdownModel",
     "state": {
      "_dom_classes": [],
      "_model_module": "@jupyter-widgets/controls",
      "_model_module_version": "1.5.0",
      "_model_name": "DropdownModel",
      "_options_labels": [
       "0",
       "1"
      ],
      "_view_count": null,
      "_view_module": "@jupyter-widgets/controls",
      "_view_module_version": "1.5.0",
      "_view_name": "DropdownView",
      "description": "prevq",
      "description_tooltip": null,
      "disabled": false,
      "index": 0,
      "layout": "IPY_MODEL_a9ebe90b6c6b436c9f34a68874549852",
      "style": "IPY_MODEL_dafff450446142edbb5842064c32f657"
     }
    },
    "b21121f5f5c642a193166883f27f31cd": {
     "model_module": "@jupyter-widgets/base",
     "model_name": "LayoutModel",
     "state": {
      "_model_module": "@jupyter-widgets/base",
      "_model_module_version": "1.2.0",
      "_model_name": "LayoutModel",
      "_view_count": null,
      "_view_module": "@jupyter-widgets/base",
      "_view_module_version": "1.2.0",
      "_view_name": "LayoutView",
      "align_content": null,
      "align_items": null,
      "align_self": null,
      "border": null,
      "bottom": null,
      "display": null,
      "flex": null,
      "flex_flow": null,
      "grid_area": null,
      "grid_auto_columns": null,
      "grid_auto_flow": null,
      "grid_auto_rows": null,
      "grid_column": null,
      "grid_gap": null,
      "grid_row": null,
      "grid_template_areas": null,
      "grid_template_columns": null,
      "grid_template_rows": null,
      "height": null,
      "justify_content": null,
      "justify_items": null,
      "left": null,
      "margin": null,
      "max_height": null,
      "max_width": null,
      "min_height": null,
      "min_width": null,
      "object_fit": null,
      "object_position": null,
      "order": null,
      "overflow": null,
      "overflow_x": null,
      "overflow_y": null,
      "padding": null,
      "right": null,
      "top": null,
      "visibility": null,
      "width": null
     }
    },
    "b49c47dc66f145629042aec4be91d763": {
     "model_module": "@jupyter-widgets/base",
     "model_name": "LayoutModel",
     "state": {
      "_model_module": "@jupyter-widgets/base",
      "_model_module_version": "1.2.0",
      "_model_name": "LayoutModel",
      "_view_count": null,
      "_view_module": "@jupyter-widgets/base",
      "_view_module_version": "1.2.0",
      "_view_name": "LayoutView",
      "align_content": null,
      "align_items": null,
      "align_self": null,
      "border": null,
      "bottom": null,
      "display": null,
      "flex": null,
      "flex_flow": null,
      "grid_area": null,
      "grid_auto_columns": null,
      "grid_auto_flow": null,
      "grid_auto_rows": null,
      "grid_column": null,
      "grid_gap": null,
      "grid_row": null,
      "grid_template_areas": null,
      "grid_template_columns": null,
      "grid_template_rows": null,
      "height": null,
      "justify_content": null,
      "justify_items": null,
      "left": null,
      "margin": null,
      "max_height": null,
      "max_width": null,
      "min_height": null,
      "min_width": null,
      "object_fit": null,
      "object_position": null,
      "order": null,
      "overflow": null,
      "overflow_x": null,
      "overflow_y": null,
      "padding": null,
      "right": null,
      "top": null,
      "visibility": null,
      "width": null
     }
    },
    "b61691bb7cbd44d29b326a9d868f9572": {
     "model_module": "@jupyter-widgets/controls",
     "model_name": "HBoxModel",
     "state": {
      "_dom_classes": [],
      "_model_module": "@jupyter-widgets/controls",
      "_model_module_version": "1.5.0",
      "_model_name": "HBoxModel",
      "_view_count": null,
      "_view_module": "@jupyter-widgets/controls",
      "_view_module_version": "1.5.0",
      "_view_name": "HBoxView",
      "box_style": "",
      "children": [],
      "layout": "IPY_MODEL_418c923dfa9a449e80c1590fa300cd8f"
     }
    },
    "bdbedf3fcac14103b1cf3340c19b37cd": {
     "model_module": "@jupyter-widgets/base",
     "model_name": "LayoutModel",
     "state": {
      "_model_module": "@jupyter-widgets/base",
      "_model_module_version": "1.2.0",
      "_model_name": "LayoutModel",
      "_view_count": null,
      "_view_module": "@jupyter-widgets/base",
      "_view_module_version": "1.2.0",
      "_view_name": "LayoutView",
      "align_content": null,
      "align_items": null,
      "align_self": null,
      "border": null,
      "bottom": null,
      "display": null,
      "flex": null,
      "flex_flow": null,
      "grid_area": null,
      "grid_auto_columns": null,
      "grid_auto_flow": null,
      "grid_auto_rows": null,
      "grid_column": null,
      "grid_gap": null,
      "grid_row": null,
      "grid_template_areas": null,
      "grid_template_columns": null,
      "grid_template_rows": null,
      "height": null,
      "justify_content": null,
      "justify_items": null,
      "left": null,
      "margin": null,
      "max_height": null,
      "max_width": null,
      "min_height": null,
      "min_width": null,
      "object_fit": null,
      "object_position": null,
      "order": null,
      "overflow": null,
      "overflow_x": null,
      "overflow_y": null,
      "padding": null,
      "right": null,
      "top": null,
      "visibility": null,
      "width": null
     }
    },
    "beef65bd6d994cbb83a481dd8be48df8": {
     "model_module": "@jupyter-widgets/output",
     "model_name": "OutputModel",
     "state": {
      "_dom_classes": [],
      "_model_module": "@jupyter-widgets/output",
      "_model_module_version": "1.0.0",
      "_model_name": "OutputModel",
      "_view_count": null,
      "_view_module": "@jupyter-widgets/output",
      "_view_module_version": "1.0.0",
      "_view_name": "OutputView",
      "layout": "IPY_MODEL_05c6a3d601ae4ce496d77248325efe9a",
      "msg_id": "",
      "outputs": [
       {
        "application/vnd.jupyter.widget-view+json": {
         "model_id": "b61691bb7cbd44d29b326a9d868f9572",
         "version_major": 2,
         "version_minor": 0
        },
        "metadata": {
         "tags": []
        },
        "output_type": "display_data",
        "text/plain": "HBox(layout=Layout(padding='35px'))"
       },
       {
        "image/png": "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\n",
        "image/svg+xml": "<?xml version=\"1.0\" encoding=\"utf-8\" standalone=\"no\"?>\r\n<!DOCTYPE svg PUBLIC \"-//W3C//DTD SVG 1.1//EN\"\r\n  \"http://www.w3.org/Graphics/SVG/1.1/DTD/svg11.dtd\">\r\n<svg height=\"54.52pt\" version=\"1.1\" viewBox=\"0 0 167.012188 54.52\" width=\"167.012188pt\" xmlns=\"http://www.w3.org/2000/svg\" xmlns:xlink=\"http://www.w3.org/1999/xlink\">\r\n <metadata>\r\n  <rdf:RDF xmlns:cc=\"http://creativecommons.org/ns#\" xmlns:dc=\"http://purl.org/dc/elements/1.1/\" xmlns:rdf=\"http://www.w3.org/1999/02/22-rdf-syntax-ns#\">\r\n   <cc:Work>\r\n    <dc:type rdf:resource=\"http://purl.org/dc/dcmitype/StillImage\"/>\r\n    <dc:date>2021-05-25T18:33:37.775252</dc:date>\r\n    <dc:format>image/svg+xml</dc:format>\r\n    <dc:creator>\r\n     <cc:Agent>\r\n      <dc:title>Matplotlib v3.4.2, https://matplotlib.org/</dc:title>\r\n     </cc:Agent>\r\n    </dc:creator>\r\n   </cc:Work>\r\n  </rdf:RDF>\r\n </metadata>\r\n <defs>\r\n  <style type=\"text/css\">*{stroke-linecap:butt;stroke-linejoin:round;}</style>\r\n </defs>\r\n <g id=\"figure_1\">\r\n  <g id=\"patch_1\">\r\n   <path d=\"M -0 54.52 \r\nL 167.012188 54.52 \r\nL 167.012188 -0 \r\nL -0 -0 \r\nz\r\n\" style=\"fill:none;\"/>\r\n  </g>\r\n  <g id=\"axes_1\">\r\n   <g id=\"patch_2\">\r\n    <path clip-path=\"url(#pc331808cea)\" d=\"M 90.076375 32.462 \r\nC 91.050201 32.462 91.984272 32.075095 92.672871 31.386496 \r\nC 93.36147 30.697897 93.748375 29.763826 93.748375 28.79 \r\nC 93.748375 27.816174 93.36147 26.882103 92.672871 26.193504 \r\nC 91.984272 25.504905 91.050201 25.118 90.076375 25.118 \r\nC 89.102549 25.118 88.168478 25.504905 87.479879 26.193504 \r\nC 86.79128 26.882103 86.404375 27.816174 86.404375 28.79 \r\nC 86.404375 29.763826 86.79128 30.697897 87.479879 31.386496 \r\nC 88.168478 32.075095 89.102549 32.462 90.076375 32.462 \r\nz\r\n\" style=\"fill:none;stroke:#000000;stroke-linejoin:miter;stroke-width:2;\"/>\r\n   </g>\r\n   <g id=\"line2d_1\">\r\n    <path clip-path=\"url(#pc331808cea)\" d=\"M 71.104375 44.09 \r\nL 72.084649 44.058565 \r\nL 73.060896 43.964387 \r\nL 74.029102 43.807855 \r\nL 74.98529 43.589611 \r\nL 75.925531 43.310553 \r\nL 76.84596 42.971826 \r\nL 77.742796 42.574824 \r\nL 78.612354 42.121176 \r\nL 79.451059 41.612748 \r\nL 80.255466 41.051628 \r\nL 81.022269 40.440123 \r\nL 81.748318 39.780745 \r\nL 82.430628 39.076204 \r\nL 83.066397 38.329394 \r\nL 83.65301 37.543385 \r\nL 84.188059 36.721406 \r\nL 84.669344 35.866836 \r\nL 85.094888 34.983185 \r\nL 85.462942 34.074085 \r\nL 85.771993 33.143272 \r\nL 86.020772 32.19457 \r\nL 86.208256 31.231878 \r\nL 86.333675 30.259152 \r\nL 86.396514 29.280389 \r\nL 86.396514 28.299611 \r\nL 86.333675 27.320848 \r\nL 86.208256 26.348122 \r\nL 86.020772 25.38543 \r\nL 85.771993 24.436728 \r\nL 85.462942 23.505915 \r\nL 85.094888 22.596815 \r\nL 84.669344 21.713164 \r\nL 84.188059 20.858594 \r\nL 83.65301 20.036615 \r\nL 83.066397 19.250606 \r\nL 82.430628 18.503796 \r\nL 81.748318 17.799255 \r\nL 81.022269 17.139877 \r\nL 80.255466 16.528372 \r\nL 79.451059 15.967252 \r\nL 78.612354 15.458824 \r\nL 77.742796 15.005176 \r\nL 76.84596 14.608174 \r\nL 75.925531 14.269447 \r\nL 74.98529 13.990389 \r\nL 74.029102 13.772145 \r\nL 73.060896 13.615613 \r\nL 72.084649 13.521435 \r\nL 71.104375 13.49 \r\nL 71.104375 13.49 \r\nL 51.214375 13.49 \r\nL 51.214375 28.79 \r\nL 51.214375 44.09 \r\nL 71.104375 44.09 \r\n\" style=\"fill:none;stroke:#000000;stroke-linecap:round;stroke-width:2;\"/>\r\n   </g>\r\n   <g id=\"line2d_2\">\r\n    <path clip-path=\"url(#pc331808cea)\" d=\"M 40.504375 36.44 \r\nL 51.214375 36.44 \r\n\" style=\"fill:none;stroke:#000000;stroke-linecap:round;stroke-width:2;\"/>\r\n   </g>\r\n   <g id=\"line2d_3\">\r\n    <path clip-path=\"url(#pc331808cea)\" d=\"M 40.504375 21.14 \r\nL 51.214375 21.14 \r\n\" style=\"fill:none;stroke:#000000;stroke-linecap:round;stroke-width:2;\"/>\r\n   </g>\r\n   <g id=\"line2d_4\">\r\n    <path clip-path=\"url(#pc331808cea)\" d=\"M 40.504375 28.79 \r\nM 93.748375 28.79 \r\nL 97.114375 28.79 \r\n\" style=\"fill:none;stroke:#000000;stroke-linecap:round;stroke-width:2;\"/>\r\n   </g>\r\n   <g id=\"text_1\">\r\n    <!-- A=0 -->\r\n    <g transform=\"translate(7.228437 25.003125)scale(0.14 -0.14)\">\r\n     <defs>\r\n      <path d=\"M 2188 4044 \r\nL 1331 1722 \r\nL 3047 1722 \r\nL 2188 4044 \r\nz\r\nM 1831 4666 \r\nL 2547 4666 \r\nL 4325 0 \r\nL 3669 0 \r\nL 3244 1197 \r\nL 1141 1197 \r\nL 716 0 \r\nL 50 0 \r\nL 1831 4666 \r\nz\r\n\" id=\"DejaVuSans-41\" transform=\"scale(0.015625)\"/>\r\n      <path d=\"M 678 2906 \r\nL 4684 2906 \r\nL 4684 2381 \r\nL 678 2381 \r\nL 678 2906 \r\nz\r\nM 678 1631 \r\nL 4684 1631 \r\nL 4684 1100 \r\nL 678 1100 \r\nL 678 1631 \r\nz\r\n\" id=\"DejaVuSans-3d\" transform=\"scale(0.015625)\"/>\r\n      <path d=\"M 2034 4250 \r\nQ 1547 4250 1301 3770 \r\nQ 1056 3291 1056 2328 \r\nQ 1056 1369 1301 889 \r\nQ 1547 409 2034 409 \r\nQ 2525 409 2770 889 \r\nQ 3016 1369 3016 2328 \r\nQ 3016 3291 2770 3770 \r\nQ 2525 4250 2034 4250 \r\nz\r\nM 2034 4750 \r\nQ 2819 4750 3233 4129 \r\nQ 3647 3509 3647 2328 \r\nQ 3647 1150 3233 529 \r\nQ 2819 -91 2034 -91 \r\nQ 1250 -91 836 529 \r\nQ 422 1150 422 2328 \r\nQ 422 3509 836 4129 \r\nQ 1250 4750 2034 4750 \r\nz\r\n\" id=\"DejaVuSans-30\" transform=\"scale(0.015625)\"/>\r\n     </defs>\r\n     <use xlink:href=\"#DejaVuSans-41\"/>\r\n     <use x=\"68.408203\" xlink:href=\"#DejaVuSans-3d\"/>\r\n     <use x=\"152.197266\" xlink:href=\"#DejaVuSans-30\"/>\r\n    </g>\r\n   </g>\r\n   <g id=\"text_2\">\r\n    <!-- B=0 -->\r\n    <g transform=\"translate(7.2 40.303125)scale(0.14 -0.14)\">\r\n     <defs>\r\n      <path d=\"M 1259 2228 \r\nL 1259 519 \r\nL 2272 519 \r\nQ 2781 519 3026 730 \r\nQ 3272 941 3272 1375 \r\nQ 3272 1813 3026 2020 \r\nQ 2781 2228 2272 2228 \r\nL 1259 2228 \r\nz\r\nM 1259 4147 \r\nL 1259 2741 \r\nL 2194 2741 \r\nQ 2656 2741 2882 2914 \r\nQ 3109 3088 3109 3444 \r\nQ 3109 3797 2882 3972 \r\nQ 2656 4147 2194 4147 \r\nL 1259 4147 \r\nz\r\nM 628 4666 \r\nL 2241 4666 \r\nQ 2963 4666 3353 4366 \r\nQ 3744 4066 3744 3513 \r\nQ 3744 3084 3544 2831 \r\nQ 3344 2578 2956 2516 \r\nQ 3422 2416 3680 2098 \r\nQ 3938 1781 3938 1306 \r\nQ 3938 681 3513 340 \r\nQ 3088 0 2303 0 \r\nL 628 0 \r\nL 628 4666 \r\nz\r\n\" id=\"DejaVuSans-42\" transform=\"scale(0.015625)\"/>\r\n     </defs>\r\n     <use xlink:href=\"#DejaVuSans-42\"/>\r\n     <use x=\"68.603516\" xlink:href=\"#DejaVuSans-3d\"/>\r\n     <use x=\"152.392578\" xlink:href=\"#DejaVuSans-30\"/>\r\n    </g>\r\n   </g>\r\n   <g id=\"text_3\">\r\n    <!-- A&amp;B = 1 -->\r\n    <g transform=\"translate(100.174375 32.653125)scale(0.14 -0.14)\">\r\n     <defs>\r\n      <path d=\"M 1556 2509 \r\nQ 1272 2256 1139 2004 \r\nQ 1006 1753 1006 1478 \r\nQ 1006 1022 1337 719 \r\nQ 1669 416 2169 416 \r\nQ 2466 416 2725 514 \r\nQ 2984 613 3213 813 \r\nL 1556 2509 \r\nz\r\nM 1997 2859 \r\nL 3584 1234 \r\nQ 3769 1513 3872 1830 \r\nQ 3975 2147 3994 2503 \r\nL 4575 2503 \r\nQ 4538 2091 4375 1687 \r\nQ 4213 1284 3922 891 \r\nL 4794 0 \r\nL 4006 0 \r\nL 3559 459 \r\nQ 3234 181 2878 45 \r\nQ 2522 -91 2113 -91 \r\nQ 1359 -91 881 339 \r\nQ 403 769 403 1441 \r\nQ 403 1841 612 2192 \r\nQ 822 2544 1241 2853 \r\nQ 1091 3050 1012 3245 \r\nQ 934 3441 934 3628 \r\nQ 934 4134 1281 4442 \r\nQ 1628 4750 2203 4750 \r\nQ 2463 4750 2720 4694 \r\nQ 2978 4638 3244 4525 \r\nL 3244 3956 \r\nQ 2972 4103 2725 4179 \r\nQ 2478 4256 2266 4256 \r\nQ 1938 4256 1733 4082 \r\nQ 1528 3909 1528 3634 \r\nQ 1528 3475 1620 3314 \r\nQ 1713 3153 1997 2859 \r\nz\r\n\" id=\"DejaVuSans-26\" transform=\"scale(0.015625)\"/>\r\n      <path id=\"DejaVuSans-20\" transform=\"scale(0.015625)\"/>\r\n      <path d=\"M 794 531 \r\nL 1825 531 \r\nL 1825 4091 \r\nL 703 3866 \r\nL 703 4441 \r\nL 1819 4666 \r\nL 2450 4666 \r\nL 2450 531 \r\nL 3481 531 \r\nL 3481 0 \r\nL 794 0 \r\nL 794 531 \r\nz\r\n\" id=\"DejaVuSans-31\" transform=\"scale(0.015625)\"/>\r\n     </defs>\r\n     <use xlink:href=\"#DejaVuSans-41\"/>\r\n     <use x=\"68.408203\" xlink:href=\"#DejaVuSans-26\"/>\r\n     <use x=\"146.386719\" xlink:href=\"#DejaVuSans-42\"/>\r\n     <use x=\"214.990234\" xlink:href=\"#DejaVuSans-20\"/>\r\n     <use x=\"246.777344\" xlink:href=\"#DejaVuSans-3d\"/>\r\n     <use x=\"330.566406\" xlink:href=\"#DejaVuSans-20\"/>\r\n     <use x=\"362.353516\" xlink:href=\"#DejaVuSans-31\"/>\r\n    </g>\r\n   </g>\r\n  </g>\r\n </g>\r\n <defs>\r\n  <clipPath id=\"pc331808cea\">\r\n   <rect height=\"40.12\" width=\"142.4328\" x=\"9.761575\" y=\"7.2\"/>\r\n  </clipPath>\r\n </defs>\r\n</svg>\r\n",
        "metadata": {
         "tags": []
        },
        "output_type": "display_data",
        "text/plain": "<schemdraw.logic.logic.And at 0x193fae448b0>"
       }
      ]
     }
    },
    "c151f9bc12114f50bc8974bd257c4822": {
     "model_module": "@jupyter-widgets/base",
     "model_name": "LayoutModel",
     "state": {
      "_model_module": "@jupyter-widgets/base",
      "_model_module_version": "1.2.0",
      "_model_name": "LayoutModel",
      "_view_count": null,
      "_view_module": "@jupyter-widgets/base",
      "_view_module_version": "1.2.0",
      "_view_name": "LayoutView",
      "align_content": null,
      "align_items": null,
      "align_self": null,
      "border": null,
      "bottom": null,
      "display": null,
      "flex": null,
      "flex_flow": null,
      "grid_area": null,
      "grid_auto_columns": null,
      "grid_auto_flow": null,
      "grid_auto_rows": null,
      "grid_column": null,
      "grid_gap": null,
      "grid_row": null,
      "grid_template_areas": null,
      "grid_template_columns": null,
      "grid_template_rows": null,
      "height": null,
      "justify_content": null,
      "justify_items": null,
      "left": null,
      "margin": null,
      "max_height": null,
      "max_width": null,
      "min_height": null,
      "min_width": null,
      "object_fit": null,
      "object_position": null,
      "order": null,
      "overflow": null,
      "overflow_x": null,
      "overflow_y": null,
      "padding": null,
      "right": null,
      "top": null,
      "visibility": null,
      "width": null
     }
    },
    "c302cfcf6c124560bbbc83c6e7f838d8": {
     "model_module": "@jupyter-widgets/controls",
     "model_name": "DropdownModel",
     "state": {
      "_dom_classes": [],
      "_model_module": "@jupyter-widgets/controls",
      "_model_module_version": "1.5.0",
      "_model_name": "DropdownModel",
      "_options_labels": [
       "0",
       "1"
      ],
      "_view_count": null,
      "_view_module": "@jupyter-widgets/controls",
      "_view_module_version": "1.5.0",
      "_view_name": "DropdownView",
      "description": "R",
      "description_tooltip": null,
      "disabled": false,
      "index": 0,
      "layout": "IPY_MODEL_21e8a64ae33b4c419dbe76f4300b59ca",
      "style": "IPY_MODEL_662280ef74d940698257997d8b3f7f7b"
     }
    },
    "c9cc6cba68ce4835b40dafcd69145142": {
     "model_module": "@jupyter-widgets/controls",
     "model_name": "HBoxModel",
     "state": {
      "_dom_classes": [],
      "_model_module": "@jupyter-widgets/controls",
      "_model_module_version": "1.5.0",
      "_model_name": "HBoxModel",
      "_view_count": null,
      "_view_module": "@jupyter-widgets/controls",
      "_view_module_version": "1.5.0",
      "_view_name": "HBoxView",
      "box_style": "",
      "children": [],
      "layout": "IPY_MODEL_eb5f7b5242f44d4686285dfbf23cdbc9"
     }
    },
    "cb2db6463acd46a58e74aae1367da430": {
     "model_module": "@jupyter-widgets/output",
     "model_name": "OutputModel",
     "state": {
      "_dom_classes": [],
      "_model_module": "@jupyter-widgets/output",
      "_model_module_version": "1.0.0",
      "_model_name": "OutputModel",
      "_view_count": null,
      "_view_module": "@jupyter-widgets/output",
      "_view_module_version": "1.0.0",
      "_view_name": "OutputView",
      "layout": "IPY_MODEL_d55e9c5475774f1eba0c07f8eb62678a",
      "msg_id": "",
      "outputs": [
       {
        "application/vnd.jupyter.widget-view+json": {
         "model_id": "c9cc6cba68ce4835b40dafcd69145142",
         "version_major": 2,
         "version_minor": 0
        },
        "metadata": {
         "tags": []
        },
        "output_type": "display_data",
        "text/plain": "HBox(layout=Layout(padding='35px'))"
       },
       {
        "image/png": "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\n",
        "image/svg+xml": "<?xml version=\"1.0\" encoding=\"utf-8\" standalone=\"no\"?>\r\n<!DOCTYPE svg PUBLIC \"-//W3C//DTD SVG 1.1//EN\"\r\n  \"http://www.w3.org/Graphics/SVG/1.1/DTD/svg11.dtd\">\r\n<svg height=\"131.02pt\" version=\"1.1\" viewBox=\"0 0 251.022625 131.02\" width=\"251.022625pt\" xmlns=\"http://www.w3.org/2000/svg\" xmlns:xlink=\"http://www.w3.org/1999/xlink\">\r\n <metadata>\r\n  <rdf:RDF xmlns:cc=\"http://creativecommons.org/ns#\" xmlns:dc=\"http://purl.org/dc/elements/1.1/\" xmlns:rdf=\"http://www.w3.org/1999/02/22-rdf-syntax-ns#\">\r\n   <cc:Work>\r\n    <dc:type rdf:resource=\"http://purl.org/dc/dcmitype/StillImage\"/>\r\n    <dc:date>2021-06-20T15:25:01.363190</dc:date>\r\n    <dc:format>image/svg+xml</dc:format>\r\n    <dc:creator>\r\n     <cc:Agent>\r\n      <dc:title>Matplotlib v3.4.2, https://matplotlib.org/</dc:title>\r\n     </cc:Agent>\r\n    </dc:creator>\r\n   </cc:Work>\r\n  </rdf:RDF>\r\n </metadata>\r\n <defs>\r\n  <style type=\"text/css\">*{stroke-linecap:butt;stroke-linejoin:round;}</style>\r\n </defs>\r\n <g id=\"figure_1\">\r\n  <g id=\"patch_1\">\r\n   <path d=\"M 0 131.02 \r\nL 251.022625 131.02 \r\nL 251.022625 0 \r\nL 0 0 \r\nz\r\n\" style=\"fill:none;\"/>\r\n  </g>\r\n  <g id=\"axes_1\">\r\n   <g id=\"patch_2\">\r\n    <path clip-path=\"url(#p68e909444e)\" d=\"M 115.200625 47.66 \r\nC 116.1474 47.66 117.055525 47.283842 117.724996 46.614371 \r\nC 118.394467 45.9449 118.770625 45.036775 118.770625 44.09 \r\nC 118.770625 43.143225 118.394467 42.2351 117.724996 41.565629 \r\nC 117.055525 40.896158 116.1474 40.52 115.200625 40.52 \r\nC 114.25385 40.52 113.345725 40.896158 112.676254 41.565629 \r\nC 112.006783 42.2351 111.630625 43.143225 111.630625 44.09 \r\nC 111.630625 45.036775 112.006783 45.9449 112.676254 46.614371 \r\nC 113.345725 47.283842 114.25385 47.66 115.200625 47.66 \r\nz\r\n\" style=\"fill:none;stroke:#000000;stroke-linejoin:miter;stroke-width:2;\"/>\r\n   </g>\r\n   <g id=\"line2d_1\">\r\n    <path clip-path=\"url(#p68e909444e)\" d=\"M 146.820625 112.94 \r\nL 146.820625 100.19 \r\nL 126.420625 100.19 \r\nL 126.420625 79.79 \r\nL 146.820625 79.79 \r\nL 146.820625 67.04 \r\n\" style=\"fill:none;stroke:#000000;stroke-linecap:round;stroke-width:2;\"/>\r\n   </g>\r\n   <g id=\"line2d_2\">\r\n    <path clip-path=\"url(#p68e909444e)\" d=\"M 118.770625 100.19 \r\nL 118.770625 79.79 \r\n\" style=\"fill:none;stroke:#000000;stroke-linecap:round;stroke-width:2;\"/>\r\n   </g>\r\n   <g id=\"line2d_3\">\r\n    <path clip-path=\"url(#p68e909444e)\" d=\"M 118.770625 89.99 \r\nL 102.450625 89.99 \r\n\" style=\"fill:none;stroke:#000000;stroke-linecap:round;stroke-width:2;\"/>\r\n   </g>\r\n   <g id=\"line2d_4\">\r\n    <path clip-path=\"url(#p68e909444e)\" d=\"M 146.820625 112.94 \r\nL 100.920625 112.94 \r\nL 55.020625 112.94 \r\n\" style=\"fill:none;stroke:#000000;stroke-linecap:round;stroke-width:2;\"/>\r\n   </g>\r\n   <g id=\"line2d_5\">\r\n    <path clip-path=\"url(#p68e909444e)\" d=\"M 146.820625 112.94 \r\nL 192.720625 112.94 \r\nL 238.620625 112.94 \r\n\" style=\"fill:none;stroke:#000000;stroke-linecap:round;stroke-width:2;\"/>\r\n   </g>\r\n   <g id=\"line2d_6\">\r\n    <path clip-path=\"url(#p68e909444e)\" d=\"M 146.820625 67.04 \r\nL 146.820625 54.29 \r\nL 126.420625 54.29 \r\nL 126.420625 33.89 \r\nL 146.820625 33.89 \r\nL 146.820625 21.14 \r\n\" style=\"fill:none;stroke:#000000;stroke-linecap:round;stroke-width:2;\"/>\r\n   </g>\r\n   <g id=\"line2d_7\">\r\n    <path clip-path=\"url(#p68e909444e)\" d=\"M 118.770625 54.29 \r\nL 118.770625 33.89 \r\n\" style=\"fill:none;stroke:#000000;stroke-linecap:round;stroke-width:2;\"/>\r\n   </g>\r\n   <g id=\"line2d_8\">\r\n    <path clip-path=\"url(#p68e909444e)\" d=\"M 111.630625 44.09 \r\nL 102.450625 44.09 \r\n\" style=\"fill:none;stroke:#000000;stroke-linecap:round;stroke-width:2;\"/>\r\n   </g>\r\n   <g id=\"line2d_9\">\r\n    <path clip-path=\"url(#p68e909444e)\" d=\"M 146.820625 21.14 \r\nL 100.920625 21.14 \r\nL 55.020625 21.14 \r\n\" style=\"fill:none;stroke:#000000;stroke-linecap:round;stroke-width:2;\"/>\r\n   </g>\r\n   <g id=\"line2d_10\">\r\n    <path clip-path=\"url(#p68e909444e)\" d=\"M 146.820625 21.14 \r\nL 192.720625 21.14 \r\nL 238.620625 21.14 \r\n\" style=\"fill:none;stroke:#000000;stroke-linecap:round;stroke-width:2;\"/>\r\n   </g>\r\n   <g id=\"line2d_11\">\r\n    <path clip-path=\"url(#p68e909444e)\" d=\"M 146.820625 67.04 \r\nL 177.420625 67.04 \r\nL 208.020625 67.04 \r\n\" style=\"fill:none;stroke:#000000;stroke-linecap:round;stroke-width:2;\"/>\r\n   </g>\r\n   <g id=\"line2d_12\">\r\n    <path clip-path=\"url(#p68e909444e)\" d=\"M 102.450625 44.09 \r\nL 102.450625 55.565 \r\nL 102.450625 67.04 \r\n\" style=\"fill:none;stroke:#000000;stroke-linecap:round;stroke-width:2;\"/>\r\n   </g>\r\n   <g id=\"line2d_13\">\r\n    <path clip-path=\"url(#p68e909444e)\" d=\"M 102.450625 67.04 \r\nL 87.150625 67.04 \r\nL 71.850625 67.04 \r\n\" style=\"fill:none;stroke:#000000;stroke-linecap:round;stroke-width:2;\"/>\r\n   </g>\r\n   <g id=\"line2d_14\">\r\n    <path clip-path=\"url(#p68e909444e)\" d=\"M 102.450625 67.04 \r\nL 102.450625 78.515 \r\nL 102.450625 89.99 \r\n\" style=\"fill:none;stroke:#000000;stroke-linecap:round;stroke-width:2;\"/>\r\n   </g>\r\n   <g id=\"text_1\">\r\n    <!-- open -->\r\n    <g style=\"fill:#ff0000;\" transform=\"translate(149.880625 93.853125)scale(0.14 -0.14)\">\r\n     <defs>\r\n      <path d=\"M 1959 3097 \r\nQ 1497 3097 1228 2736 \r\nQ 959 2375 959 1747 \r\nQ 959 1119 1226 758 \r\nQ 1494 397 1959 397 \r\nQ 2419 397 2687 759 \r\nQ 2956 1122 2956 1747 \r\nQ 2956 2369 2687 2733 \r\nQ 2419 3097 1959 3097 \r\nz\r\nM 1959 3584 \r\nQ 2709 3584 3137 3096 \r\nQ 3566 2609 3566 1747 \r\nQ 3566 888 3137 398 \r\nQ 2709 -91 1959 -91 \r\nQ 1206 -91 779 398 \r\nQ 353 888 353 1747 \r\nQ 353 2609 779 3096 \r\nQ 1206 3584 1959 3584 \r\nz\r\n\" id=\"DejaVuSans-6f\" transform=\"scale(0.015625)\"/>\r\n      <path d=\"M 1159 525 \r\nL 1159 -1331 \r\nL 581 -1331 \r\nL 581 3500 \r\nL 1159 3500 \r\nL 1159 2969 \r\nQ 1341 3281 1617 3432 \r\nQ 1894 3584 2278 3584 \r\nQ 2916 3584 3314 3078 \r\nQ 3713 2572 3713 1747 \r\nQ 3713 922 3314 415 \r\nQ 2916 -91 2278 -91 \r\nQ 1894 -91 1617 61 \r\nQ 1341 213 1159 525 \r\nz\r\nM 3116 1747 \r\nQ 3116 2381 2855 2742 \r\nQ 2594 3103 2138 3103 \r\nQ 1681 3103 1420 2742 \r\nQ 1159 2381 1159 1747 \r\nQ 1159 1113 1420 752 \r\nQ 1681 391 2138 391 \r\nQ 2594 391 2855 752 \r\nQ 3116 1113 3116 1747 \r\nz\r\n\" id=\"DejaVuSans-70\" transform=\"scale(0.015625)\"/>\r\n      <path d=\"M 3597 1894 \r\nL 3597 1613 \r\nL 953 1613 \r\nQ 991 1019 1311 708 \r\nQ 1631 397 2203 397 \r\nQ 2534 397 2845 478 \r\nQ 3156 559 3463 722 \r\nL 3463 178 \r\nQ 3153 47 2828 -22 \r\nQ 2503 -91 2169 -91 \r\nQ 1331 -91 842 396 \r\nQ 353 884 353 1716 \r\nQ 353 2575 817 3079 \r\nQ 1281 3584 2069 3584 \r\nQ 2775 3584 3186 3129 \r\nQ 3597 2675 3597 1894 \r\nz\r\nM 3022 2063 \r\nQ 3016 2534 2758 2815 \r\nQ 2500 3097 2075 3097 \r\nQ 1594 3097 1305 2825 \r\nQ 1016 2553 972 2059 \r\nL 3022 2063 \r\nz\r\n\" id=\"DejaVuSans-65\" transform=\"scale(0.015625)\"/>\r\n      <path d=\"M 3513 2113 \r\nL 3513 0 \r\nL 2938 0 \r\nL 2938 2094 \r\nQ 2938 2591 2744 2837 \r\nQ 2550 3084 2163 3084 \r\nQ 1697 3084 1428 2787 \r\nQ 1159 2491 1159 1978 \r\nL 1159 0 \r\nL 581 0 \r\nL 581 3500 \r\nL 1159 3500 \r\nL 1159 2956 \r\nQ 1366 3272 1645 3428 \r\nQ 1925 3584 2291 3584 \r\nQ 2894 3584 3203 3211 \r\nQ 3513 2838 3513 2113 \r\nz\r\n\" id=\"DejaVuSans-6e\" transform=\"scale(0.015625)\"/>\r\n     </defs>\r\n     <use xlink:href=\"#DejaVuSans-6f\"/>\r\n     <use x=\"61.181641\" xlink:href=\"#DejaVuSans-70\"/>\r\n     <use x=\"124.658203\" xlink:href=\"#DejaVuSans-65\"/>\r\n     <use x=\"186.181641\" xlink:href=\"#DejaVuSans-6e\"/>\r\n    </g>\r\n   </g>\r\n   <g id=\"text_2\">\r\n    <!-- VSS:0 -->\r\n    <g transform=\"translate(10.984375 116.803125)scale(0.14 -0.14)\">\r\n     <defs>\r\n      <path d=\"M 1831 0 \r\nL 50 4666 \r\nL 709 4666 \r\nL 2188 738 \r\nL 3669 4666 \r\nL 4325 4666 \r\nL 2547 0 \r\nL 1831 0 \r\nz\r\n\" id=\"DejaVuSans-56\" transform=\"scale(0.015625)\"/>\r\n      <path d=\"M 3425 4513 \r\nL 3425 3897 \r\nQ 3066 4069 2747 4153 \r\nQ 2428 4238 2131 4238 \r\nQ 1616 4238 1336 4038 \r\nQ 1056 3838 1056 3469 \r\nQ 1056 3159 1242 3001 \r\nQ 1428 2844 1947 2747 \r\nL 2328 2669 \r\nQ 3034 2534 3370 2195 \r\nQ 3706 1856 3706 1288 \r\nQ 3706 609 3251 259 \r\nQ 2797 -91 1919 -91 \r\nQ 1588 -91 1214 -16 \r\nQ 841 59 441 206 \r\nL 441 856 \r\nQ 825 641 1194 531 \r\nQ 1563 422 1919 422 \r\nQ 2459 422 2753 634 \r\nQ 3047 847 3047 1241 \r\nQ 3047 1584 2836 1778 \r\nQ 2625 1972 2144 2069 \r\nL 1759 2144 \r\nQ 1053 2284 737 2584 \r\nQ 422 2884 422 3419 \r\nQ 422 4038 858 4394 \r\nQ 1294 4750 2059 4750 \r\nQ 2388 4750 2728 4690 \r\nQ 3069 4631 3425 4513 \r\nz\r\n\" id=\"DejaVuSans-53\" transform=\"scale(0.015625)\"/>\r\n      <path d=\"M 750 794 \r\nL 1409 794 \r\nL 1409 0 \r\nL 750 0 \r\nL 750 794 \r\nz\r\nM 750 3309 \r\nL 1409 3309 \r\nL 1409 2516 \r\nL 750 2516 \r\nL 750 3309 \r\nz\r\n\" id=\"DejaVuSans-3a\" transform=\"scale(0.015625)\"/>\r\n      <path d=\"M 2034 4250 \r\nQ 1547 4250 1301 3770 \r\nQ 1056 3291 1056 2328 \r\nQ 1056 1369 1301 889 \r\nQ 1547 409 2034 409 \r\nQ 2525 409 2770 889 \r\nQ 3016 1369 3016 2328 \r\nQ 3016 3291 2770 3770 \r\nQ 2525 4250 2034 4250 \r\nz\r\nM 2034 4750 \r\nQ 2819 4750 3233 4129 \r\nQ 3647 3509 3647 2328 \r\nQ 3647 1150 3233 529 \r\nQ 2819 -91 2034 -91 \r\nQ 1250 -91 836 529 \r\nQ 422 1150 422 2328 \r\nQ 422 3509 836 4129 \r\nQ 1250 4750 2034 4750 \r\nz\r\n\" id=\"DejaVuSans-30\" transform=\"scale(0.015625)\"/>\r\n     </defs>\r\n     <use xlink:href=\"#DejaVuSans-56\"/>\r\n     <use x=\"68.408203\" xlink:href=\"#DejaVuSans-53\"/>\r\n     <use x=\"131.884766\" xlink:href=\"#DejaVuSans-53\"/>\r\n     <use x=\"195.361328\" xlink:href=\"#DejaVuSans-3a\"/>\r\n     <use x=\"229.052734\" xlink:href=\"#DejaVuSans-30\"/>\r\n    </g>\r\n   </g>\r\n   <g id=\"text_3\">\r\n    <!-- closed -->\r\n    <g style=\"fill:#008000;\" transform=\"translate(149.880625 47.953125)scale(0.14 -0.14)\">\r\n     <defs>\r\n      <path d=\"M 3122 3366 \r\nL 3122 2828 \r\nQ 2878 2963 2633 3030 \r\nQ 2388 3097 2138 3097 \r\nQ 1578 3097 1268 2742 \r\nQ 959 2388 959 1747 \r\nQ 959 1106 1268 751 \r\nQ 1578 397 2138 397 \r\nQ 2388 397 2633 464 \r\nQ 2878 531 3122 666 \r\nL 3122 134 \r\nQ 2881 22 2623 -34 \r\nQ 2366 -91 2075 -91 \r\nQ 1284 -91 818 406 \r\nQ 353 903 353 1747 \r\nQ 353 2603 823 3093 \r\nQ 1294 3584 2113 3584 \r\nQ 2378 3584 2631 3529 \r\nQ 2884 3475 3122 3366 \r\nz\r\n\" id=\"DejaVuSans-63\" transform=\"scale(0.015625)\"/>\r\n      <path d=\"M 603 4863 \r\nL 1178 4863 \r\nL 1178 0 \r\nL 603 0 \r\nL 603 4863 \r\nz\r\n\" id=\"DejaVuSans-6c\" transform=\"scale(0.015625)\"/>\r\n      <path d=\"M 2834 3397 \r\nL 2834 2853 \r\nQ 2591 2978 2328 3040 \r\nQ 2066 3103 1784 3103 \r\nQ 1356 3103 1142 2972 \r\nQ 928 2841 928 2578 \r\nQ 928 2378 1081 2264 \r\nQ 1234 2150 1697 2047 \r\nL 1894 2003 \r\nQ 2506 1872 2764 1633 \r\nQ 3022 1394 3022 966 \r\nQ 3022 478 2636 193 \r\nQ 2250 -91 1575 -91 \r\nQ 1294 -91 989 -36 \r\nQ 684 19 347 128 \r\nL 347 722 \r\nQ 666 556 975 473 \r\nQ 1284 391 1588 391 \r\nQ 1994 391 2212 530 \r\nQ 2431 669 2431 922 \r\nQ 2431 1156 2273 1281 \r\nQ 2116 1406 1581 1522 \r\nL 1381 1569 \r\nQ 847 1681 609 1914 \r\nQ 372 2147 372 2553 \r\nQ 372 3047 722 3315 \r\nQ 1072 3584 1716 3584 \r\nQ 2034 3584 2315 3537 \r\nQ 2597 3491 2834 3397 \r\nz\r\n\" id=\"DejaVuSans-73\" transform=\"scale(0.015625)\"/>\r\n      <path d=\"M 2906 2969 \r\nL 2906 4863 \r\nL 3481 4863 \r\nL 3481 0 \r\nL 2906 0 \r\nL 2906 525 \r\nQ 2725 213 2448 61 \r\nQ 2172 -91 1784 -91 \r\nQ 1150 -91 751 415 \r\nQ 353 922 353 1747 \r\nQ 353 2572 751 3078 \r\nQ 1150 3584 1784 3584 \r\nQ 2172 3584 2448 3432 \r\nQ 2725 3281 2906 2969 \r\nz\r\nM 947 1747 \r\nQ 947 1113 1208 752 \r\nQ 1469 391 1925 391 \r\nQ 2381 391 2643 752 \r\nQ 2906 1113 2906 1747 \r\nQ 2906 2381 2643 2742 \r\nQ 2381 3103 1925 3103 \r\nQ 1469 3103 1208 2742 \r\nQ 947 2381 947 1747 \r\nz\r\n\" id=\"DejaVuSans-64\" transform=\"scale(0.015625)\"/>\r\n     </defs>\r\n     <use xlink:href=\"#DejaVuSans-63\"/>\r\n     <use x=\"54.980469\" xlink:href=\"#DejaVuSans-6c\"/>\r\n     <use x=\"82.763672\" xlink:href=\"#DejaVuSans-6f\"/>\r\n     <use x=\"143.945312\" xlink:href=\"#DejaVuSans-73\"/>\r\n     <use x=\"196.044922\" xlink:href=\"#DejaVuSans-65\"/>\r\n     <use x=\"257.568359\" xlink:href=\"#DejaVuSans-64\"/>\r\n    </g>\r\n   </g>\r\n   <g id=\"text_4\">\r\n    <!-- VDD:1 -->\r\n    <g transform=\"translate(7.2 25.003125)scale(0.14 -0.14)\">\r\n     <defs>\r\n      <path d=\"M 1259 4147 \r\nL 1259 519 \r\nL 2022 519 \r\nQ 2988 519 3436 956 \r\nQ 3884 1394 3884 2338 \r\nQ 3884 3275 3436 3711 \r\nQ 2988 4147 2022 4147 \r\nL 1259 4147 \r\nz\r\nM 628 4666 \r\nL 1925 4666 \r\nQ 3281 4666 3915 4102 \r\nQ 4550 3538 4550 2338 \r\nQ 4550 1131 3912 565 \r\nQ 3275 0 1925 0 \r\nL 628 0 \r\nL 628 4666 \r\nz\r\n\" id=\"DejaVuSans-44\" transform=\"scale(0.015625)\"/>\r\n      <path d=\"M 794 531 \r\nL 1825 531 \r\nL 1825 4091 \r\nL 703 3866 \r\nL 703 4441 \r\nL 1819 4666 \r\nL 2450 4666 \r\nL 2450 531 \r\nL 3481 531 \r\nL 3481 0 \r\nL 794 0 \r\nL 794 531 \r\nz\r\n\" id=\"DejaVuSans-31\" transform=\"scale(0.015625)\"/>\r\n     </defs>\r\n     <use xlink:href=\"#DejaVuSans-56\"/>\r\n     <use x=\"68.408203\" xlink:href=\"#DejaVuSans-44\"/>\r\n     <use x=\"145.410156\" xlink:href=\"#DejaVuSans-44\"/>\r\n     <use x=\"222.412109\" xlink:href=\"#DejaVuSans-3a\"/>\r\n     <use x=\"256.103516\" xlink:href=\"#DejaVuSans-31\"/>\r\n    </g>\r\n   </g>\r\n   <g id=\"text_5\">\r\n    <!-- Q=1 -->\r\n    <g transform=\"translate(211.080625 70.903125)scale(0.14 -0.14)\">\r\n     <defs>\r\n      <path d=\"M 2522 4238 \r\nQ 1834 4238 1429 3725 \r\nQ 1025 3213 1025 2328 \r\nQ 1025 1447 1429 934 \r\nQ 1834 422 2522 422 \r\nQ 3209 422 3611 934 \r\nQ 4013 1447 4013 2328 \r\nQ 4013 3213 3611 3725 \r\nQ 3209 4238 2522 4238 \r\nz\r\nM 3406 84 \r\nL 4238 -825 \r\nL 3475 -825 \r\nL 2784 -78 \r\nQ 2681 -84 2626 -87 \r\nQ 2572 -91 2522 -91 \r\nQ 1538 -91 948 567 \r\nQ 359 1225 359 2328 \r\nQ 359 3434 948 4092 \r\nQ 1538 4750 2522 4750 \r\nQ 3503 4750 4090 4092 \r\nQ 4678 3434 4678 2328 \r\nQ 4678 1516 4351 937 \r\nQ 4025 359 3406 84 \r\nz\r\n\" id=\"DejaVuSans-51\" transform=\"scale(0.015625)\"/>\r\n      <path d=\"M 678 2906 \r\nL 4684 2906 \r\nL 4684 2381 \r\nL 678 2381 \r\nL 678 2906 \r\nz\r\nM 678 1631 \r\nL 4684 1631 \r\nL 4684 1100 \r\nL 678 1100 \r\nL 678 1631 \r\nz\r\n\" id=\"DejaVuSans-3d\" transform=\"scale(0.015625)\"/>\r\n     </defs>\r\n     <use xlink:href=\"#DejaVuSans-51\"/>\r\n     <use x=\"78.710938\" xlink:href=\"#DejaVuSans-3d\"/>\r\n     <use x=\"162.5\" xlink:href=\"#DejaVuSans-31\"/>\r\n    </g>\r\n   </g>\r\n   <g id=\"text_6\">\r\n    <!-- A=0 -->\r\n    <g transform=\"translate(38.574688 70.903125)scale(0.14 -0.14)\">\r\n     <defs>\r\n      <path d=\"M 2188 4044 \r\nL 1331 1722 \r\nL 3047 1722 \r\nL 2188 4044 \r\nz\r\nM 1831 4666 \r\nL 2547 4666 \r\nL 4325 0 \r\nL 3669 0 \r\nL 3244 1197 \r\nL 1141 1197 \r\nL 716 0 \r\nL 50 0 \r\nL 1831 4666 \r\nz\r\n\" id=\"DejaVuSans-41\" transform=\"scale(0.015625)\"/>\r\n     </defs>\r\n     <use xlink:href=\"#DejaVuSans-41\"/>\r\n     <use x=\"68.408203\" xlink:href=\"#DejaVuSans-3d\"/>\r\n     <use x=\"152.197266\" xlink:href=\"#DejaVuSans-30\"/>\r\n    </g>\r\n   </g>\r\n  </g>\r\n </g>\r\n <defs>\r\n  <clipPath id=\"p68e909444e\">\r\n   <rect height=\"116.62\" width=\"232.3254\" x=\"11.497225\" y=\"7.2\"/>\r\n  </clipPath>\r\n </defs>\r\n</svg>\r\n",
        "metadata": {
         "tags": []
        },
        "output_type": "display_data",
        "text/plain": "<schemdraw.backends.mpl.Figure object at 0x00000200FC320D30>"
       }
      ]
     }
    },
    "d2b0105752034c82b3456c7d1a1aed21": {
     "model_module": "@jupyter-widgets/base",
     "model_name": "LayoutModel",
     "state": {
      "_model_module": "@jupyter-widgets/base",
      "_model_module_version": "1.2.0",
      "_model_name": "LayoutModel",
      "_view_count": null,
      "_view_module": "@jupyter-widgets/base",
      "_view_module_version": "1.2.0",
      "_view_name": "LayoutView",
      "align_content": null,
      "align_items": null,
      "align_self": null,
      "border": null,
      "bottom": null,
      "display": null,
      "flex": null,
      "flex_flow": null,
      "grid_area": null,
      "grid_auto_columns": null,
      "grid_auto_flow": null,
      "grid_auto_rows": null,
      "grid_column": null,
      "grid_gap": null,
      "grid_row": null,
      "grid_template_areas": null,
      "grid_template_columns": null,
      "grid_template_rows": null,
      "height": null,
      "justify_content": null,
      "justify_items": null,
      "left": null,
      "margin": null,
      "max_height": null,
      "max_width": null,
      "min_height": null,
      "min_width": null,
      "object_fit": null,
      "object_position": null,
      "order": null,
      "overflow": null,
      "overflow_x": null,
      "overflow_y": null,
      "padding": null,
      "right": null,
      "top": null,
      "visibility": null,
      "width": null
     }
    },
    "d2ff0ce72aab4efa8c3e813de849899d": {
     "model_module": "@jupyter-widgets/controls",
     "model_name": "DescriptionStyleModel",
     "state": {
      "_model_module": "@jupyter-widgets/controls",
      "_model_module_version": "1.5.0",
      "_model_name": "DescriptionStyleModel",
      "_view_count": null,
      "_view_module": "@jupyter-widgets/base",
      "_view_module_version": "1.2.0",
      "_view_name": "StyleView",
      "description_width": ""
     }
    },
    "d557032c2d2c4b44966c06910b705116": {
     "model_module": "@jupyter-widgets/controls",
     "model_name": "HBoxModel",
     "state": {
      "_dom_classes": [],
      "_model_module": "@jupyter-widgets/controls",
      "_model_module_version": "1.5.0",
      "_model_name": "HBoxModel",
      "_view_count": null,
      "_view_module": "@jupyter-widgets/controls",
      "_view_module_version": "1.5.0",
      "_view_name": "HBoxView",
      "box_style": "",
      "children": [],
      "layout": "IPY_MODEL_470537f50a194b38856f02f5d1b61e63"
     }
    },
    "d55e9c5475774f1eba0c07f8eb62678a": {
     "model_module": "@jupyter-widgets/base",
     "model_name": "LayoutModel",
     "state": {
      "_model_module": "@jupyter-widgets/base",
      "_model_module_version": "1.2.0",
      "_model_name": "LayoutModel",
      "_view_count": null,
      "_view_module": "@jupyter-widgets/base",
      "_view_module_version": "1.2.0",
      "_view_name": "LayoutView",
      "align_content": null,
      "align_items": null,
      "align_self": null,
      "border": null,
      "bottom": null,
      "display": null,
      "flex": null,
      "flex_flow": null,
      "grid_area": null,
      "grid_auto_columns": null,
      "grid_auto_flow": null,
      "grid_auto_rows": null,
      "grid_column": null,
      "grid_gap": null,
      "grid_row": null,
      "grid_template_areas": null,
      "grid_template_columns": null,
      "grid_template_rows": null,
      "height": null,
      "justify_content": null,
      "justify_items": null,
      "left": null,
      "margin": null,
      "max_height": null,
      "max_width": null,
      "min_height": null,
      "min_width": null,
      "object_fit": null,
      "object_position": null,
      "order": null,
      "overflow": null,
      "overflow_x": null,
      "overflow_y": null,
      "padding": null,
      "right": null,
      "top": null,
      "visibility": null,
      "width": null
     }
    },
    "d72a39d5623b45169a449e9d267d6cc8": {
     "model_module": "@jupyter-widgets/base",
     "model_name": "LayoutModel",
     "state": {
      "_model_module": "@jupyter-widgets/base",
      "_model_module_version": "1.2.0",
      "_model_name": "LayoutModel",
      "_view_count": null,
      "_view_module": "@jupyter-widgets/base",
      "_view_module_version": "1.2.0",
      "_view_name": "LayoutView",
      "align_content": null,
      "align_items": null,
      "align_self": null,
      "border": null,
      "bottom": null,
      "display": null,
      "flex": null,
      "flex_flow": null,
      "grid_area": null,
      "grid_auto_columns": null,
      "grid_auto_flow": null,
      "grid_auto_rows": null,
      "grid_column": null,
      "grid_gap": null,
      "grid_row": null,
      "grid_template_areas": null,
      "grid_template_columns": null,
      "grid_template_rows": null,
      "height": null,
      "justify_content": null,
      "justify_items": null,
      "left": null,
      "margin": null,
      "max_height": null,
      "max_width": null,
      "min_height": null,
      "min_width": null,
      "object_fit": null,
      "object_position": null,
      "order": null,
      "overflow": null,
      "overflow_x": null,
      "overflow_y": null,
      "padding": null,
      "right": null,
      "top": null,
      "visibility": null,
      "width": null
     }
    },
    "d907227f6b1440589a0a72a5368e4f74": {
     "model_module": "@jupyter-widgets/base",
     "model_name": "LayoutModel",
     "state": {
      "_model_module": "@jupyter-widgets/base",
      "_model_module_version": "1.2.0",
      "_model_name": "LayoutModel",
      "_view_count": null,
      "_view_module": "@jupyter-widgets/base",
      "_view_module_version": "1.2.0",
      "_view_name": "LayoutView",
      "align_content": null,
      "align_items": null,
      "align_self": null,
      "border": null,
      "bottom": null,
      "display": null,
      "flex": null,
      "flex_flow": null,
      "grid_area": null,
      "grid_auto_columns": null,
      "grid_auto_flow": null,
      "grid_auto_rows": null,
      "grid_column": null,
      "grid_gap": null,
      "grid_row": null,
      "grid_template_areas": null,
      "grid_template_columns": null,
      "grid_template_rows": null,
      "height": null,
      "justify_content": null,
      "justify_items": null,
      "left": null,
      "margin": null,
      "max_height": null,
      "max_width": null,
      "min_height": null,
      "min_width": null,
      "object_fit": null,
      "object_position": null,
      "order": null,
      "overflow": null,
      "overflow_x": null,
      "overflow_y": null,
      "padding": null,
      "right": null,
      "top": null,
      "visibility": null,
      "width": null
     }
    },
    "d96585996e5145f6a2f59eda4c16f1c0": {
     "model_module": "@jupyter-widgets/controls",
     "model_name": "IntSliderModel",
     "state": {
      "_dom_classes": [],
      "_model_module": "@jupyter-widgets/controls",
      "_model_module_version": "1.5.0",
      "_model_name": "IntSliderModel",
      "_view_count": null,
      "_view_module": "@jupyter-widgets/controls",
      "_view_module_version": "1.5.0",
      "_view_name": "IntSliderView",
      "continuous_update": true,
      "description": "V",
      "description_tooltip": null,
      "disabled": false,
      "layout": "IPY_MODEL_d72a39d5623b45169a449e9d267d6cc8",
      "max": 400,
      "min": 100,
      "orientation": "horizontal",
      "readout": true,
      "readout_format": "d",
      "step": 1,
      "style": "IPY_MODEL_3a03c3e494774c04b1c0b31ac3dfe56e",
      "value": 100
     }
    },
    "dafff450446142edbb5842064c32f657": {
     "model_module": "@jupyter-widgets/controls",
     "model_name": "DescriptionStyleModel",
     "state": {
      "_model_module": "@jupyter-widgets/controls",
      "_model_module_version": "1.5.0",
      "_model_name": "DescriptionStyleModel",
      "_view_count": null,
      "_view_module": "@jupyter-widgets/base",
      "_view_module_version": "1.2.0",
      "_view_name": "StyleView",
      "description_width": ""
     }
    },
    "db7effa389014cc181c96acc26a6eb97": {
     "model_module": "@jupyter-widgets/controls",
     "model_name": "SliderStyleModel",
     "state": {
      "_model_module": "@jupyter-widgets/controls",
      "_model_module_version": "1.5.0",
      "_model_name": "SliderStyleModel",
      "_view_count": null,
      "_view_module": "@jupyter-widgets/base",
      "_view_module_version": "1.2.0",
      "_view_name": "StyleView",
      "description_width": "",
      "handle_color": null
     }
    },
    "de581af6d79d4f208501cc741c9f8eea": {
     "model_module": "@jupyter-widgets/controls",
     "model_name": "DropdownModel",
     "state": {
      "_dom_classes": [],
      "_model_module": "@jupyter-widgets/controls",
      "_model_module_version": "1.5.0",
      "_model_name": "DropdownModel",
      "_options_labels": [
       "0",
       "1"
      ],
      "_view_count": null,
      "_view_module": "@jupyter-widgets/controls",
      "_view_module_version": "1.5.0",
      "_view_name": "DropdownView",
      "description": "A",
      "description_tooltip": null,
      "disabled": false,
      "index": 0,
      "layout": "IPY_MODEL_04df2379e4624042b86fbe4f2c82cc4c",
      "style": "IPY_MODEL_7b8af83102844908a512231f475ae898"
     }
    },
    "e23c658f505641c89323085399c550e7": {
     "model_module": "@jupyter-widgets/base",
     "model_name": "LayoutModel",
     "state": {
      "_model_module": "@jupyter-widgets/base",
      "_model_module_version": "1.2.0",
      "_model_name": "LayoutModel",
      "_view_count": null,
      "_view_module": "@jupyter-widgets/base",
      "_view_module_version": "1.2.0",
      "_view_name": "LayoutView",
      "align_content": null,
      "align_items": null,
      "align_self": null,
      "border": null,
      "bottom": null,
      "display": null,
      "flex": null,
      "flex_flow": null,
      "grid_area": null,
      "grid_auto_columns": null,
      "grid_auto_flow": null,
      "grid_auto_rows": null,
      "grid_column": null,
      "grid_gap": null,
      "grid_row": null,
      "grid_template_areas": null,
      "grid_template_columns": null,
      "grid_template_rows": null,
      "height": null,
      "justify_content": null,
      "justify_items": null,
      "left": null,
      "margin": null,
      "max_height": null,
      "max_width": null,
      "min_height": null,
      "min_width": null,
      "object_fit": null,
      "object_position": null,
      "order": null,
      "overflow": null,
      "overflow_x": null,
      "overflow_y": null,
      "padding": null,
      "right": null,
      "top": null,
      "visibility": null,
      "width": null
     }
    },
    "e2740323616d49eaaacb80d47129a2b9": {
     "model_module": "@jupyter-widgets/controls",
     "model_name": "VBoxModel",
     "state": {
      "_dom_classes": [
       "widget-interact"
      ],
      "_model_module": "@jupyter-widgets/controls",
      "_model_module_version": "1.5.0",
      "_model_name": "VBoxModel",
      "_view_count": null,
      "_view_module": "@jupyter-widgets/controls",
      "_view_module_version": "1.5.0",
      "_view_name": "VBoxView",
      "box_style": "",
      "children": [
       "IPY_MODEL_ef840e8d38644e5c8f74a7b5f0c96f31",
       "IPY_MODEL_3bab7cd32b634ebcbc93b7c5c8c0a09a",
       "IPY_MODEL_80012e6f51bc40cb9257c7791445bf5f"
      ],
      "layout": "IPY_MODEL_bdbedf3fcac14103b1cf3340c19b37cd"
     }
    },
    "e35cde914dd548d38e990dc8b7a9cdf7": {
     "model_module": "@jupyter-widgets/controls",
     "model_name": "DropdownModel",
     "state": {
      "_dom_classes": [],
      "_model_module": "@jupyter-widgets/controls",
      "_model_module_version": "1.5.0",
      "_model_name": "DropdownModel",
      "_options_labels": [
       "0",
       "1"
      ],
      "_view_count": null,
      "_view_module": "@jupyter-widgets/controls",
      "_view_module_version": "1.5.0",
      "_view_name": "DropdownView",
      "description": "A",
      "description_tooltip": null,
      "disabled": false,
      "index": 0,
      "layout": "IPY_MODEL_a64bcd44c96244b3990ea1cdbf873f28",
      "style": "IPY_MODEL_7680144146db4b29b7f6242cb0eed805"
     }
    },
    "e5a20b323ed94fdbb7ee762858094755": {
     "model_module": "@jupyter-widgets/base",
     "model_name": "LayoutModel",
     "state": {
      "_model_module": "@jupyter-widgets/base",
      "_model_module_version": "1.2.0",
      "_model_name": "LayoutModel",
      "_view_count": null,
      "_view_module": "@jupyter-widgets/base",
      "_view_module_version": "1.2.0",
      "_view_name": "LayoutView",
      "align_content": null,
      "align_items": null,
      "align_self": null,
      "border": null,
      "bottom": null,
      "display": null,
      "flex": null,
      "flex_flow": null,
      "grid_area": null,
      "grid_auto_columns": null,
      "grid_auto_flow": null,
      "grid_auto_rows": null,
      "grid_column": null,
      "grid_gap": null,
      "grid_row": null,
      "grid_template_areas": null,
      "grid_template_columns": null,
      "grid_template_rows": null,
      "height": null,
      "justify_content": null,
      "justify_items": null,
      "left": null,
      "margin": null,
      "max_height": null,
      "max_width": null,
      "min_height": null,
      "min_width": null,
      "object_fit": null,
      "object_position": null,
      "order": null,
      "overflow": null,
      "overflow_x": null,
      "overflow_y": null,
      "padding": null,
      "right": null,
      "top": null,
      "visibility": null,
      "width": null
     }
    },
    "eb5f7b5242f44d4686285dfbf23cdbc9": {
     "model_module": "@jupyter-widgets/base",
     "model_name": "LayoutModel",
     "state": {
      "_model_module": "@jupyter-widgets/base",
      "_model_module_version": "1.2.0",
      "_model_name": "LayoutModel",
      "_view_count": null,
      "_view_module": "@jupyter-widgets/base",
      "_view_module_version": "1.2.0",
      "_view_name": "LayoutView",
      "align_content": null,
      "align_items": null,
      "align_self": null,
      "border": null,
      "bottom": null,
      "display": null,
      "flex": null,
      "flex_flow": null,
      "grid_area": null,
      "grid_auto_columns": null,
      "grid_auto_flow": null,
      "grid_auto_rows": null,
      "grid_column": null,
      "grid_gap": null,
      "grid_row": null,
      "grid_template_areas": null,
      "grid_template_columns": null,
      "grid_template_rows": null,
      "height": null,
      "justify_content": null,
      "justify_items": null,
      "left": null,
      "margin": null,
      "max_height": null,
      "max_width": null,
      "min_height": null,
      "min_width": null,
      "object_fit": null,
      "object_position": null,
      "order": null,
      "overflow": null,
      "overflow_x": null,
      "overflow_y": null,
      "padding": "35px",
      "right": null,
      "top": null,
      "visibility": null,
      "width": null
     }
    },
    "ef840e8d38644e5c8f74a7b5f0c96f31": {
     "model_module": "@jupyter-widgets/controls",
     "model_name": "DropdownModel",
     "state": {
      "_dom_classes": [],
      "_model_module": "@jupyter-widgets/controls",
      "_model_module_version": "1.5.0",
      "_model_name": "DropdownModel",
      "_options_labels": [
       "0",
       "1"
      ],
      "_view_count": null,
      "_view_module": "@jupyter-widgets/controls",
      "_view_module_version": "1.5.0",
      "_view_name": "DropdownView",
      "description": "A",
      "description_tooltip": null,
      "disabled": false,
      "index": 0,
      "layout": "IPY_MODEL_e23c658f505641c89323085399c550e7",
      "style": "IPY_MODEL_d2ff0ce72aab4efa8c3e813de849899d"
     }
    },
    "f116ca965222424abc18987a0451e243": {
     "model_module": "@jupyter-widgets/controls",
     "model_name": "IntSliderModel",
     "state": {
      "_dom_classes": [],
      "_model_module": "@jupyter-widgets/controls",
      "_model_module_version": "1.5.0",
      "_model_name": "IntSliderModel",
      "_view_count": null,
      "_view_module": "@jupyter-widgets/controls",
      "_view_module_version": "1.5.0",
      "_view_name": "IntSliderView",
      "continuous_update": true,
      "description": "R",
      "description_tooltip": null,
      "disabled": false,
      "layout": "IPY_MODEL_3d1372fb176847f3b12a6c4e37fbaabb",
      "max": 200,
      "min": 10,
      "orientation": "horizontal",
      "readout": true,
      "readout_format": "d",
      "step": 1,
      "style": "IPY_MODEL_f72c73f5da194fc297b14dd9964bbd06",
      "value": 10
     }
    },
    "f1d03ecb95d74aa6b9dc32d869ab0784": {
     "model_module": "@jupyter-widgets/base",
     "model_name": "LayoutModel",
     "state": {
      "_model_module": "@jupyter-widgets/base",
      "_model_module_version": "1.2.0",
      "_model_name": "LayoutModel",
      "_view_count": null,
      "_view_module": "@jupyter-widgets/base",
      "_view_module_version": "1.2.0",
      "_view_name": "LayoutView",
      "align_content": null,
      "align_items": null,
      "align_self": null,
      "border": null,
      "bottom": null,
      "display": null,
      "flex": null,
      "flex_flow": null,
      "grid_area": null,
      "grid_auto_columns": null,
      "grid_auto_flow": null,
      "grid_auto_rows": null,
      "grid_column": null,
      "grid_gap": null,
      "grid_row": null,
      "grid_template_areas": null,
      "grid_template_columns": null,
      "grid_template_rows": null,
      "height": null,
      "justify_content": null,
      "justify_items": null,
      "left": null,
      "margin": null,
      "max_height": null,
      "max_width": null,
      "min_height": null,
      "min_width": null,
      "object_fit": null,
      "object_position": null,
      "order": null,
      "overflow": null,
      "overflow_x": null,
      "overflow_y": null,
      "padding": null,
      "right": null,
      "top": null,
      "visibility": null,
      "width": null
     }
    },
    "f5daa2af70694634a850337504688ec8": {
     "model_module": "@jupyter-widgets/controls",
     "model_name": "DescriptionStyleModel",
     "state": {
      "_model_module": "@jupyter-widgets/controls",
      "_model_module_version": "1.5.0",
      "_model_name": "DescriptionStyleModel",
      "_view_count": null,
      "_view_module": "@jupyter-widgets/base",
      "_view_module_version": "1.2.0",
      "_view_name": "StyleView",
      "description_width": ""
     }
    },
    "f72c73f5da194fc297b14dd9964bbd06": {
     "model_module": "@jupyter-widgets/controls",
     "model_name": "SliderStyleModel",
     "state": {
      "_model_module": "@jupyter-widgets/controls",
      "_model_module_version": "1.5.0",
      "_model_name": "SliderStyleModel",
      "_view_count": null,
      "_view_module": "@jupyter-widgets/base",
      "_view_module_version": "1.2.0",
      "_view_name": "StyleView",
      "description_width": "",
      "handle_color": null
     }
    },
    "fd9a56ba273341d09e29d1eff80493b9": {
     "model_module": "@jupyter-widgets/base",
     "model_name": "LayoutModel",
     "state": {
      "_model_module": "@jupyter-widgets/base",
      "_model_module_version": "1.2.0",
      "_model_name": "LayoutModel",
      "_view_count": null,
      "_view_module": "@jupyter-widgets/base",
      "_view_module_version": "1.2.0",
      "_view_name": "LayoutView",
      "align_content": null,
      "align_items": null,
      "align_self": null,
      "border": null,
      "bottom": null,
      "display": null,
      "flex": null,
      "flex_flow": null,
      "grid_area": null,
      "grid_auto_columns": null,
      "grid_auto_flow": null,
      "grid_auto_rows": null,
      "grid_column": null,
      "grid_gap": null,
      "grid_row": null,
      "grid_template_areas": null,
      "grid_template_columns": null,
      "grid_template_rows": null,
      "height": null,
      "justify_content": null,
      "justify_items": null,
      "left": null,
      "margin": null,
      "max_height": null,
      "max_width": null,
      "min_height": null,
      "min_width": null,
      "object_fit": null,
      "object_position": null,
      "order": null,
      "overflow": null,
      "overflow_x": null,
      "overflow_y": null,
      "padding": null,
      "right": null,
      "top": null,
      "visibility": null,
      "width": null
     }
    }
   }
  }
 },
 "nbformat": 4,
 "nbformat_minor": 1
}
